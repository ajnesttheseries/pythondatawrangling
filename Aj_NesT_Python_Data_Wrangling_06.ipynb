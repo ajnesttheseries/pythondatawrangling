{
  "nbformat": 4,
  "nbformat_minor": 0,
  "metadata": {
    "colab": {
      "name": "Aj.NesT - Python Data Wrangling #6",
      "provenance": [],
      "collapsed_sections": []
    },
    "kernelspec": {
      "name": "python3",
      "display_name": "Python 3"
    },
    "language_info": {
      "name": "python"
    }
  },
  "cells": [
    {
      "cell_type": "markdown",
      "metadata": {
        "id": "OtrCo05tRE73"
      },
      "source": [
        "#Data Wrangling with Pandas\n",
        "\n",
        "[Aj. NesT the Series](http://bit.ly/ajnesttheseriesSubscribe)\n",
        "\n",
        "Referenence: [Pyhton Data Cleaning Cookbook 2020](https://github.com/PacktPublishing/Python-Data-Cleaning-Cookbook)\n",
        "\n",
        "##Practice 2: การจัดการค่าที่หายไป การลบข้อมูลแถวที่ซ้ำกัน และการจัดระเบียบข้อมูลตามกลุ่ม\n",
        "\n",
        "--> Managing Missing Values, Removing Duplicated Rows, and Organizing using Groupby \n",
        "\n",
        "[Python Pandas Cheat Sheets](https://www.enthought.com/wp-content/uploads/Enthought-Python-Pandas-Cheat-Sheets-1-8-v1.0.2.pdf)"
      ]
    },
    {
      "cell_type": "markdown",
      "metadata": {
        "id": "WYvmolVuVVMN"
      },
      "source": [
        "##Workshop 6: ตรวจหาค่าที่หายไป ใส่ค่าข้อมูลใหม่ และลบแถวของข้อมูลที่หายไป\n",
        "--> Finding, Inserting missing values and Deleting rows of missing values\n",
        "\n",
        "###Input Datasets\n",
        "\n",
        "* **[covidtotalswithmissings.csv](https://drive.google.com/file/d/1fZygbwQ5-8i-fFAMG-3BTur_hYf6S4V-/view?usp=sharing)** - The Covid-19 data were missing for Hong Kong 2020"
      ]
    },
    {
      "cell_type": "markdown",
      "metadata": {
        "id": "mySii_FKZZz-"
      },
      "source": [
        "####Question 6: เราจะตรวจหาข้อมูลที่หายไปแล้วทำการใส่ค่าเพื่อแก้ไขข้อมูลได้อย่างไร?\n",
        "\n",
        "**STEP 1:** นำเข้า Datasets โดยทำการ Upload ไฟล์ covidtotalswithmissings.csv ขึ้น Google Colab (ไฟล์นี้จะถูกลบเมื่อเราหลุดจาก Session หรือปิด Browser) หรือ Python IDE เช่น PyCharm, VSCode, Juputer Notebook, etc.\n",
        "\n",
        "**STEP 2:** นำเข้า pandas และ numpy libraries มาใช้งาน\n",
        "\n",
        "**STEP 3:** ทำการอ่านไฟล์ .csv ด้วย pandas เก็บเป็น Dataframe\n",
        "\n",
        "ใช้คำสั่ง .read_csv()"
      ]
    },
    {
      "cell_type": "code",
      "metadata": {
        "id": "4YIssfaTQMPI",
        "colab": {
          "base_uri": "https://localhost:8080/"
        },
        "outputId": "63e40294-06cc-499c-adc5-4ff7eaca721f"
      },
      "source": [
        "#import pandas and numpy\n",
        "import pandas as pd\n",
        "import numpy as np\n",
        "covidtotals = pd.read_csv(\"/content/covidtotalswithmissings.csv\")\n",
        "print(covidtotals)"
      ],
      "execution_count": null,
      "outputs": [
        {
          "output_type": "stream",
          "name": "stdout",
          "text": [
            "    iso_code    lastdate        location  ...  median_age  gdp_per_capita  hosp_beds\n",
            "0        AFG  2020-06-01     Afghanistan  ...        18.6        1803.987       0.50\n",
            "1        ALB  2020-06-01         Albania  ...        38.0       11803.431       2.89\n",
            "2        DZA  2020-06-01         Algeria  ...        29.1       13913.839       1.90\n",
            "3        AND  2020-06-01         Andorra  ...         NaN             NaN        NaN\n",
            "4        AGO  2020-06-01          Angola  ...        16.8        5819.495        NaN\n",
            "..       ...         ...             ...  ...         ...             ...        ...\n",
            "205      VNM  2020-06-01         Vietnam  ...        32.6        6171.884       2.60\n",
            "206      ESH  2020-06-01  Western Sahara  ...        28.4             NaN        NaN\n",
            "207      YEM  2020-06-01           Yemen  ...        20.3        1479.147       0.70\n",
            "208      ZMB  2020-06-01          Zambia  ...        17.7        3689.251       2.00\n",
            "209      ZWE  2020-06-01        Zimbabwe  ...        19.6        1899.775       1.70\n",
            "\n",
            "[210 rows x 12 columns]\n"
          ]
        }
      ]
    },
    {
      "cell_type": "markdown",
      "metadata": {
        "id": "-k8IB6y2D9fM"
      },
      "source": [
        "**STEP 4:** ตั้งค่าและแสดง index และ size ของ covidtotalsmissings data\n",
        "\n",
        "ใช้คำสั่ง set_index() ให้คอลัมน์ \"iso_code\" เป็นคอลัมน์ index"
      ]
    },
    {
      "cell_type": "code",
      "metadata": {
        "colab": {
          "base_uri": "https://localhost:8080/"
        },
        "id": "nMKrkyG08GE0",
        "outputId": "ceb53a83-242a-4ba5-b26d-7f1942d3fd16"
      },
      "source": [
        "#set up the cumulative and demographic columns กดแค่ครั้งเดียว \n",
        "covidtotals.set_index(\"iso_code\", inplace=True) #ย้อนกลับไปให้ใช้ reset_index()\n",
        "print(covidtotals)"
      ],
      "execution_count": null,
      "outputs": [
        {
          "output_type": "stream",
          "name": "stdout",
          "text": [
            "            lastdate        location  ...  gdp_per_capita  hosp_beds\n",
            "iso_code                              ...                           \n",
            "AFG       2020-06-01     Afghanistan  ...        1803.987       0.50\n",
            "ALB       2020-06-01         Albania  ...       11803.431       2.89\n",
            "DZA       2020-06-01         Algeria  ...       13913.839       1.90\n",
            "AND       2020-06-01         Andorra  ...             NaN        NaN\n",
            "AGO       2020-06-01          Angola  ...        5819.495        NaN\n",
            "...              ...             ...  ...             ...        ...\n",
            "VNM       2020-06-01         Vietnam  ...        6171.884       2.60\n",
            "ESH       2020-06-01  Western Sahara  ...             NaN        NaN\n",
            "YEM       2020-06-01           Yemen  ...        1479.147       0.70\n",
            "ZMB       2020-06-01          Zambia  ...        3689.251       2.00\n",
            "ZWE       2020-06-01        Zimbabwe  ...        1899.775       1.70\n",
            "\n",
            "[210 rows x 11 columns]\n"
          ]
        }
      ]
    },
    {
      "cell_type": "markdown",
      "metadata": {
        "id": "TfB6BKmo01PU"
      },
      "source": [
        "**STEP 5:** ตั้งค่าคอลัมน์ข้อมูลสะสม Cumulatice และคอลัมน์ข้อมูลประชากรศาสตร์ Demographic"
      ]
    },
    {
      "cell_type": "code",
      "metadata": {
        "colab": {
          "base_uri": "https://localhost:8080/"
        },
        "id": "Fva0bgu11aSs",
        "outputId": "84395e32-df93-4e5c-f00f-a3d8a68e5589"
      },
      "source": [
        "#set up the cumulative and demographic columns\n",
        "totvars = ['location','total_cases','total_deaths','total_cases_pm',\n",
        "  'total_deaths_pm']\n",
        "demovars = ['population','pop_density','median_age','gdp_per_capita',\n",
        "  'hosp_beds']\n",
        "print(totvars)\n",
        "print(demovars)"
      ],
      "execution_count": null,
      "outputs": [
        {
          "output_type": "stream",
          "name": "stdout",
          "text": [
            "['location', 'total_cases', 'total_deaths', 'total_cases_pm', 'total_deaths_pm']\n",
            "['population', 'pop_density', 'median_age', 'gdp_per_capita', 'hosp_beds']\n"
          ]
        }
      ]
    },
    {
      "cell_type": "markdown",
      "metadata": {
        "id": "OuaPeJUh1nHU"
      },
      "source": [
        "**STEP 6:** เช็คค่า missing data ที่หายไปของคอลัมน์กลุ่ม demographic\n",
        "\n",
        "Check the demographic columns for missing data.\n",
        "\n",
        "(1) ใช้คำสั่ง .isnull().sum(axis=0) \n",
        "\n",
        "- 0 คือ เช็คหัว Columns ทำการนับจำนวน missing data \n",
        "\n",
        "- พบว่า population = 0 แสดงว่าไม่พบค่า missing data เป็น compltete data\n",
        "\n",
        "- พบว่าข้อมูล hosp_beds = 46 ประเทศ พบค่า missing data คิดเป็นประมาณ 20% จากทั้งหมด 210 ประเทศ\n",
        "\n",
        "(2) ใช้คำสั่ง .isnull().sum(axis=1) \n",
        "- 1 คือ เช็ค Rows ของ Index ทำการนับจำนวน missing data พบว่า AND มี missing data 3 ค่า\n",
        "\n",
        "(3) ใช้คำสั่ง .value_counts() นับค่าจำนวน missing data ที่พบของ demovarmisscnt\n",
        "- พบว่ามี 156 ประเทศ ข้อมูลครบสมบูรณ์ complete values\n",
        "\n",
        "- พบว่า 24 ประเทศ มีข้อมูลหายไป 1 ค่า (missing data) \n",
        "- 12 ประเทศ มีข้อมูลหายไป 2 ค่า 10 ประเทศ มีข้อมูลหายไป 3 ค่า และ 8 ประเทศ มีข้อมูลหายไป 8 ค่า"
      ]
    },
    {
      "cell_type": "code",
      "metadata": {
        "colab": {
          "base_uri": "https://localhost:8080/"
        },
        "id": "K3HZR78q1OXw",
        "outputId": "5b55ede4-6a26-4bfc-a336-9957cdb947df"
      },
      "source": [
        "#check the demographic columns for missing\n",
        "print(covidtotals[demovars].isnull().sum(axis=0))  #แสดง missing data ของ columns\n",
        "demovarsmisscnt = covidtotals[demovars].isnull().sum(axis=1) #แสดง missing data ของ index rows\n",
        "print() #ขึ้นบรรทัดใหม่\n",
        "print(demovarsmisscnt)\n",
        "print()\n",
        "print(demovarsmisscnt.value_counts())"
      ],
      "execution_count": null,
      "outputs": [
        {
          "output_type": "stream",
          "name": "stdout",
          "text": [
            "population         0\n",
            "pop_density       12\n",
            "median_age        24\n",
            "gdp_per_capita    28\n",
            "hosp_beds         46\n",
            "dtype: int64\n",
            "\n",
            "iso_code\n",
            "AFG    0\n",
            "ALB    0\n",
            "DZA    0\n",
            "AND    3\n",
            "AGO    1\n",
            "      ..\n",
            "VNM    0\n",
            "ESH    3\n",
            "YEM    0\n",
            "ZMB    0\n",
            "ZWE    0\n",
            "Length: 210, dtype: int64\n",
            "\n",
            "0    156\n",
            "1     24\n",
            "2     12\n",
            "3     10\n",
            "4      8\n",
            "dtype: int64\n"
          ]
        }
      ]
    },
    {
      "cell_type": "markdown",
      "metadata": {
        "id": "wPQ6oBscDoRd"
      },
      "source": [
        "**STEP 7:** สร้างเงื่อนไขแสดงเฉพาะประเทศที่มีค่าที่หายไป หรือ missing data ตั้งแต่ 3 ค่าขึ้นไป \n",
        "\n",
        "List the countries with three or more missing values for the demographic data\n",
        "\n",
        "ใช้คำสั่ง .loc[ rows, columns ] ทำการ Filter เลือกแถวและคอลัมน์ที่ต้องการ"
      ]
    },
    {
      "cell_type": "code",
      "metadata": {
        "colab": {
          "base_uri": "https://localhost:8080/"
        },
        "id": "yC87mium3ggU",
        "outputId": "7b5b6022-4ceb-4ca8-8c82-98591c103d4d"
      },
      "source": [
        "#check the demographic columns for missing --> condition >= 3\n",
        "print(covidtotals.loc[demovarsmisscnt>=3, ['location'] + demovars].head(5)) #ลองใส่ 18 (10 + 8)"
      ],
      "execution_count": null,
      "outputs": [
        {
          "output_type": "stream",
          "name": "stdout",
          "text": [
            "                                 location  ...  hosp_beds\n",
            "iso_code                                   ...           \n",
            "AND                               Andorra  ...        NaN\n",
            "AIA                              Anguilla  ...        NaN\n",
            "BES       Bonaire Sint Eustatius and Saba  ...        NaN\n",
            "VGB                British Virgin Islands  ...        NaN\n",
            "FRO                        Faeroe Islands  ...        NaN\n",
            "\n",
            "[5 rows x 6 columns]\n"
          ]
        }
      ]
    },
    {
      "cell_type": "code",
      "metadata": {
        "colab": {
          "base_uri": "https://localhost:8080/"
        },
        "id": "MM_kSvIIFkPP",
        "outputId": "90fcb521-7a85-4f5a-dfc1-52bcc3982532"
      },
      "source": [
        "print(covidtotals.loc[demovarsmisscnt>=3, ['location'] + demovars].head(5).T) #Transpost\n",
        "type(demovarsmisscnt)"
      ],
      "execution_count": null,
      "outputs": [
        {
          "output_type": "stream",
          "name": "stdout",
          "text": [
            "iso_code            AND       AIA  ...                     VGB             FRO\n",
            "location        Andorra  Anguilla  ...  British Virgin Islands  Faeroe Islands\n",
            "population        77265     15002  ...                   30237           48865\n",
            "pop_density     163.755       NaN  ...                 207.973          35.308\n",
            "median_age          NaN       NaN  ...                     NaN             NaN\n",
            "gdp_per_capita      NaN       NaN  ...                     NaN             NaN\n",
            "hosp_beds           NaN       NaN  ...                     NaN             NaN\n",
            "\n",
            "[6 rows x 5 columns]\n"
          ]
        },
        {
          "output_type": "execute_result",
          "data": {
            "text/plain": [
              "pandas.core.series.Series"
            ]
          },
          "metadata": {},
          "execution_count": 7
        }
      ]
    },
    {
      "cell_type": "markdown",
      "metadata": {
        "id": "47mtcf444M7P"
      },
      "source": [
        "**STEP 8:** ตรวจ Covid case data ของค่าที่หายไป\n",
        "\n",
        "Check the Covid case data for missing values\n",
        "\n",
        "(1) ใช้คำสั่ง .isnull().sum(axis=0) \n",
        "\n",
        "- 0 คือ เช็คหัว Columns ทำการนับจำนวน missing data \n",
        "\n",
        "(2) ใช้คำสั่ง .isnull().sum(axis=1) \n",
        "- 1 คือ เช็ค Rows ของ Index ทำการนับจำนวน missing data\n",
        "\n",
        "(3) ใช้คำสั่ง .value_counts() นับค่าจำนวน missing data ที่พบของ totvarsmisscnt\n",
        "\n",
        "- location, total_cases, totol_deaths = 0 คือไม่พบ missing data แสดงว่าข้อมูลครบ complete data\n",
        "\n",
        "- พบว่ามี 2 columns คือ total_cases_pm, total_deaths_pm ที่มีค่า missing data คอลัมน์ละ 1 ค่า"
      ]
    },
    {
      "cell_type": "code",
      "metadata": {
        "colab": {
          "base_uri": "https://localhost:8080/"
        },
        "id": "eT-QpUXd4-L9",
        "outputId": "ca53cc91-a599-4cd3-aa99-caf672382094"
      },
      "source": [
        "#check the cumulative columns for missing\n",
        "print(covidtotals[totvars].isnull().sum(axis=0)) #แสดง columns จำนวน missing data\n",
        "totvarsmisscnt = covidtotals[totvars].isnull().sum(axis=1) #แสดง index rows จำนวน missing data\n",
        "print()\n",
        "print(totvarsmisscnt)\n",
        "print()\n",
        "print(totvarsmisscnt.value_counts()) #นับจำนวนค่า missing data ที่พบของ totvarsmisscnt"
      ],
      "execution_count": null,
      "outputs": [
        {
          "output_type": "stream",
          "name": "stdout",
          "text": [
            "location           0\n",
            "total_cases        0\n",
            "total_deaths       0\n",
            "total_cases_pm     1\n",
            "total_deaths_pm    1\n",
            "dtype: int64\n",
            "\n",
            "iso_code\n",
            "AFG    0\n",
            "ALB    0\n",
            "DZA    0\n",
            "AND    0\n",
            "AGO    0\n",
            "      ..\n",
            "VNM    0\n",
            "ESH    0\n",
            "YEM    0\n",
            "ZMB    0\n",
            "ZWE    0\n",
            "Length: 210, dtype: int64\n",
            "\n",
            "0    209\n",
            "2      1\n",
            "dtype: int64\n"
          ]
        }
      ]
    },
    {
      "cell_type": "code",
      "metadata": {
        "colab": {
          "base_uri": "https://localhost:8080/"
        },
        "id": "Lr_Co2o5I04Y",
        "outputId": "57f21bd3-db37-47d3-e014-7f08c968742f"
      },
      "source": [
        "#เงื่อนไข >0 นับจำนวน missing data ทั้งหมด เพื่อต้องการหาประเทศที่มี missing data (มีหายไป 2 ค่า 1 ประเทศ)\n",
        "print(covidtotals.loc[totvarsmisscnt>0])  #ประเทศนั้นคือ HKG"
      ],
      "execution_count": null,
      "outputs": [
        {
          "output_type": "stream",
          "name": "stdout",
          "text": [
            "            lastdate   location  ...  gdp_per_capita  hosp_beds\n",
            "iso_code                         ...                           \n",
            "HKG       2020-05-26  Hong Kong  ...        56054.92        NaN\n",
            "\n",
            "[1 rows x 11 columns]\n"
          ]
        }
      ]
    },
    {
      "cell_type": "code",
      "metadata": {
        "colab": {
          "base_uri": "https://localhost:8080/"
        },
        "id": "tK9u9qdFJcv2",
        "outputId": "79482e2c-3bca-47e4-b4ef-886e502f74aa"
      },
      "source": [
        "#แสดงรายละเอียดให้มากขึ้นใช้ Transpost\n",
        "print(covidtotals.loc[totvarsmisscnt>0].T) \n",
        "#สังเกตว่ามี total_cases_pm และ total_deaths_pm มีค่าเท่ากับ Nan"
      ],
      "execution_count": null,
      "outputs": [
        {
          "output_type": "stream",
          "name": "stdout",
          "text": [
            "iso_code                 HKG\n",
            "lastdate          2020-05-26\n",
            "location           Hong Kong\n",
            "total_cases                0\n",
            "total_deaths               0\n",
            "total_cases_pm           NaN\n",
            "total_deaths_pm          NaN\n",
            "population       7.49699e+06\n",
            "pop_density          7039.71\n",
            "median_age              44.8\n",
            "gdp_per_capita       56054.9\n",
            "hosp_beds                NaN\n"
          ]
        }
      ]
    },
    {
      "cell_type": "markdown",
      "metadata": {
        "id": "BNpSc6Lb6RFk"
      },
      "source": [
        "**STEP 9:** เปลี่ยนค่า NaN (Missing Values) ที่พบ ให้มีจำนวนเป็น 0 โดยต้องเติมค่าที่ถูกต้องใส่เข้าไปแทน\n",
        "\n",
        "Use the fillna method to fix the missing cases data for the one country affected\n",
        "(Hong Kong)\n",
        "\n",
        "ใช้คำสั่ง .fillna() แทนที่ค่าที่หายไปด้วยค่าที่ผู้ใช้ระบุ\n",
        "\n",
        "ตำแหน่ง missing data ที่ต้องการแทน.fillna(ค่าที่ต้องการแทน จะใส่ตัวเลข สูตรคำนวณ หรือ \"ตัวอักษร\" ก็ได้) "
      ]
    },
    {
      "cell_type": "code",
      "metadata": {
        "colab": {
          "base_uri": "https://localhost:8080/"
        },
        "id": "J-CpGxFd6ghV",
        "outputId": "038e75f8-2a14-431c-cb81-b7a5c60a0baa"
      },
      "source": [
        "#use the fillna method to fix the mixing case data\n",
        "#before use fillna()\n",
        "print(covidtotals[totvars].isnull().sum(axis=0))\n",
        "#.fillna ถ้ามีการแก้ไขต้องเริ่มรันใหม่ตั้งแต่ STEP 1 อีกครั้ง เช่น ลองใส่ .fillna(3) หรือ .fillna(\"Hello\")\n",
        "covidtotals.total_cases_pm.fillna(covidtotals.total_cases/(covidtotals.population/1000000), inplace=True)\n",
        "covidtotals.total_deaths_pm.fillna(covidtotals.total_deaths/(covidtotals.population/1000000), inplace=True)\n",
        "print()\n",
        "#after use fillna()\n",
        "print(covidtotals[totvars].isnull().sum(axis=0)) #แสดงค่าที่ใส่เข้าไปใหม่ \n",
        "covidtotals.to_csv(\"fill_covidtotals\")"
      ],
      "execution_count": null,
      "outputs": [
        {
          "output_type": "stream",
          "name": "stdout",
          "text": [
            "location           0\n",
            "total_cases        0\n",
            "total_deaths       0\n",
            "total_cases_pm     1\n",
            "total_deaths_pm    1\n",
            "dtype: int64\n",
            "\n",
            "location           0\n",
            "total_cases        0\n",
            "total_deaths       0\n",
            "total_cases_pm     0\n",
            "total_deaths_pm    0\n",
            "dtype: int64\n"
          ]
        }
      ]
    },
    {
      "cell_type": "code",
      "metadata": {
        "colab": {
          "base_uri": "https://localhost:8080/"
        },
        "id": "VxMVFEHQpvQJ",
        "outputId": "87c54e63-a4f1-4cb1-f61b-3aeb68553029"
      },
      "source": [
        "#แสดงผลค่า values ของข้อมูล 'HKG' หลังจากใส่ค่าใหม่ที่แก้ไข missing data แล้ว\n",
        "print(covidtotals.loc[['HKG']].T)"
      ],
      "execution_count": null,
      "outputs": [
        {
          "output_type": "stream",
          "name": "stdout",
          "text": [
            "iso_code                 HKG\n",
            "lastdate          2020-05-26\n",
            "location           Hong Kong\n",
            "total_cases                0\n",
            "total_deaths               0\n",
            "total_cases_pm             0\n",
            "total_deaths_pm            0\n",
            "population       7.49699e+06\n",
            "pop_density          7039.71\n",
            "median_age              44.8\n",
            "gdp_per_capita       56054.9\n",
            "hosp_beds                NaN\n"
          ]
        }
      ]
    },
    {
      "cell_type": "markdown",
      "metadata": {
        "id": "UUB8fRzqEqy-"
      },
      "source": [
        "**STEP 10:** ลบแถวที่มีค่า NaN (Missing Values) ออก\n",
        "\n",
        "Use the dropna method to remove the missing cases data\n",
        "\n",
        "ใช้คำสั่ง .dropna() ลบแถวของค่าที่หายไป"
      ]
    },
    {
      "cell_type": "code",
      "metadata": {
        "colab": {
          "base_uri": "https://localhost:8080/"
        },
        "id": "YIjwDWUkDfYF",
        "outputId": "91a615f8-0c96-4e29-9b45-0c830d1a49f7"
      },
      "source": [
        "#Before use dropna\n",
        "print(covidtotals)\n",
        "print(covidtotals.shape)\n",
        "#After use dropna\n",
        "drop_covidtotals = covidtotals.dropna()\n",
        "print(drop_covidtotals)\n",
        "print(drop_covidtotals.shape)\n",
        "drop_covidtotals.to_csv(\"drop_covidtotals\")"
      ],
      "execution_count": null,
      "outputs": [
        {
          "output_type": "stream",
          "name": "stdout",
          "text": [
            "            lastdate        location  ...  gdp_per_capita  hosp_beds\n",
            "iso_code                              ...                           \n",
            "AFG       2020-06-01     Afghanistan  ...        1803.987       0.50\n",
            "ALB       2020-06-01         Albania  ...       11803.431       2.89\n",
            "DZA       2020-06-01         Algeria  ...       13913.839       1.90\n",
            "AND       2020-06-01         Andorra  ...             NaN        NaN\n",
            "AGO       2020-06-01          Angola  ...        5819.495        NaN\n",
            "...              ...             ...  ...             ...        ...\n",
            "VNM       2020-06-01         Vietnam  ...        6171.884       2.60\n",
            "ESH       2020-06-01  Western Sahara  ...             NaN        NaN\n",
            "YEM       2020-06-01           Yemen  ...        1479.147       0.70\n",
            "ZMB       2020-06-01          Zambia  ...        3689.251       2.00\n",
            "ZWE       2020-06-01        Zimbabwe  ...        1899.775       1.70\n",
            "\n",
            "[210 rows x 11 columns]\n",
            "(210, 11)\n",
            "            lastdate             location  ...  gdp_per_capita  hosp_beds\n",
            "iso_code                                   ...                           \n",
            "AFG       2020-06-01          Afghanistan  ...        1803.987       0.50\n",
            "ALB       2020-06-01              Albania  ...       11803.431       2.89\n",
            "DZA       2020-06-01              Algeria  ...       13913.839       1.90\n",
            "ATG       2020-06-01  Antigua and Barbuda  ...       21490.943       3.80\n",
            "ARG       2020-06-01            Argentina  ...       18933.907       5.00\n",
            "...              ...                  ...  ...             ...        ...\n",
            "VEN       2020-06-01            Venezuela  ...       16745.022       0.80\n",
            "VNM       2020-06-01              Vietnam  ...        6171.884       2.60\n",
            "YEM       2020-06-01                Yemen  ...        1479.147       0.70\n",
            "ZMB       2020-06-01               Zambia  ...        3689.251       2.00\n",
            "ZWE       2020-06-01             Zimbabwe  ...        1899.775       1.70\n",
            "\n",
            "[156 rows x 11 columns]\n",
            "(156, 11)\n"
          ]
        }
      ]
    }
  ]
}