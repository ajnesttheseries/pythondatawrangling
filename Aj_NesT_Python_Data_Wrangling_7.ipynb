{
  "nbformat": 4,
  "nbformat_minor": 0,
  "metadata": {
    "colab": {
      "name": "Aj.NesT - Python Data Wrangling #7",
      "provenance": [],
      "collapsed_sections": []
    },
    "kernelspec": {
      "display_name": "Python 3",
      "name": "python3"
    },
    "language_info": {
      "name": "python"
    }
  },
  "cells": [
    {
      "cell_type": "markdown",
      "metadata": {
        "id": "OtrCo05tRE73"
      },
      "source": [
        "#Data Wrangling with Pandas\n",
        "\n",
        "[Aj. NesT the Series](http://bit.ly/ajnesttheseriesSubscribe)\n",
        "\n",
        "Referenence: [Pyhton Data Cleaning Cookbook 2020](https://github.com/PacktPublishing/Python-Data-Cleaning-Cookbook)\n",
        "\n",
        "##Practice 2: การจัดการค่าที่หายไป การลบข้อมูลแถวที่ซ้ำกัน และการจัดระเบียบข้อมูลตามกลุ่ม\n",
        "\n",
        "--> Managing Missing Values, Removing Duplicated Rows, and Organizing using Groupby  \n",
        "\n",
        "[Python Pandas Cheat Sheets](https://www.enthought.com/wp-content/uploads/Enthought-Python-Pandas-Cheat-Sheets-1-8-v1.0.2.pdf)"
      ]
    },
    {
      "cell_type": "markdown",
      "metadata": {
        "id": "WYvmolVuVVMN"
      },
      "source": [
        "##Workshop 7: การลบข้อมูลแถวที่ซ้ำกัน\n",
        "--> Removing Duplicated Rows\n",
        "\n",
        "###Input Datasets\n",
        "\n",
        "* **[covidcases720.csv](https://drive.google.com/file/d/1t9SEZWbVt-zGsCKfQvNZqn_0W5MHAHP-/view?usp=sharing)** - COVID-19 daily case data 31 Dec 2019 - 12 July 2020. "
      ]
    },
    {
      "cell_type": "markdown",
      "metadata": {
        "id": "mySii_FKZZz-"
      },
      "source": [
        "####Question 7: เราจะทำการลบข้อมูลแถวที่ซ้ำกันได้อย่างไร\n",
        "\n",
        "**STEP 1:** นำเข้า Datasets โดยทำการ Upload ไฟล์ covidcases720.csv ขึ้น Google Colab (ไฟล์นี้จะถูกลบเมื่อเราหลุดจาก Session หรือปิด Browser) หรือ Python IDE เช่น PyCharm, VSCode, Juputer Notebook, etc.\n",
        "\n",
        "**STEP 2:** นำเข้า pandas library มาใช้งาน\n",
        "\n",
        "**STEP 3:** ทำการอ่านไฟล์ .csv ด้วย pandas เก็บเป็น Dataframe\n",
        "\n",
        "ใช้คำสั่ง .read_csv()"
      ]
    },
    {
      "cell_type": "code",
      "metadata": {
        "colab": {
          "base_uri": "https://localhost:8080/"
        },
        "id": "4YIssfaTQMPI",
        "outputId": "350930ca-7aa5-42ef-c720-dc6945457a4c"
      },
      "source": [
        "#import pandas and the COVID daily cases data:\n",
        "import pandas as pd\n",
        "covidcases = pd.read_csv(\"/content/covidcases720.csv\")\n",
        "print(covidcases)"
      ],
      "execution_count": 2,
      "outputs": [
        {
          "output_type": "stream",
          "name": "stdout",
          "text": [
            "      iso_code continent  ... life_expectancy           region\n",
            "0          AFG      Asia  ...           64.83       South Asia\n",
            "1          AFG      Asia  ...           64.83       South Asia\n",
            "2          AFG      Asia  ...           64.83       South Asia\n",
            "3          AFG      Asia  ...           64.83       South Asia\n",
            "4          AFG      Asia  ...           64.83       South Asia\n",
            "...        ...       ...  ...             ...              ...\n",
            "29524      ZWE    Africa  ...           61.49  Southern Africa\n",
            "29525      ZWE    Africa  ...           61.49  Southern Africa\n",
            "29526      ZWE    Africa  ...           61.49  Southern Africa\n",
            "29527      ZWE    Africa  ...           61.49  Southern Africa\n",
            "29528      ZWE    Africa  ...           61.49  Southern Africa\n",
            "\n",
            "[29529 rows x 35 columns]\n"
          ]
        }
      ]
    },
    {
      "cell_type": "markdown",
      "metadata": {
        "id": "-k8IB6y2D9fM"
      },
      "source": [
        "**STEP 4:** สร้างรายการ lists ของข้อมูล covid daily cases สำหรับคอลัมน์ cumulative และ demographic\n",
        "\n",
        "ใช้คำสั่ง [ 'column_names' ]  ในการสร้าง lists รายการของชุดข้อมูล "
      ]
    },
    {
      "cell_type": "code",
      "metadata": {
        "colab": {
          "base_uri": "https://localhost:8080/"
        },
        "id": "nMKrkyG08GE0",
        "outputId": "577ec94a-127f-4cee-edc0-7650f0730ba0"
      },
      "source": [
        "#create lists for daily cases, for cumulative columns and for demographic columns\n",
        "dailyvars = ['casedate','new_cases','new_deaths']\n",
        "totvars = ['location','total_cases','total_deaths']\n",
        "demovars = ['population','population_density','median_age',\n",
        "  'gdp_per_capita','hospital_beds_per_thousand','region']\n",
        "print(covidcases[dailyvars + totvars + demovars].head(3).T)"
      ],
      "execution_count": 3,
      "outputs": [
        {
          "output_type": "stream",
          "name": "stdout",
          "text": [
            "                                      0            1            2\n",
            "casedate                     2019-12-31   2020-01-01   2020-01-02\n",
            "new_cases                             0            0            0\n",
            "new_deaths                            0            0            0\n",
            "location                    Afghanistan  Afghanistan  Afghanistan\n",
            "total_cases                           0            0            0\n",
            "total_deaths                          0            0            0\n",
            "population                  3.89283e+07  3.89283e+07  3.89283e+07\n",
            "population_density               54.422       54.422       54.422\n",
            "median_age                         18.6         18.6         18.6\n",
            "gdp_per_capita                  1803.99      1803.99      1803.99\n",
            "hospital_beds_per_thousand          0.5          0.5          0.5\n",
            "region                       South Asia   South Asia   South Asia\n"
          ]
        }
      ]
    },
    {
      "cell_type": "markdown",
      "metadata": {
        "id": "TfB6BKmo01PU"
      },
      "source": [
        "**STEP 5:** สร้าง DataFrame ของข้อมูล covid daily data"
      ]
    },
    {
      "cell_type": "code",
      "metadata": {
        "colab": {
          "base_uri": "https://localhost:8080/"
        },
        "id": "Fva0bgu11aSs",
        "outputId": "a77ce44d-3cb2-4e3f-da1b-f7c242bc874c"
      },
      "source": [
        "#create a daily data frames\n",
        "coviddaily = covidcases[['location'] + dailyvars]\n",
        "print(coviddaily.shape)\n",
        "print(coviddaily.head())"
      ],
      "execution_count": 4,
      "outputs": [
        {
          "output_type": "stream",
          "name": "stdout",
          "text": [
            "(29529, 4)\n",
            "      location    casedate  new_cases  new_deaths\n",
            "0  Afghanistan  2019-12-31        0.0         0.0\n",
            "1  Afghanistan  2020-01-01        0.0         0.0\n",
            "2  Afghanistan  2020-01-02        0.0         0.0\n",
            "3  Afghanistan  2020-01-03        0.0         0.0\n",
            "4  Afghanistan  2020-01-04        0.0         0.0\n"
          ]
        }
      ]
    },
    {
      "cell_type": "markdown",
      "metadata": {
        "id": "OuaPeJUh1nHU"
      },
      "source": [
        "**STEP 6:** เลือก 1 แถวต่อประเทศ ที่ไม่ซ้ำกัน\n",
        "\n",
        "select one row per country\n",
        "\n",
        "ใช้คำสั่ง sort_values เรียงลำดับข้อมูล\n",
        "\n",
        "ใช้คำสั่ง drop_duplicates ลบแถวที่มีค่าข้อมูลซ้ำกัน \n",
        "\n",
        "--> drop_duplicates ใช้ได้กับ column ธรรมดา ไม่ใช้กับ coulumn index\n",
        "\n",
        "ใช้คำสั่ง rename(columns={ 'old_column_name' : 'new_column_name' }) เปลี่ยนชื่อคอลัมน์ใหม่"
      ]
    },
    {
      "cell_type": "code",
      "metadata": {
        "colab": {
          "base_uri": "https://localhost:8080/"
        },
        "id": "K3HZR78q1OXw",
        "outputId": "461758fa-60fd-4340-a55c-8738155363a4"
      },
      "source": [
        "#select one row per country\n",
        "#นับจำนวน location ที่ไม่ซ้ำกัน\n",
        "print(covidcases.location.nunique())  \n",
        "#รวม columns\n",
        "#เรียงลำดับค่า location (ตามตัวอักษร) และ casedate (ตามวันเดือนปี))\n",
        "#เปลี่ยนชื่อคอลัมน์ casedate เป็นชื่อ lastdate\n",
        "coviddemo = covidcases[['casedate'] + totvars + demovars]. \\\n",
        "        sort_values(['location','casedate']). \\\n",
        "        rename(columns={'casedate':'lastdate'})\n",
        "print(coviddemo.shape)  #แสดง rows และ columns\n",
        "print(coviddemo.head(3))  #แสดงรายการบนสุด 3 รายการ\n",
        "print(coviddemo.head(3).T) #Transpost"
      ],
      "execution_count": 9,
      "outputs": [
        {
          "output_type": "stream",
          "name": "stdout",
          "text": [
            "209\n",
            "(29529, 10)\n",
            "     lastdate     location  ...  hospital_beds_per_thousand      region\n",
            "0  2019-12-31  Afghanistan  ...                         0.5  South Asia\n",
            "1  2020-01-01  Afghanistan  ...                         0.5  South Asia\n",
            "2  2020-01-02  Afghanistan  ...                         0.5  South Asia\n",
            "\n",
            "[3 rows x 10 columns]\n",
            "                                      0            1            2\n",
            "lastdate                     2019-12-31   2020-01-01   2020-01-02\n",
            "location                    Afghanistan  Afghanistan  Afghanistan\n",
            "total_cases                           0            0            0\n",
            "total_deaths                          0            0            0\n",
            "population                  3.89283e+07  3.89283e+07  3.89283e+07\n",
            "population_density               54.422       54.422       54.422\n",
            "median_age                         18.6         18.6         18.6\n",
            "gdp_per_capita                  1803.99      1803.99      1803.99\n",
            "hospital_beds_per_thousand          0.5          0.5          0.5\n",
            "region                       South Asia   South Asia   South Asia\n"
          ]
        }
      ]
    },
    {
      "cell_type": "code",
      "metadata": {
        "colab": {
          "base_uri": "https://localhost:8080/"
        },
        "id": "RsCB0TN_Oy_M",
        "outputId": "f8a987fb-6101-4388-f090-3cecca549a2a"
      },
      "source": [
        "#ลบแถวที่ชื่อประเทศซ้ำกัน location โดยเก็บเฉพาะแถวข้อมูลล่าสุด ด้วยคำสั่ง drop_duplicates , keep='last'\n",
        "coviddemo = covidcases[['casedate'] + totvars + demovars]. \\\n",
        "        sort_values(['location','casedate']). \\\n",
        "        drop_duplicates(['location'], keep='last'). \\\n",
        "        rename(columns={'casedate':'lastdate'})\n",
        "print(coviddemo.shape)\n",
        "print(coviddemo.head(3))\n",
        "print(coviddemo.head(3).T)\n",
        "coviddemo.to_csv(\"/content/coviddemo\")"
      ],
      "execution_count": 10,
      "outputs": [
        {
          "output_type": "stream",
          "name": "stdout",
          "text": [
            "(209, 10)\n",
            "       lastdate     location  ...  hospital_beds_per_thousand          region\n",
            "184  2020-07-12  Afghanistan  ...                        0.50      South Asia\n",
            "310  2020-07-12      Albania  ...                        2.89  Eastern Europe\n",
            "500  2020-07-12      Algeria  ...                        1.90    North Africa\n",
            "\n",
            "[3 rows x 10 columns]\n",
            "                                    184             310           500\n",
            "lastdate                     2020-07-12      2020-07-12    2020-07-12\n",
            "location                    Afghanistan         Albania       Algeria\n",
            "total_cases                       34451            3371         18712\n",
            "total_deaths                       1010              89          1004\n",
            "population                  3.89283e+07      2.8778e+06    4.3851e+07\n",
            "population_density               54.422         104.871        17.348\n",
            "median_age                         18.6              38          29.1\n",
            "gdp_per_capita                  1803.99         11803.4       13913.8\n",
            "hospital_beds_per_thousand          0.5            2.89           1.9\n",
            "region                       South Asia  Eastern Europe  North Africa\n"
          ]
        }
      ]
    },
    {
      "cell_type": "markdown",
      "metadata": {
        "id": "DWEfFFw9Zl78"
      },
      "source": [
        "**STEP 7:** แสดงค่าผลรวมของแต่ละประเทศ\n",
        "\n",
        "sum values for each group\n",
        "\n",
        "ใช้คำสั่ง .groupby() จัดกลุ่มตาม location as_index = False ไม่ใช่ index ถ้า True ใช่ index\n",
        "\n",
        "agg({'column_name' : 'calculate') --> calculate = sum, mean, count, size, std, var, sem, describe, first, last, nth, min, max"
      ]
    },
    {
      "cell_type": "code",
      "metadata": {
        "colab": {
          "base_uri": "https://localhost:8080/"
        },
        "id": "7A0633L6aQBS",
        "outputId": "e69343e2-6573-479b-ed45-14569bed4efd"
      },
      "source": [
        "covidtotals = covidcases.groupby(['location'], as_index=False).\\\n",
        "  agg({'new_cases':'sum','new_deaths':'sum','median_age':'last',\n",
        "    'gdp_per_capita':'last','region':'last','casedate':'last',\n",
        "    'population':'last'}).\\\n",
        "  rename(columns={'new_cases':'total_cases',\n",
        "    'new_deaths':'total_deaths','casedate':'lastdate'})\n",
        "print(covidtotals.shape)\n",
        "print(covidtotals.head(3))\n",
        "print(covidtotals.head(3).T)"
      ],
      "execution_count": 11,
      "outputs": [
        {
          "output_type": "stream",
          "name": "stdout",
          "text": [
            "(209, 8)\n",
            "      location  total_cases  ...    lastdate  population\n",
            "0  Afghanistan      34451.0  ...  2020-07-12  38928341.0\n",
            "1      Albania       3371.0  ...  2020-07-12   2877800.0\n",
            "2      Algeria      18712.0  ...  2020-07-12  43851043.0\n",
            "\n",
            "[3 rows x 8 columns]\n",
            "                          0               1             2\n",
            "location        Afghanistan         Albania       Algeria\n",
            "total_cases           34451            3371         18712\n",
            "total_deaths           1010              89          1004\n",
            "median_age             18.6              38          29.1\n",
            "gdp_per_capita      1803.99         11803.4       13913.8\n",
            "region           South Asia  Eastern Europe  North Africa\n",
            "lastdate         2020-07-12      2020-07-12    2020-07-12\n",
            "population      3.89283e+07      2.8778e+06    4.3851e+07\n"
          ]
        }
      ]
    }
  ]
}