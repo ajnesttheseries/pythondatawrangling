{
  "nbformat": 4,
  "nbformat_minor": 0,
  "metadata": {
    "colab": {
      "name": "Aj.NesT - Python Data Wrangling #2",
      "provenance": [],
      "collapsed_sections": []
    },
    "kernelspec": {
      "name": "python3",
      "display_name": "Python 3"
    },
    "language_info": {
      "name": "python"
    }
  },
  "cells": [
    {
      "cell_type": "markdown",
      "metadata": {
        "id": "OtrCo05tRE73"
      },
      "source": [
        "#Data Wrangling with Pandas\n",
        "\n",
        "[Aj. NesT the Series](http://bit.ly/ajnesttheseriesSubscribe)\n",
        "\n",
        "Referenence: [Pyhton Data Cleaning Cookbook 2020](https://github.com/PacktPublishing/Python-Data-Cleaning-Cookbook)\n",
        "\n",
        "##Practice 1: เช็คคุณภาพข้อมูลและทำความสะอาดข้อมูล\n",
        "\n",
        "Measuring Data Quality and Data Cleaning of Your Data "
      ]
    },
    {
      "cell_type": "markdown",
      "metadata": {
        "id": "WYvmolVuVVMN"
      },
      "source": [
        "##Workshop 2: การเลือกและจัดระเบียบคอลัมน์\n",
        "--> Selecting and Organizing Columns\n",
        "\n",
        "###Input Datasets\n",
        "\n",
        "* **[nls97.csv](https://drive.google.com/file/d/1-av28HdgEAYPc7ZSmvIh1JdR6Pb4HIfg/view?usp=sharing)** - the National Longitudinal Survey (NLS) 1997-2017."
      ]
    },
    {
      "cell_type": "markdown",
      "metadata": {
        "id": "mySii_FKZZz-"
      },
      "source": [
        "####Question 2: เราจะสำรวจวิธีการเลือกและจัดระเบียบให้กับคอลัมน์\n",
        "\n",
        "**STEP 1:** นำเข้า Datasets โดยทำการ Upload ไฟล์ nls97.csv ขึ้น Google Colab (ไฟล์นี้จะถูกลบเมื่อเราหลุดจาก Session หรือปิด Browser) หรือ Python IDE เช่น PyCharm, VSCode, Juputer Notebook, etc.\n",
        "\n",
        "**STEP 2:** ทำการอ่านไฟล์ .csv ด้วย pandas เก็บเป็น Dataframe\n",
        "\n",
        "ใช้คำสั่ง .read_csv()\n",
        "\n",
        "**STEP 3:** ตั้งค่าและแสดง index และ size ของ nls97 data\n",
        "\n",
        "ใช้คำสั่ง set_index()\n",
        "\n",
        "**STEP 4:** ตั้งค่าและแสดง index และ size ของ nls97 data\n",
        "\n",
        "ใช้คำสั่ง set_index()\n",
        "\n",
        "**STEP 5:** แสดงจำนวน data types และ non-null value\n",
        "\n",
        "ใช้คำสั่ง info()"
      ]
    },
    {
      "cell_type": "code",
      "metadata": {
        "id": "4YIssfaTQMPI",
        "colab": {
          "base_uri": "https://localhost:8080/"
        },
        "outputId": "2657b963-6ad2-470e-9fd9-88eefffb4989"
      },
      "source": [
        "import pandas as pd\n",
        "import numpy as np\n",
        "nls97 = pd.read_csv(\"/content/nls97.csv\")\n",
        "nls97.set_index(\"personid\", inplace=True)\n",
        "print(nls97)\n",
        "print(nls97.info())"
      ],
      "execution_count": null,
      "outputs": [
        {
          "output_type": "stream",
          "name": "stdout",
          "text": [
            "          gender  birthmonth  ...      colenrfeb17      colenroct17\n",
            "personid                      ...                                  \n",
            "100061    Female           5  ...  1. Not enrolled  1. Not enrolled\n",
            "100139      Male           9  ...  1. Not enrolled  1. Not enrolled\n",
            "100284      Male          11  ...  1. Not enrolled  1. Not enrolled\n",
            "100292      Male           4  ...              NaN              NaN\n",
            "100583      Male           1  ...  1. Not enrolled  1. Not enrolled\n",
            "...          ...         ...  ...              ...              ...\n",
            "999291    Female           4  ...  1. Not enrolled  1. Not enrolled\n",
            "999406      Male           7  ...  1. Not enrolled  1. Not enrolled\n",
            "999543    Female           8  ...  1. Not enrolled  1. Not enrolled\n",
            "999698    Female           5  ...  1. Not enrolled  1. Not enrolled\n",
            "999963    Female           9  ...  1. Not enrolled  1. Not enrolled\n",
            "\n",
            "[8984 rows x 88 columns]\n",
            "<class 'pandas.core.frame.DataFrame'>\n",
            "Int64Index: 8984 entries, 100061 to 999963\n",
            "Data columns (total 88 columns):\n",
            " #   Column                 Non-Null Count  Dtype  \n",
            "---  ------                 --------------  -----  \n",
            " 0   gender                 8984 non-null   object \n",
            " 1   birthmonth             8984 non-null   int64  \n",
            " 2   birthyear              8984 non-null   int64  \n",
            " 3   highestgradecompleted  6663 non-null   float64\n",
            " 4   maritalstatus          6672 non-null   object \n",
            " 5   childathome            4791 non-null   float64\n",
            " 6   childnotathome         4791 non-null   float64\n",
            " 7   wageincome             5091 non-null   float64\n",
            " 8   weeklyhrscomputer      6710 non-null   object \n",
            " 9   weeklyhrstv            6711 non-null   object \n",
            " 10  nightlyhrssleep        6706 non-null   float64\n",
            " 11  satverbal              1406 non-null   float64\n",
            " 12  satmath                1407 non-null   float64\n",
            " 13  gpaoverall             6004 non-null   float64\n",
            " 14  gpaenglish             5798 non-null   float64\n",
            " 15  gpamath                5766 non-null   float64\n",
            " 16  gpascience             5684 non-null   float64\n",
            " 17  highestdegree          8953 non-null   object \n",
            " 18  govprovidejobs         1833 non-null   object \n",
            " 19  govpricecontrols       1859 non-null   object \n",
            " 20  govhealthcare          1874 non-null   object \n",
            " 21  govelderliving         1872 non-null   object \n",
            " 22  govindhelp             1815 non-null   object \n",
            " 23  govunemp               1811 non-null   object \n",
            " 24  govincomediff          1775 non-null   object \n",
            " 25  govcollegefinance      1875 non-null   object \n",
            " 26  govdecenthousing       1847 non-null   object \n",
            " 27  govprotectenvironment  1860 non-null   object \n",
            " 28  weeksworked00          8603 non-null   float64\n",
            " 29  weeksworked01          8564 non-null   float64\n",
            " 30  weeksworked02          8556 non-null   float64\n",
            " 31  weeksworked03          8490 non-null   float64\n",
            " 32  weeksworked04          8458 non-null   float64\n",
            " 33  weeksworked05          8403 non-null   float64\n",
            " 34  weeksworked06          8340 non-null   float64\n",
            " 35  weeksworked07          8272 non-null   float64\n",
            " 36  weeksworked08          8186 non-null   float64\n",
            " 37  weeksworked09          8146 non-null   float64\n",
            " 38  weeksworked10          8054 non-null   float64\n",
            " 39  weeksworked11          7968 non-null   float64\n",
            " 40  weeksworked12          7747 non-null   float64\n",
            " 41  weeksworked13          7680 non-null   float64\n",
            " 42  weeksworked14          7612 non-null   float64\n",
            " 43  weeksworked15          7389 non-null   float64\n",
            " 44  weeksworked16          7068 non-null   float64\n",
            " 45  weeksworked17          6670 non-null   float64\n",
            " 46  colenrfeb97            1250 non-null   object \n",
            " 47  colenroct97            8501 non-null   object \n",
            " 48  colenrfeb98            8501 non-null   object \n",
            " 49  colenroct98            8888 non-null   object \n",
            " 50  colenrfeb99            8865 non-null   object \n",
            " 51  colenroct99            8851 non-null   object \n",
            " 52  colenrfeb00            8820 non-null   object \n",
            " 53  colenroct00            8805 non-null   object \n",
            " 54  colenrfeb01            8786 non-null   object \n",
            " 55  colenroct01            8758 non-null   object \n",
            " 56  colenrfeb02            8732 non-null   object \n",
            " 57  colenroct02            8698 non-null   object \n",
            " 58  colenrfeb03            8658 non-null   object \n",
            " 59  colenroct03            8622 non-null   object \n",
            " 60  colenrfeb04            8578 non-null   object \n",
            " 61  colenroct04            8546 non-null   object \n",
            " 62  colenrfeb05            8508 non-null   object \n",
            " 63  colenroct05            8471 non-null   object \n",
            " 64  colenrfeb06            8426 non-null   object \n",
            " 65  colenroct06            8407 non-null   object \n",
            " 66  colenrfeb07            8352 non-null   object \n",
            " 67  colenroct07            8331 non-null   object \n",
            " 68  colenrfeb08            8289 non-null   object \n",
            " 69  colenroct08            8280 non-null   object \n",
            " 70  colenrfeb09            8236 non-null   object \n",
            " 71  colenroct09            8193 non-null   object \n",
            " 72  colenrfeb10            8116 non-null   object \n",
            " 73  colenroct10            8091 non-null   object \n",
            " 74  colenrfeb11            8037 non-null   object \n",
            " 75  colenroct11            7972 non-null   object \n",
            " 76  colenrfeb12            7794 non-null   object \n",
            " 77  colenroct12            7754 non-null   object \n",
            " 78  colenrfeb13            7754 non-null   object \n",
            " 79  colenroct13            7754 non-null   object \n",
            " 80  colenrfeb14            7624 non-null   object \n",
            " 81  colenroct14            7469 non-null   object \n",
            " 82  colenrfeb15            7469 non-null   object \n",
            " 83  colenroct15            7469 non-null   object \n",
            " 84  colenrfeb16            7036 non-null   object \n",
            " 85  colenroct16            6733 non-null   object \n",
            " 86  colenrfeb17            6733 non-null   object \n",
            " 87  colenroct17            6734 non-null   object \n",
            "dtypes: float64(29), int64(2), object(57)\n",
            "memory usage: 6.1+ MB\n",
            "None\n"
          ]
        }
      ]
    },
    {
      "cell_type": "markdown",
      "metadata": {
        "id": "-k8IB6y2D9fM"
      },
      "source": [
        "**STEP 6:** แปลง data types ของ columns ที่เป็น object ให้เป็น category เพื่อทำข้อมูลให้เหมาะสม\n",
        "\n",
        "data typs --> category เหมาะสำหรับข้อมูลที่มีซ้ำ ๆ กัน ที่ไม่ค่อยต่างกันมาก ช่วยในการเรื่องการประหยัด Memory\n",
        "\n",
        "ใช้คำสั่ง .loc[ ] ทำการ Filter เข้าถึงข้อมูล -->  คำสั่ง pandas หมวด Filter จะมีทั้ง .loc [  ], .iloc [  ], .query [  ]\n",
        "\n",
        "ใช้คำสั่ง .select_dtypes ทำการเลือก data types\n",
        "\n",
        "ใช้คำสั่ง .apply(lamba function) เพื่อแปลงข้อมูล\n",
        "\n",
        "ใช้คำสั่ง .astype ทำการแปลง data types"
      ]
    },
    {
      "cell_type": "code",
      "metadata": {
        "colab": {
          "base_uri": "https://localhost:8080/"
        },
        "id": "nMKrkyG08GE0",
        "outputId": "08428cea-52c9-4566-cb67-5e6d06b87ba8"
      },
      "source": [
        "nls97.loc[:, nls97.dtypes == 'object'] = \\\n",
        "  nls97.select_dtypes(['object']). \\\n",
        "  apply(lambda x: x.astype('category'))  \n",
        "print(nls97.info())                         \n",
        "#เครื่องหมาย \\ คือ เพื่อเชื่อมประโยคให้ต่อกันในอีกบรรทัดนึง\n",
        "#Syntax --> .loc['row_name' , 'column_name'] สนใจชื่อ\n",
        "#Syntax --> .iloc['row_index_number' , 'column_index_number'] สนใจตำแหน่ง index ของ row และ column\n",
        "#loc[: Filter ชื่อทุกตัว, ที่มีเงื่อนไขเป็น 'object'] และทำการเลือก loc ย่อมาจาก location based\n",
        "#ทำการแปลง colums ที่เป็น 'object' --> 'category'\n",
        "#ผลปรากฎว่า 'category' ช่วยลด memory (2.7 MB) ได้มากกว่า 'object' (6.1+ MB)"
      ],
      "execution_count": null,
      "outputs": [
        {
          "output_type": "stream",
          "name": "stdout",
          "text": [
            "<class 'pandas.core.frame.DataFrame'>\n",
            "Int64Index: 8984 entries, 100061 to 999963\n",
            "Data columns (total 88 columns):\n",
            " #   Column                 Non-Null Count  Dtype   \n",
            "---  ------                 --------------  -----   \n",
            " 0   gender                 8984 non-null   category\n",
            " 1   birthmonth             8984 non-null   int64   \n",
            " 2   birthyear              8984 non-null   int64   \n",
            " 3   highestgradecompleted  6663 non-null   float64 \n",
            " 4   maritalstatus          6672 non-null   category\n",
            " 5   childathome            4791 non-null   float64 \n",
            " 6   childnotathome         4791 non-null   float64 \n",
            " 7   wageincome             5091 non-null   float64 \n",
            " 8   weeklyhrscomputer      6710 non-null   category\n",
            " 9   weeklyhrstv            6711 non-null   category\n",
            " 10  nightlyhrssleep        6706 non-null   float64 \n",
            " 11  satverbal              1406 non-null   float64 \n",
            " 12  satmath                1407 non-null   float64 \n",
            " 13  gpaoverall             6004 non-null   float64 \n",
            " 14  gpaenglish             5798 non-null   float64 \n",
            " 15  gpamath                5766 non-null   float64 \n",
            " 16  gpascience             5684 non-null   float64 \n",
            " 17  highestdegree          8953 non-null   category\n",
            " 18  govprovidejobs         1833 non-null   category\n",
            " 19  govpricecontrols       1859 non-null   category\n",
            " 20  govhealthcare          1874 non-null   category\n",
            " 21  govelderliving         1872 non-null   category\n",
            " 22  govindhelp             1815 non-null   category\n",
            " 23  govunemp               1811 non-null   category\n",
            " 24  govincomediff          1775 non-null   category\n",
            " 25  govcollegefinance      1875 non-null   category\n",
            " 26  govdecenthousing       1847 non-null   category\n",
            " 27  govprotectenvironment  1860 non-null   category\n",
            " 28  weeksworked00          8603 non-null   float64 \n",
            " 29  weeksworked01          8564 non-null   float64 \n",
            " 30  weeksworked02          8556 non-null   float64 \n",
            " 31  weeksworked03          8490 non-null   float64 \n",
            " 32  weeksworked04          8458 non-null   float64 \n",
            " 33  weeksworked05          8403 non-null   float64 \n",
            " 34  weeksworked06          8340 non-null   float64 \n",
            " 35  weeksworked07          8272 non-null   float64 \n",
            " 36  weeksworked08          8186 non-null   float64 \n",
            " 37  weeksworked09          8146 non-null   float64 \n",
            " 38  weeksworked10          8054 non-null   float64 \n",
            " 39  weeksworked11          7968 non-null   float64 \n",
            " 40  weeksworked12          7747 non-null   float64 \n",
            " 41  weeksworked13          7680 non-null   float64 \n",
            " 42  weeksworked14          7612 non-null   float64 \n",
            " 43  weeksworked15          7389 non-null   float64 \n",
            " 44  weeksworked16          7068 non-null   float64 \n",
            " 45  weeksworked17          6670 non-null   float64 \n",
            " 46  colenrfeb97            1250 non-null   category\n",
            " 47  colenroct97            8501 non-null   category\n",
            " 48  colenrfeb98            8501 non-null   category\n",
            " 49  colenroct98            8888 non-null   category\n",
            " 50  colenrfeb99            8865 non-null   category\n",
            " 51  colenroct99            8851 non-null   category\n",
            " 52  colenrfeb00            8820 non-null   category\n",
            " 53  colenroct00            8805 non-null   category\n",
            " 54  colenrfeb01            8786 non-null   category\n",
            " 55  colenroct01            8758 non-null   category\n",
            " 56  colenrfeb02            8732 non-null   category\n",
            " 57  colenroct02            8698 non-null   category\n",
            " 58  colenrfeb03            8658 non-null   category\n",
            " 59  colenroct03            8622 non-null   category\n",
            " 60  colenrfeb04            8578 non-null   category\n",
            " 61  colenroct04            8546 non-null   category\n",
            " 62  colenrfeb05            8508 non-null   category\n",
            " 63  colenroct05            8471 non-null   category\n",
            " 64  colenrfeb06            8426 non-null   category\n",
            " 65  colenroct06            8407 non-null   category\n",
            " 66  colenrfeb07            8352 non-null   category\n",
            " 67  colenroct07            8331 non-null   category\n",
            " 68  colenrfeb08            8289 non-null   category\n",
            " 69  colenroct08            8280 non-null   category\n",
            " 70  colenrfeb09            8236 non-null   category\n",
            " 71  colenroct09            8193 non-null   category\n",
            " 72  colenrfeb10            8116 non-null   category\n",
            " 73  colenroct10            8091 non-null   category\n",
            " 74  colenrfeb11            8037 non-null   category\n",
            " 75  colenroct11            7972 non-null   category\n",
            " 76  colenrfeb12            7794 non-null   category\n",
            " 77  colenroct12            7754 non-null   category\n",
            " 78  colenrfeb13            7754 non-null   category\n",
            " 79  colenroct13            7754 non-null   category\n",
            " 80  colenrfeb14            7624 non-null   category\n",
            " 81  colenroct14            7469 non-null   category\n",
            " 82  colenrfeb15            7469 non-null   category\n",
            " 83  colenroct15            7469 non-null   category\n",
            " 84  colenrfeb16            7036 non-null   category\n",
            " 85  colenroct16            6733 non-null   category\n",
            " 86  colenrfeb17            6733 non-null   category\n",
            " 87  colenroct17            6734 non-null   category\n",
            "dtypes: category(57), float64(29), int64(2)\n",
            "memory usage: 2.7 MB\n",
            "None\n"
          ]
        }
      ]
    },
    {
      "cell_type": "markdown",
      "metadata": {
        "id": "o9lTTasvNRn8"
      },
      "source": [
        "**STEP 7:** วิธีการเลือก column แบบ 1 column โดยใช้ [ ] index oprator, .loc, .iloc ของ pandas\n",
        "\n",
        "Select a column using the pandas [ ] bracket operator, and the loc and\n",
        "iloc accessors."
      ]
    },
    {
      "cell_type": "markdown",
      "metadata": {
        "id": "l1eV8eIzYzWp"
      },
      "source": [
        "แบบที่ 1 ใช้ [ 'column_name' ] เลือก column ที่ต้องการ แบบ Series"
      ]
    },
    {
      "cell_type": "code",
      "metadata": {
        "colab": {
          "base_uri": "https://localhost:8080/"
        },
        "id": "zwWBz5BgPTok",
        "outputId": "321d8bc1-4c36-4f86-e6a1-6aad0c3e940c"
      },
      "source": [
        "analysisdemo = nls97['gender']          #[ ] เข้าถึง Series\n",
        "print(type(analysisdemo))\n",
        "print(analysisdemo)"
      ],
      "execution_count": null,
      "outputs": [
        {
          "output_type": "stream",
          "name": "stdout",
          "text": [
            "<class 'pandas.core.series.Series'>\n",
            "personid\n",
            "100061    Female\n",
            "100139      Male\n",
            "100284      Male\n",
            "100292      Male\n",
            "100583      Male\n",
            "           ...  \n",
            "999291    Female\n",
            "999406      Male\n",
            "999543    Female\n",
            "999698    Female\n",
            "999963    Female\n",
            "Name: gender, Length: 8984, dtype: category\n",
            "Categories (2, object): ['Female', 'Male']\n"
          ]
        }
      ]
    },
    {
      "cell_type": "markdown",
      "metadata": {
        "id": "zd9Zb9isY3SN"
      },
      "source": [
        "แบบที่ 2 ใช้ [[ 'column_name' ]] เลือก column ที่ต้องการ แบบ DataFrame\n",
        "\n",
        "> Indented block\n",
        "\n",
        "> Indented block\n",
        "\n",
        "\n",
        "\n"
      ]
    },
    {
      "cell_type": "code",
      "metadata": {
        "colab": {
          "base_uri": "https://localhost:8080/"
        },
        "id": "g6JV-PAsTA2d",
        "outputId": "51ab17dd-1304-4dab-f25d-6c723cc0b6d7"
      },
      "source": [
        "analysisdemo = nls97[['gender']]       # [[ 'column_name' ]] เข้าถึง DataFrame เอาทุก rows\n",
        "print(type(analysisdemo))\n",
        "print(analysisdemo)"
      ],
      "execution_count": null,
      "outputs": [
        {
          "output_type": "stream",
          "name": "stdout",
          "text": [
            "<class 'pandas.core.frame.DataFrame'>\n",
            "          gender\n",
            "personid        \n",
            "100061    Female\n",
            "100139      Male\n",
            "100284      Male\n",
            "100292      Male\n",
            "100583      Male\n",
            "...          ...\n",
            "999291    Female\n",
            "999406      Male\n",
            "999543    Female\n",
            "999698    Female\n",
            "999963    Female\n",
            "\n",
            "[8984 rows x 1 columns]\n"
          ]
        }
      ]
    },
    {
      "cell_type": "markdown",
      "metadata": {
        "id": "bFmz9M1CXw0W"
      },
      "source": [
        "แบบที่ 3 ใช้คำสั่ง .loc เลือกเข้าถึงทุก rows และเลือก column แบบใช้ชื่อ 'column_name'\n",
        "\n",
        "ในที่นี้ผลลัพธ์เหมือนกันกับข้างบน"
      ]
    },
    {
      "cell_type": "code",
      "metadata": {
        "colab": {
          "base_uri": "https://localhost:8080/"
        },
        "id": "GyI6yut4TXns",
        "outputId": "44aeecb5-e752-4d4c-ffef-7e805e24bd53"
      },
      "source": [
        "analysisdemo = nls97.loc[:, ['gender']]   #    [     :     ,    [    ]    ]  : => #slicing\n",
        "print(type(analysisdemo))                 #.loc['row_name' , 'column_name']\n",
        "print(analysisdemo)"
      ],
      "execution_count": null,
      "outputs": [
        {
          "output_type": "stream",
          "name": "stdout",
          "text": [
            "<class 'pandas.core.frame.DataFrame'>\n",
            "          gender\n",
            "personid        \n",
            "100061    Female\n",
            "100139      Male\n",
            "100284      Male\n",
            "100292      Male\n",
            "100583      Male\n",
            "...          ...\n",
            "999291    Female\n",
            "999406      Male\n",
            "999543    Female\n",
            "999698    Female\n",
            "999963    Female\n",
            "\n",
            "[8984 rows x 1 columns]\n"
          ]
        }
      ]
    },
    {
      "cell_type": "markdown",
      "metadata": {
        "id": "KUWn1f3uX43k"
      },
      "source": [
        "แบบที่ 4 ใช้คำสั่ง .iloc เลือกเข้าถึงทุก rows และเลือก column แบบใช้เลขตำแหน่ง index ของ column ที่ต้องการ"
      ]
    },
    {
      "cell_type": "code",
      "metadata": {
        "colab": {
          "base_uri": "https://localhost:8080/"
        },
        "id": "oE-qhfSvTgpF",
        "outputId": "6ca7e7cf-756b-48d1-b2e4-5c1075b0e4c0"
      },
      "source": [
        "analysisdemo = nls97.iloc[:, [0]]      #     [     :     ,         [ int index ] ]  : => #slicing\n",
        "print(type(analysisdemo))              #.iloc['row_index_number' , 'column_index_number'] \n",
        "print(analysisdemo)\n",
        "#ทดลองเปลี่ยนเลขตำแหน่ง index เพื่อเข้าถึง columns ต่าง ๆ"
      ],
      "execution_count": null,
      "outputs": [
        {
          "output_type": "stream",
          "name": "stdout",
          "text": [
            "<class 'pandas.core.frame.DataFrame'>\n",
            "          gender\n",
            "personid        \n",
            "100061    Female\n",
            "100139      Male\n",
            "100284      Male\n",
            "100292      Male\n",
            "100583      Male\n",
            "...          ...\n",
            "999291    Female\n",
            "999406      Male\n",
            "999543    Female\n",
            "999698    Female\n",
            "999963    Female\n",
            "\n",
            "[8984 rows x 1 columns]\n"
          ]
        }
      ]
    },
    {
      "cell_type": "markdown",
      "metadata": {
        "id": "VPUGvl2oWOcs"
      },
      "source": [
        "![alt text](https://miro.medium.com/max/2000/1*1C-2_cMi-PUz1Tg5Cscs7A.png)"
      ]
    },
    {
      "cell_type": "markdown",
      "metadata": {
        "id": "SHSlvtVRYF7r"
      },
      "source": [
        "**STEP 8:** วิธีการเลือกแบบหลาย columns โดยใช้ [ ] และ .loc \n",
        "\n",
        "Select multiple columns from a pandas data frame\n",
        "\n",
        "Use the bracket operator and loc to select a few columns:"
      ]
    },
    {
      "cell_type": "markdown",
      "metadata": {
        "id": "FnCCg1VgWWa3"
      },
      "source": [
        "แบบที่ 1 ใช้ [ [' column_name1 ', ' column_name2', ' column_name3 ', ... ] ]  เลือกหลาย columns"
      ]
    },
    {
      "cell_type": "code",
      "metadata": {
        "colab": {
          "base_uri": "https://localhost:8080/"
        },
        "id": "YRj2CMfqYimt",
        "outputId": "9a705f74-4b20-4c86-8bd7-ab769b2fdd81"
      },
      "source": [
        "analysisdemo = nls97[['gender','maritalstatus','highestgradecompleted']] #ให้เปิดไฟล์ nls97 ดู data ไปด้วย\n",
        "print(analysisdemo.shape)  #.shape แสดงจำนวน (rows, columns)\n",
        "print(analysisdemo.head()) #.head() Default จะแสดงให้เห็น 5 rows แต่ความเป็นจริงเข้าถึงทุก rows อยู่แล้ว"
      ],
      "execution_count": null,
      "outputs": [
        {
          "output_type": "stream",
          "name": "stdout",
          "text": [
            "(8984, 3)\n",
            "          gender  maritalstatus  highestgradecompleted\n",
            "personid                                              \n",
            "100061    Female        Married                   13.0\n",
            "100139      Male        Married                   12.0\n",
            "100284      Male  Never-married                    7.0\n",
            "100292      Male            NaN                    NaN\n",
            "100583      Male        Married                   13.0\n"
          ]
        }
      ]
    },
    {
      "cell_type": "markdown",
      "metadata": {
        "id": "xd-vaoFWWlGk"
      },
      "source": [
        "แบบที่ 2 ใช้คำสั่ง .loc[ : , [ 'column_name1', ' column_name2 ', ... ] ] ใช้ : แปลว่า เลือกทุก rows เช่นเดียวกัน \n",
        "\n",
        "ผลลัพธ์จะได้เหมือนกัน"
      ]
    },
    {
      "cell_type": "code",
      "metadata": {
        "id": "l8xiz1YKY5kV",
        "colab": {
          "base_uri": "https://localhost:8080/"
        },
        "outputId": "063c1267-1b1b-42da-9970-895647ff7006"
      },
      "source": [
        "analysisdemo = nls97.loc[:,['gender','maritalstatus','highestgradecompleted']]\n",
        "print(analysisdemo.shape)\n",
        "print(analysisdemo.head())"
      ],
      "execution_count": null,
      "outputs": [
        {
          "output_type": "stream",
          "name": "stdout",
          "text": [
            "(8984, 3)\n",
            "          gender  maritalstatus  highestgradecompleted\n",
            "personid                                              \n",
            "100061    Female        Married                   13.0\n",
            "100139      Male        Married                   12.0\n",
            "100284      Male  Never-married                    7.0\n",
            "100292      Male            NaN                    NaN\n",
            "100583      Male        Married                   13.0\n"
          ]
        }
      ]
    },
    {
      "cell_type": "markdown",
      "metadata": {
        "id": "KHfSKTLDdxqJ"
      },
      "source": [
        "**STEP 9:** วิธีการเลือกแบบหลาย columns ตามรายการ list ของ columns\n",
        "\n",
        "Select multiple columns based on a list of columns เป็นการจัดกลุ่มของ columns จะมีประโยชน์มากในการวิเคราะห์ข้อมูล\n",
        "\n",
        "If you are selecting more than a few columns, it is helpful to create the list of column\n",
        "names separately. Here, we create a keyvars list of key variables for analysis:"
      ]
    },
    {
      "cell_type": "code",
      "metadata": {
        "colab": {
          "base_uri": "https://localhost:8080/"
        },
        "id": "Gax4JuJ0elnl",
        "outputId": "419948f6-ca16-4698-b642-d9da934f7c1b"
      },
      "source": [
        "keyvars = ['gender', 'maritalstatus', 'highestgradecompleted', 'wageincome',\n",
        "           'gpaoverall', 'weeksworked17', 'colenroct17']\n",
        "analysiskeys = nls97[keyvars]\n",
        "print(analysiskeys.info())"
      ],
      "execution_count": null,
      "outputs": [
        {
          "output_type": "stream",
          "name": "stdout",
          "text": [
            "<class 'pandas.core.frame.DataFrame'>\n",
            "Int64Index: 8984 entries, 100061 to 999963\n",
            "Data columns (total 7 columns):\n",
            " #   Column                 Non-Null Count  Dtype   \n",
            "---  ------                 --------------  -----   \n",
            " 0   gender                 8984 non-null   category\n",
            " 1   maritalstatus          6672 non-null   category\n",
            " 2   highestgradecompleted  6663 non-null   float64 \n",
            " 3   wageincome             5091 non-null   float64 \n",
            " 4   gpaoverall             6004 non-null   float64 \n",
            " 5   weeksworked17          6670 non-null   float64 \n",
            " 6   colenroct17            6734 non-null   category\n",
            "dtypes: category(3), float64(4)\n",
            "memory usage: 377.7 KB\n",
            "None\n"
          ]
        }
      ]
    },
    {
      "cell_type": "markdown",
      "metadata": {
        "id": "hz_3XzkTgr-n"
      },
      "source": [
        "**STEP 10:** วิธีการเลือก columns ด้วย Filter operator\n",
        "\n",
        "Select all of the weeksworked## columns using the filter operator\n",
        "\n",
        "ใช้คำสั่ง .filter() ผ่านตัวดำเนินการ like"
      ]
    },
    {
      "cell_type": "code",
      "metadata": {
        "colab": {
          "base_uri": "https://localhost:8080/"
        },
        "id": "IMURKsnrhtOf",
        "outputId": "d340da96-f09c-4016-9e84-b4f95bee267b"
      },
      "source": [
        "analysiswork = nls97.filter(like=\"weeksworked\")\n",
        "print(analysiswork.info())"
      ],
      "execution_count": null,
      "outputs": [
        {
          "output_type": "stream",
          "name": "stdout",
          "text": [
            "<class 'pandas.core.frame.DataFrame'>\n",
            "Int64Index: 8984 entries, 100061 to 999963\n",
            "Data columns (total 18 columns):\n",
            " #   Column         Non-Null Count  Dtype  \n",
            "---  ------         --------------  -----  \n",
            " 0   weeksworked00  8603 non-null   float64\n",
            " 1   weeksworked01  8564 non-null   float64\n",
            " 2   weeksworked02  8556 non-null   float64\n",
            " 3   weeksworked03  8490 non-null   float64\n",
            " 4   weeksworked04  8458 non-null   float64\n",
            " 5   weeksworked05  8403 non-null   float64\n",
            " 6   weeksworked06  8340 non-null   float64\n",
            " 7   weeksworked07  8272 non-null   float64\n",
            " 8   weeksworked08  8186 non-null   float64\n",
            " 9   weeksworked09  8146 non-null   float64\n",
            " 10  weeksworked10  8054 non-null   float64\n",
            " 11  weeksworked11  7968 non-null   float64\n",
            " 12  weeksworked12  7747 non-null   float64\n",
            " 13  weeksworked13  7680 non-null   float64\n",
            " 14  weeksworked14  7612 non-null   float64\n",
            " 15  weeksworked15  7389 non-null   float64\n",
            " 16  weeksworked16  7068 non-null   float64\n",
            " 17  weeksworked17  6670 non-null   float64\n",
            "dtypes: float64(18)\n",
            "memory usage: 1.3 MB\n",
            "None\n"
          ]
        }
      ]
    },
    {
      "cell_type": "markdown",
      "metadata": {
        "id": "JMM7WJHZiuDt"
      },
      "source": [
        "**STEP 11:** วิธีการเลือก columns ด้วย Data Types\n",
        "\n",
        "ใช้คำสั่ง .select_dtype() ในการเลือก columns ด้วย data type --> include=[ \"data_type\" ]"
      ]
    },
    {
      "cell_type": "code",
      "metadata": {
        "colab": {
          "base_uri": "https://localhost:8080/"
        },
        "id": "B07l29F4jAeM",
        "outputId": "46cf2ebb-e677-4f08-b71f-87e4f3ef124d"
      },
      "source": [
        "analysiscats = nls97.select_dtypes(include=[\"category\"]) #ในที่นี้เลือกเฉพาะ data type ที่เป็น \"category\"\n",
        "print(analysiscats.info())                               #ทดลองพิมพ์เป็น int64, float64"
      ],
      "execution_count": null,
      "outputs": [
        {
          "output_type": "stream",
          "name": "stdout",
          "text": [
            "<class 'pandas.core.frame.DataFrame'>\n",
            "Int64Index: 8984 entries, 100061 to 999963\n",
            "Data columns (total 57 columns):\n",
            " #   Column                 Non-Null Count  Dtype   \n",
            "---  ------                 --------------  -----   \n",
            " 0   gender                 8984 non-null   category\n",
            " 1   maritalstatus          6672 non-null   category\n",
            " 2   weeklyhrscomputer      6710 non-null   category\n",
            " 3   weeklyhrstv            6711 non-null   category\n",
            " 4   highestdegree          8953 non-null   category\n",
            " 5   govprovidejobs         1833 non-null   category\n",
            " 6   govpricecontrols       1859 non-null   category\n",
            " 7   govhealthcare          1874 non-null   category\n",
            " 8   govelderliving         1872 non-null   category\n",
            " 9   govindhelp             1815 non-null   category\n",
            " 10  govunemp               1811 non-null   category\n",
            " 11  govincomediff          1775 non-null   category\n",
            " 12  govcollegefinance      1875 non-null   category\n",
            " 13  govdecenthousing       1847 non-null   category\n",
            " 14  govprotectenvironment  1860 non-null   category\n",
            " 15  colenrfeb97            1250 non-null   category\n",
            " 16  colenroct97            8501 non-null   category\n",
            " 17  colenrfeb98            8501 non-null   category\n",
            " 18  colenroct98            8888 non-null   category\n",
            " 19  colenrfeb99            8865 non-null   category\n",
            " 20  colenroct99            8851 non-null   category\n",
            " 21  colenrfeb00            8820 non-null   category\n",
            " 22  colenroct00            8805 non-null   category\n",
            " 23  colenrfeb01            8786 non-null   category\n",
            " 24  colenroct01            8758 non-null   category\n",
            " 25  colenrfeb02            8732 non-null   category\n",
            " 26  colenroct02            8698 non-null   category\n",
            " 27  colenrfeb03            8658 non-null   category\n",
            " 28  colenroct03            8622 non-null   category\n",
            " 29  colenrfeb04            8578 non-null   category\n",
            " 30  colenroct04            8546 non-null   category\n",
            " 31  colenrfeb05            8508 non-null   category\n",
            " 32  colenroct05            8471 non-null   category\n",
            " 33  colenrfeb06            8426 non-null   category\n",
            " 34  colenroct06            8407 non-null   category\n",
            " 35  colenrfeb07            8352 non-null   category\n",
            " 36  colenroct07            8331 non-null   category\n",
            " 37  colenrfeb08            8289 non-null   category\n",
            " 38  colenroct08            8280 non-null   category\n",
            " 39  colenrfeb09            8236 non-null   category\n",
            " 40  colenroct09            8193 non-null   category\n",
            " 41  colenrfeb10            8116 non-null   category\n",
            " 42  colenroct10            8091 non-null   category\n",
            " 43  colenrfeb11            8037 non-null   category\n",
            " 44  colenroct11            7972 non-null   category\n",
            " 45  colenrfeb12            7794 non-null   category\n",
            " 46  colenroct12            7754 non-null   category\n",
            " 47  colenrfeb13            7754 non-null   category\n",
            " 48  colenroct13            7754 non-null   category\n",
            " 49  colenrfeb14            7624 non-null   category\n",
            " 50  colenroct14            7469 non-null   category\n",
            " 51  colenrfeb15            7469 non-null   category\n",
            " 52  colenroct15            7469 non-null   category\n",
            " 53  colenrfeb16            7036 non-null   category\n",
            " 54  colenroct16            6733 non-null   category\n",
            " 55  colenrfeb17            6733 non-null   category\n",
            " 56  colenroct17            6734 non-null   category\n",
            "dtypes: category(57)\n",
            "memory usage: 580.0 KB\n",
            "None\n"
          ]
        }
      ]
    },
    {
      "cell_type": "markdown",
      "metadata": {
        "id": "5ttLvcCjjgKQ"
      },
      "source": [
        "**STEP 12:** วิธีการเลือก columns ด้วย Data Types แบบชนิด number \n",
        "\n",
        "ใช้คำสั่ง .select_dtypes(include=[\"number\"]) --> int64, float64"
      ]
    },
    {
      "cell_type": "code",
      "metadata": {
        "colab": {
          "base_uri": "https://localhost:8080/"
        },
        "id": "3Fo02o1Fkio-",
        "outputId": "7d10c54f-6b93-49b5-b766-c56790c1e75b"
      },
      "source": [
        "analysisnums = nls97.select_dtypes(include=[\"number\"])\n",
        "print(analysisnums.info())"
      ],
      "execution_count": null,
      "outputs": [
        {
          "output_type": "stream",
          "name": "stdout",
          "text": [
            "<class 'pandas.core.frame.DataFrame'>\n",
            "Int64Index: 8984 entries, 100061 to 999963\n",
            "Data columns (total 31 columns):\n",
            " #   Column                 Non-Null Count  Dtype  \n",
            "---  ------                 --------------  -----  \n",
            " 0   birthmonth             8984 non-null   int64  \n",
            " 1   birthyear              8984 non-null   int64  \n",
            " 2   highestgradecompleted  6663 non-null   float64\n",
            " 3   childathome            4791 non-null   float64\n",
            " 4   childnotathome         4791 non-null   float64\n",
            " 5   wageincome             5091 non-null   float64\n",
            " 6   nightlyhrssleep        6706 non-null   float64\n",
            " 7   satverbal              1406 non-null   float64\n",
            " 8   satmath                1407 non-null   float64\n",
            " 9   gpaoverall             6004 non-null   float64\n",
            " 10  gpaenglish             5798 non-null   float64\n",
            " 11  gpamath                5766 non-null   float64\n",
            " 12  gpascience             5684 non-null   float64\n",
            " 13  weeksworked00          8603 non-null   float64\n",
            " 14  weeksworked01          8564 non-null   float64\n",
            " 15  weeksworked02          8556 non-null   float64\n",
            " 16  weeksworked03          8490 non-null   float64\n",
            " 17  weeksworked04          8458 non-null   float64\n",
            " 18  weeksworked05          8403 non-null   float64\n",
            " 19  weeksworked06          8340 non-null   float64\n",
            " 20  weeksworked07          8272 non-null   float64\n",
            " 21  weeksworked08          8186 non-null   float64\n",
            " 22  weeksworked09          8146 non-null   float64\n",
            " 23  weeksworked10          8054 non-null   float64\n",
            " 24  weeksworked11          7968 non-null   float64\n",
            " 25  weeksworked12          7747 non-null   float64\n",
            " 26  weeksworked13          7680 non-null   float64\n",
            " 27  weeksworked14          7612 non-null   float64\n",
            " 28  weeksworked15          7389 non-null   float64\n",
            " 29  weeksworked16          7068 non-null   float64\n",
            " 30  weeksworked17          6670 non-null   float64\n",
            "dtypes: float64(29), int64(2)\n",
            "memory usage: 2.2 MB\n",
            "None\n"
          ]
        }
      ]
    },
    {
      "cell_type": "markdown",
      "metadata": {
        "id": "7LEbh-KMlHXL"
      },
      "source": [
        "**STEP 13:** วิธีการจัดระเบียบ column โดยใช้ list ของ column names\n",
        "\n",
        "Organize columns using lists of column names"
      ]
    },
    {
      "cell_type": "code",
      "metadata": {
        "id": "aGatlIajlhpO"
      },
      "source": [
        "demo = ['gender','birthmonth','birthyear']\n",
        "highschoolrecord = ['satverbal','satmath','gpaoverall','gpaenglish','gpamath','gpascience']\n",
        "govresp = ['govprovidejobs','govpricecontrols','govhealthcare','govelderliving','govindhelp',\n",
        "          'govunemp','govincomediff','govcollegefinance','govdecenthousing','govprotectenvironment']\n",
        "demoadult = ['highestgradecompleted','maritalstatus','childathome','childnotathome','wageincome',\n",
        "            'weeklyhrscomputer','weeklyhrstv','nightlyhrssleep','highestdegree']\n",
        "weeksworked = ['weeksworked00','weeksworked01','weeksworked02','weeksworked03','weeksworked04',\n",
        "              'weeksworked05','weeksworked06',  'weeksworked07','weeksworked08','weeksworked09',\n",
        "              'weeksworked10','weeksworked11','weeksworked12','weeksworked13','weeksworked14',\n",
        "              'weeksworked15','weeksworked16','weeksworked17']\n",
        "colenr = ['colenrfeb97','colenroct97','colenrfeb98','colenroct98','colenrfeb99',  'colenroct99',\n",
        "          'colenrfeb00','colenroct00','colenrfeb01','colenroct01','colenrfeb02','colenroct02',\n",
        "          'colenrfeb03','colenroct03','colenrfeb04','colenroct04','colenrfeb05','colenroct05',\n",
        "          'colenrfeb06','colenroct06','colenrfeb07','colenroct07','colenrfeb08','colenroct08',\n",
        "          'colenrfeb09','colenroct09','colenrfeb10','colenroct10','colenrfeb11','colenroct11',\n",
        "          'colenrfeb12','colenroct12','colenrfeb13','colenroct13',  'colenrfeb14','colenroct14',\n",
        "          'colenrfeb15','colenroct15','colenrfeb16','colenroct16','colenrfeb17','colenroct17']"
      ],
      "execution_count": null,
      "outputs": []
    },
    {
      "cell_type": "markdown",
      "metadata": {
        "id": "9Z7ZpKbEm3B1"
      },
      "source": [
        "**STEP 14:** สร้าง DataFrame ที่จัดระเบียบ columns ใหม่\n",
        "\n",
        "Create the new, reorganized DataFrame"
      ]
    },
    {
      "cell_type": "code",
      "metadata": {
        "colab": {
          "base_uri": "https://localhost:8080/"
        },
        "id": "IK_Xpu1PnION",
        "outputId": "0d6598a1-9d20-4a8a-fdbb-f063ddd78cdd"
      },
      "source": [
        "new_nls97 = nls97[demoadult + demo + highschoolrecord + govresp + weeksworked + colenr]\n",
        "print(new_nls97.dtypes)"
      ],
      "execution_count": null,
      "outputs": [
        {
          "output_type": "stream",
          "name": "stdout",
          "text": [
            "highestgradecompleted     float64\n",
            "maritalstatus            category\n",
            "childathome               float64\n",
            "childnotathome            float64\n",
            "wageincome                float64\n",
            "                           ...   \n",
            "colenroct15              category\n",
            "colenrfeb16              category\n",
            "colenroct16              category\n",
            "colenrfeb17              category\n",
            "colenroct17              category\n",
            "Length: 88, dtype: object\n"
          ]
        }
      ]
    },
    {
      "cell_type": "markdown",
      "metadata": {
        "id": "YOspR9hntXZI"
      },
      "source": [
        "**STEP 15:** ทำการสร้างไฟล์ new_nls97.csv เพื่อ export ไปใช้งาน\n",
        "\n",
        "ใช้คำสั่ง ชื่อตัวแปรข้อมูล.to_csv(\"/path/...\")"
      ]
    },
    {
      "cell_type": "code",
      "metadata": {
        "id": "0bLVDTbYs2nn"
      },
      "source": [
        "new_nls97.to_csv(\"/content/new_nls97.csv\")"
      ],
      "execution_count": null,
      "outputs": []
    },
    {
      "cell_type": "markdown",
      "metadata": {
        "id": "GL2cD0Qjnzj-"
      },
      "source": [
        "**STEP 16:** เราสามารถใช้คำสั่ง select_dtypes เพื่อเลือก columns ที่ยกเว้น data types ที่ไม่ต้องการเลือกได้\n",
        "\n",
        "ใช้คำสั่ง select_dtypes(exclude=[\" data_type \"])"
      ]
    },
    {
      "cell_type": "code",
      "metadata": {
        "colab": {
          "base_uri": "https://localhost:8080/"
        },
        "id": "THzvIE6LoRM2",
        "outputId": "b1a72133-a9f8-4677-ce42-3c3f77a82eda"
      },
      "source": [
        "data_notcategoty = nls97.select_dtypes(exclude=[\"category\"]) #ใส่ data types ที่ไม่ต้องการ\n",
        "print(data_notcategoty.info())"
      ],
      "execution_count": null,
      "outputs": [
        {
          "output_type": "stream",
          "name": "stdout",
          "text": [
            "<class 'pandas.core.frame.DataFrame'>\n",
            "Int64Index: 8984 entries, 100061 to 999963\n",
            "Data columns (total 31 columns):\n",
            " #   Column                 Non-Null Count  Dtype  \n",
            "---  ------                 --------------  -----  \n",
            " 0   highestgradecompleted  6663 non-null   float64\n",
            " 1   childathome            4791 non-null   float64\n",
            " 2   childnotathome         4791 non-null   float64\n",
            " 3   wageincome             5091 non-null   float64\n",
            " 4   nightlyhrssleep        6706 non-null   float64\n",
            " 5   birthmonth             8984 non-null   int64  \n",
            " 6   birthyear              8984 non-null   int64  \n",
            " 7   satverbal              1406 non-null   float64\n",
            " 8   satmath                1407 non-null   float64\n",
            " 9   gpaoverall             6004 non-null   float64\n",
            " 10  gpaenglish             5798 non-null   float64\n",
            " 11  gpamath                5766 non-null   float64\n",
            " 12  gpascience             5684 non-null   float64\n",
            " 13  weeksworked00          8603 non-null   float64\n",
            " 14  weeksworked01          8564 non-null   float64\n",
            " 15  weeksworked02          8556 non-null   float64\n",
            " 16  weeksworked03          8490 non-null   float64\n",
            " 17  weeksworked04          8458 non-null   float64\n",
            " 18  weeksworked05          8403 non-null   float64\n",
            " 19  weeksworked06          8340 non-null   float64\n",
            " 20  weeksworked07          8272 non-null   float64\n",
            " 21  weeksworked08          8186 non-null   float64\n",
            " 22  weeksworked09          8146 non-null   float64\n",
            " 23  weeksworked10          8054 non-null   float64\n",
            " 24  weeksworked11          7968 non-null   float64\n",
            " 25  weeksworked12          7747 non-null   float64\n",
            " 26  weeksworked13          7680 non-null   float64\n",
            " 27  weeksworked14          7612 non-null   float64\n",
            " 28  weeksworked15          7389 non-null   float64\n",
            " 29  weeksworked16          7068 non-null   float64\n",
            " 30  weeksworked17          6670 non-null   float64\n",
            "dtypes: float64(29), int64(2)\n",
            "memory usage: 2.2 MB\n",
            "None\n"
          ]
        }
      ]
    },
    {
      "cell_type": "markdown",
      "metadata": {
        "id": "1TRZQtz8ox2f"
      },
      "source": [
        "**STEP 17:** เราสามารถ Filter ชื่อ column ที่มีคำที่เราต้องการได้\n",
        "\n",
        "The filter operator can also take a regular expression\n",
        "\n",
        "ใช้คำสั่ง filter(regex=[ 'word' ])"
      ]
    },
    {
      "cell_type": "code",
      "metadata": {
        "colab": {
          "base_uri": "https://localhost:8080/"
        },
        "id": "cLLw3gSMp-OH",
        "outputId": "a3df8e21-32c6-4d48-dc07-d8cdec554b77"
      },
      "source": [
        "data_wordincome = nls97.filter(regex='income') #ทดลองเปลี่ยนเป็น 'birth' หรือ 'gpa'\n",
        "print(data_wordincome)"
      ],
      "execution_count": null,
      "outputs": [
        {
          "output_type": "stream",
          "name": "stdout",
          "text": [
            "          wageincome govincomediff\n",
            "personid                          \n",
            "100061       12500.0           NaN\n",
            "100139      120000.0           NaN\n",
            "100284       58000.0           NaN\n",
            "100292           NaN           NaN\n",
            "100583       30000.0           NaN\n",
            "...              ...           ...\n",
            "999291       35000.0           NaN\n",
            "999406      116000.0           NaN\n",
            "999543           NaN           NaN\n",
            "999698           NaN           NaN\n",
            "999963       50000.0           NaN\n",
            "\n",
            "[8984 rows x 2 columns]\n"
          ]
        }
      ]
    }
  ]
}