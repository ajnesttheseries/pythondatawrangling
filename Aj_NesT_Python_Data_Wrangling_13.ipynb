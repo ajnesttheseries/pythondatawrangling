{
  "nbformat": 4,
  "nbformat_minor": 0,
  "metadata": {
    "colab": {
      "name": "Aj.NesT - Python Data Wrangling #13",
      "provenance": [],
      "collapsed_sections": []
    },
    "kernelspec": {
      "name": "python3",
      "display_name": "Python 3"
    },
    "language_info": {
      "name": "python"
    }
  },
  "cells": [
    {
      "cell_type": "markdown",
      "metadata": {
        "id": "OtrCo05tRE73"
      },
      "source": [
        "#Data Wrangling with Pandas\n",
        "\n",
        "[Aj. NesT the Series](http://bit.ly/ajnesttheseriesSubscribe)\n",
        "\n",
        "Referenence: [Pyhton Data Cleaning Cookbook 2020](https://github.com/PacktPublishing/Python-Data-Cleaning-Cookbook)\n",
        "\n",
        "##Practice 3: สร้างฟังก์ชันและคลาสที่กำหนดโดยผู้ใช้เพื่อทำความสะอาดข้อมูลแบบอัตโนมัติ\n",
        "\n",
        "--> User-Defined Functions and Classes to Automate Data Cleaning\n",
        "\n",
        "[Python Pandas Cheat Sheets](https://www.enthought.com/wp-content/uploads/Enthought-Python-Pandas-Cheat-Sheets-1-8-v1.0.2.pdf)"
      ]
    },
    {
      "cell_type": "markdown",
      "metadata": {
        "id": "WYvmolVuVVMN"
      },
      "source": [
        "##Workshop 13: สร้าง Class และเรียกใช้งาน Functions เพื่อทำความสะอาดข้อมูล\n",
        "--> Classes that contain the logic for updating\n",
        "series values\n",
        "\n",
        "###Input Datasets\n",
        "\n",
        "* **[nls97f.csv](https://drive.google.com/file/d/1t9YHxkeCr4CUQqy8XDDu_RKM9uMKr0BP/view?usp=sharing)** - The survey started with a cohort\n",
        "of individuals in 1997 who were born between 1980 and 1985, with annual\n",
        "follow-ups each year through 2017. the National Longitudinal Survey (NLS) 1997-2017. "
      ]
    },
    {
      "cell_type": "markdown",
      "metadata": {
        "id": "mySii_FKZZz-"
      },
      "source": [
        "####Question 13: สร้าง Class เพื่อเรียกใช้งาน functions ต่าง ๆ ต้องเขียนอย่างไรบ้าง?\n",
        "\n",
        "**STEP 1:** นำเข้า Datasets โดยทำการ Upload ไฟล์ nls97f.csv ขึ้น Google Colab (ไฟล์นี้จะถูกลบเมื่อเราหลุดจาก Session หรือปิด Browser) หรือ Python IDE เช่น PyCharm, VSCode, Juputer Notebook, etc.\n",
        "\n",
        "**STEP 2:** เขียนโปรแกรมเพื่อสร้าง Class และ functions ต่าง ๆ ที่อยู่ภายใน Class"
      ]
    },
    {
      "cell_type": "code",
      "metadata": {
        "id": "4YIssfaTQMPI"
      },
      "source": [
        "import math\n",
        "import datetime as dt\n",
        "\n",
        "class Respondent:\n",
        "  respondentcnt = 0\n",
        "  #(1) Constructure ต้องมีทุก Class สำหรับกำหนดค่าเริ่มต้นของคลาส\n",
        "  def __init__(self, respdict):\n",
        "    self.respdict = respdict\n",
        "    Respondent.respondentcnt+=1\n",
        "   \n",
        "  #(2) add the number of children at home and not at home\n",
        "  def childnum(self):\n",
        "    return self.respdict['childathome'] + self.respdict['childnotathome']\n",
        "\n",
        "  #(3) select the weeksworked## keys and calcuate the average of their values\n",
        "  def avgweeksworked(self):\n",
        "    workdict = {k: v for k, v in self.respdict.items() \\\n",
        "      if k.startswith('weeksworked') and not math.isnan(v)}\n",
        "    nweeks = len(workdict)\n",
        "    if (nweeks>0):\n",
        "      avgww = sum(workdict.values())/nweeks\n",
        "    else:\n",
        "      avgww = 0\n",
        "    return avgww\n",
        "\n",
        "  #(4) define a function for calculating given start and end date\n",
        "  def ageby(self, bydatestring):\n",
        "    bydate = dt.datetime.strptime(bydatestring, '%Y%m%d')\n",
        "    birthyear = self.respdict['birthyear']\n",
        "    birthmonth = self.respdict['birthmonth']\n",
        "    age = bydate.year - birthyear\n",
        "    if (bydate.month<birthmonth or (bydate.month==birthmonth \\\n",
        "        and bydate.day<15)):\n",
        "      age = age -1\n",
        "    return age\n",
        "  \n",
        "  #(5) define baenrollment function\n",
        "  def baenrollment(self):\n",
        "    colenrdict = {k: v for k, v in self.respdict.items() \\\n",
        "      if k.startswith('colenr') and v==\"3. 4-year college\"}\n",
        "    if (len(colenrdict)>0):\n",
        "      return \"Y\"\n",
        "    else:\n",
        "      return \"N\""
      ],
      "execution_count": 11,
      "outputs": []
    },
    {
      "cell_type": "markdown",
      "metadata": {
        "id": "-k8IB6y2D9fM"
      },
      "source": [
        "**STEP 3:** นำเข้า pandas librariey มาใช้งาน\n",
        "\n",
        "**STEP 4:** ทำการอ่านไฟล์ .csv ด้วย pandas เก็บเป็น Dataframe\n",
        "\n",
        "ใช้คำสั่ง .read_csv()\n",
        "\n",
        "**STEP 5:** ตั้งค่าและแสดง index และ size ของ nls97f data\n",
        "\n",
        "ใช้คำสั่ง set_index()"
      ]
    },
    {
      "cell_type": "code",
      "metadata": {
        "id": "nMKrkyG08GE0",
        "colab": {
          "base_uri": "https://localhost:8080/"
        },
        "outputId": "ce53273c-bc92-4511-d0f5-753615a5a061"
      },
      "source": [
        "#import the pandas and pprint libraries\n",
        "import pandas as pd\n",
        "import pprint\n",
        "#load the NLS data and then create a list of dictionaries\n",
        "nls97 = pd.read_csv(\"/content/nls97f.csv\")\n",
        "nls97list = nls97.to_dict('records')  #คำสั่ง .to_dict() เป็นการ Convert the DataFrame to a dictionary.\n",
        "print(nls97.shape)\n",
        "print()\n",
        "print(len(nls97list))\n",
        "print()\n",
        "pprint.pprint(nls97list[0:1])"
      ],
      "execution_count": 12,
      "outputs": [
        {
          "output_type": "stream",
          "name": "stdout",
          "text": [
            "(8984, 90)\n",
            "\n",
            "8984\n",
            "\n",
            "[{'birthmonth': 5,\n",
            "  'birthyear': 1980,\n",
            "  'childathome': 4.0,\n",
            "  'childnotathome': 0.0,\n",
            "  'colenrfeb00': '1. Not enrolled',\n",
            "  'colenrfeb01': '1. Not enrolled',\n",
            "  'colenrfeb02': '1. Not enrolled',\n",
            "  'colenrfeb03': '1. Not enrolled',\n",
            "  'colenrfeb04': '1. Not enrolled',\n",
            "  'colenrfeb05': '1. Not enrolled',\n",
            "  'colenrfeb06': '1. Not enrolled',\n",
            "  'colenrfeb07': '1. Not enrolled',\n",
            "  'colenrfeb08': '1. Not enrolled',\n",
            "  'colenrfeb09': '1. Not enrolled',\n",
            "  'colenrfeb10': '1. Not enrolled',\n",
            "  'colenrfeb11': '1. Not enrolled',\n",
            "  'colenrfeb12': '3. 4-year college',\n",
            "  'colenrfeb13': '1. Not enrolled',\n",
            "  'colenrfeb14': '1. Not enrolled',\n",
            "  'colenrfeb15': '1. Not enrolled',\n",
            "  'colenrfeb16': '1. Not enrolled',\n",
            "  'colenrfeb17': '1. Not enrolled',\n",
            "  'colenrfeb97': '1. Not enrolled',\n",
            "  'colenrfeb98': '1. Not enrolled',\n",
            "  'colenrfeb99': '1. Not enrolled',\n",
            "  'colenroct00': '1. Not enrolled',\n",
            "  'colenroct01': '1. Not enrolled',\n",
            "  'colenroct02': '1. Not enrolled',\n",
            "  'colenroct03': '1. Not enrolled',\n",
            "  'colenroct04': '1. Not enrolled',\n",
            "  'colenroct05': '1. Not enrolled',\n",
            "  'colenroct06': '1. Not enrolled',\n",
            "  'colenroct07': '1. Not enrolled',\n",
            "  'colenroct08': '1. Not enrolled',\n",
            "  'colenroct09': '1. Not enrolled',\n",
            "  'colenroct10': '1. Not enrolled',\n",
            "  'colenroct11': '3. 4-year college',\n",
            "  'colenroct12': '3. 4-year college',\n",
            "  'colenroct13': '1. Not enrolled',\n",
            "  'colenroct14': '1. Not enrolled',\n",
            "  'colenroct15': '1. Not enrolled',\n",
            "  'colenroct16': '1. Not enrolled',\n",
            "  'colenroct17': '1. Not enrolled',\n",
            "  'colenroct97': '1. Not enrolled',\n",
            "  'colenroct98': '1. Not enrolled',\n",
            "  'colenroct99': '1. Not enrolled',\n",
            "  'gender': 'Female',\n",
            "  'govcollegefinance': nan,\n",
            "  'govdecenthousing': nan,\n",
            "  'govelderliving': nan,\n",
            "  'govhealthcare': nan,\n",
            "  'govincomediff': nan,\n",
            "  'govindhelp': nan,\n",
            "  'govpricecontrols': nan,\n",
            "  'govprotectenvironment': nan,\n",
            "  'govprovidejobs': nan,\n",
            "  'govunemp': nan,\n",
            "  'gpaenglish': 350.0,\n",
            "  'gpamath': 280.0,\n",
            "  'gpaoverall': 306.0,\n",
            "  'gpascience': 315.0,\n",
            "  'highestdegree': '2. High School',\n",
            "  'highestgradecompleted': 13.0,\n",
            "  'maritalstatus': 'Married',\n",
            "  'nightlyhrssleep': 6.0,\n",
            "  'originalid': 8245,\n",
            "  'personid': 100061,\n",
            "  'satmath': nan,\n",
            "  'satverbal': nan,\n",
            "  'wageincome': 12500.0,\n",
            "  'weeklyhrscomputer': '10 hours or more a week',\n",
            "  'weeklyhrstv': '11 to 20 hours a week',\n",
            "  'weeksworked00': 46.0,\n",
            "  'weeksworked01': 52.0,\n",
            "  'weeksworked02': 52.0,\n",
            "  'weeksworked03': 48.0,\n",
            "  'weeksworked04': 52.0,\n",
            "  'weeksworked05': 53.0,\n",
            "  'weeksworked06': 52.0,\n",
            "  'weeksworked07': 52.0,\n",
            "  'weeksworked08': 39.0,\n",
            "  'weeksworked09': 40.0,\n",
            "  'weeksworked10': 52.0,\n",
            "  'weeksworked11': 53.0,\n",
            "  'weeksworked12': 40.0,\n",
            "  'weeksworked13': 52.0,\n",
            "  'weeksworked14': 52.0,\n",
            "  'weeksworked15': 52.0,\n",
            "  'weeksworked16': 48.0,\n",
            "  'weeksworked17': 48.0}]\n"
          ]
        }
      ]
    },
    {
      "cell_type": "markdown",
      "metadata": {
        "id": "TfB6BKmo01PU"
      },
      "source": [
        "**STEP 6:** เปิดใช้งาน Class ชื่อ Respondent() และใช้งาน functions ต่าง ๆ ที่อยู่ใน Class"
      ]
    },
    {
      "cell_type": "code",
      "metadata": {
        "id": "K3HZR78q1OXw"
      },
      "source": [
        "#loop through the list creating a respondent instance each time\n",
        "analysislist = []\n",
        "for respdict in nls97list:\n",
        "  resp = Respondent(respdict) #เปิดใช้งาน class(ใส่ตาม constructure)\n",
        "  newdict = dict(originalid=respdict['originalid'],\n",
        "    childnum=resp.childnum(),\n",
        "    avgweeksworked=resp.avgweeksworked(),\n",
        "    age=resp.ageby('20201015'),\n",
        "    baenrollment=resp.baenrollment())\n",
        "  analysislist.append(newdict)"
      ],
      "execution_count": 13,
      "outputs": []
    },
    {
      "cell_type": "markdown",
      "metadata": {
        "id": "q90QguZeC9LZ"
      },
      "source": [
        "**STEP 7:** สร้าง pandas DataFrame"
      ]
    },
    {
      "cell_type": "code",
      "metadata": {
        "colab": {
          "base_uri": "https://localhost:8080/"
        },
        "id": "RsCB0TN_Oy_M",
        "outputId": "11cdf044-8731-48e0-d166-ef8ed1da7e8f"
      },
      "source": [
        "#create a pandas data frame\n",
        "len(analysislist)\n",
        "resp.respondentcnt\n",
        "pprint.pprint(analysislist[0:4])\n",
        "analysis = pd.DataFrame(analysislist)\n",
        "print()\n",
        "print(analysis.head(4))"
      ],
      "execution_count": 17,
      "outputs": [
        {
          "output_type": "stream",
          "name": "stdout",
          "text": [
            "[{'age': 40,\n",
            "  'avgweeksworked': 49.05555555555556,\n",
            "  'baenrollment': 'Y',\n",
            "  'childnum': 4.0,\n",
            "  'originalid': 8245},\n",
            " {'age': 37,\n",
            "  'avgweeksworked': 49.388888888888886,\n",
            "  'baenrollment': 'N',\n",
            "  'childnum': 2.0,\n",
            "  'originalid': 3962},\n",
            " {'age': 35,\n",
            "  'avgweeksworked': 28.176470588235293,\n",
            "  'baenrollment': 'N',\n",
            "  'childnum': 1.0,\n",
            "  'originalid': 3571},\n",
            " {'age': 38,\n",
            "  'avgweeksworked': 43.35294117647059,\n",
            "  'baenrollment': 'Y',\n",
            "  'childnum': nan,\n",
            "  'originalid': 2979}]\n",
            "\n",
            "   originalid  childnum  avgweeksworked  age baenrollment\n",
            "0        8245       4.0       49.055556   40            Y\n",
            "1        3962       2.0       49.388889   37            N\n",
            "2        3571       1.0       28.176471   35            N\n",
            "3        2979       NaN       43.352941   38            Y\n"
          ]
        }
      ]
    }
  ]
}