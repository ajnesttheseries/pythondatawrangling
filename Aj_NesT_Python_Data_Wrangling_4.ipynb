{
  "nbformat": 4,
  "nbformat_minor": 0,
  "metadata": {
    "colab": {
      "name": "Aj.NesT - Python Data Wrangling #4",
      "provenance": [],
      "collapsed_sections": []
    },
    "kernelspec": {
      "name": "python3",
      "display_name": "Python 3"
    },
    "language_info": {
      "name": "python"
    }
  },
  "cells": [
    {
      "cell_type": "markdown",
      "metadata": {
        "id": "OtrCo05tRE73"
      },
      "source": [
        "#Data Wrangling with Pandas\n",
        "\n",
        "[Aj. NesT the Series](http://bit.ly/ajnesttheseriesSubscribe)\n",
        "\n",
        "Referenence: [Pyhton Data Cleaning Cookbook 2020](https://github.com/PacktPublishing/Python-Data-Cleaning-Cookbook)\n",
        "\n",
        "##Practice 1: เช็คคุณภาพข้อมูลและทำความสะอาดข้อมูล\n",
        "\n",
        "Measuring Data Quality and Data Cleaning of Your Data "
      ]
    },
    {
      "cell_type": "markdown",
      "metadata": {
        "id": "WYvmolVuVVMN"
      },
      "source": [
        "##Workshop 4: สร้างค่าความถี่ให้กับข้อมูล\n",
        "--> Generating frequencies for categorical\n",
        "variables\n",
        "\n",
        "###Input Datasets\n",
        "\n",
        "* **[nls97.csv](https://drive.google.com/file/d/1-av28HdgEAYPc7ZSmvIh1JdR6Pb4HIfg/view?usp=sharing)** - the National Longitudinal Survey (NLS) 1997-2017."
      ]
    },
    {
      "cell_type": "markdown",
      "metadata": {
        "id": "mySii_FKZZz-"
      },
      "source": [
        "####Question 2: เราจะสำรวจวิธีการเลือกและจัดระเบียบให้กับคอลัมน์\n",
        "\n",
        "**STEP 1:** นำเข้า Datasets โดยทำการ Upload ไฟล์ nls97.csv และไฟล์ covidtotals.csv ขึ้น Google Colab (ไฟล์นี้จะถูกลบเมื่อเราหลุดจาก Session หรือปิด Browser) หรือ Python IDE เช่น PyCharm, VSCode, Juputer Notebook, etc.\n",
        "\n",
        "**STEP 2:** ทำการอ่านไฟล์ .csv ด้วย pandas เก็บเป็น Dataframe\n",
        "\n",
        "ใช้คำสั่ง .read_csv()\n",
        "\n",
        "**STEP 3:** ตั้งค่าและแสดง index และ size ของ nls97 data\n",
        "\n",
        "ใช้คำสั่ง set_index()\n",
        "\n",
        "**STEP 4:** ตั้งค่าและแสดง index และ size ของ nls97 data\n",
        "\n",
        "ใช้คำสั่ง set_index()\n",
        "\n",
        "**STEP 5:** แสดงจำนวน data types และ non-null value\n",
        "\n",
        "ใช้คำสั่ง info()"
      ]
    },
    {
      "cell_type": "code",
      "metadata": {
        "id": "4YIssfaTQMPI",
        "colab": {
          "base_uri": "https://localhost:8080/"
        },
        "outputId": "8226cd8e-6efc-41e7-9993-d43e1fd89ede"
      },
      "source": [
        "import pandas as pd\n",
        "import numpy as np\n",
        "nls97 = pd.read_csv(\"/content/nls97.csv\")\n",
        "nls97.set_index(\"personid\", inplace=True)\n",
        "print(nls97)\n",
        "print(nls97.info())"
      ],
      "execution_count": 1,
      "outputs": [
        {
          "output_type": "stream",
          "name": "stdout",
          "text": [
            "          gender  birthmonth  ...      colenrfeb17      colenroct17\n",
            "personid                      ...                                  \n",
            "100061    Female           5  ...  1. Not enrolled  1. Not enrolled\n",
            "100139      Male           9  ...  1. Not enrolled  1. Not enrolled\n",
            "100284      Male          11  ...  1. Not enrolled  1. Not enrolled\n",
            "100292      Male           4  ...              NaN              NaN\n",
            "100583      Male           1  ...  1. Not enrolled  1. Not enrolled\n",
            "...          ...         ...  ...              ...              ...\n",
            "999291    Female           4  ...  1. Not enrolled  1. Not enrolled\n",
            "999406      Male           7  ...  1. Not enrolled  1. Not enrolled\n",
            "999543    Female           8  ...  1. Not enrolled  1. Not enrolled\n",
            "999698    Female           5  ...  1. Not enrolled  1. Not enrolled\n",
            "999963    Female           9  ...  1. Not enrolled  1. Not enrolled\n",
            "\n",
            "[8984 rows x 88 columns]\n",
            "<class 'pandas.core.frame.DataFrame'>\n",
            "Int64Index: 8984 entries, 100061 to 999963\n",
            "Data columns (total 88 columns):\n",
            " #   Column                 Non-Null Count  Dtype  \n",
            "---  ------                 --------------  -----  \n",
            " 0   gender                 8984 non-null   object \n",
            " 1   birthmonth             8984 non-null   int64  \n",
            " 2   birthyear              8984 non-null   int64  \n",
            " 3   highestgradecompleted  6663 non-null   float64\n",
            " 4   maritalstatus          6672 non-null   object \n",
            " 5   childathome            4791 non-null   float64\n",
            " 6   childnotathome         4791 non-null   float64\n",
            " 7   wageincome             5091 non-null   float64\n",
            " 8   weeklyhrscomputer      6710 non-null   object \n",
            " 9   weeklyhrstv            6711 non-null   object \n",
            " 10  nightlyhrssleep        6706 non-null   float64\n",
            " 11  satverbal              1406 non-null   float64\n",
            " 12  satmath                1407 non-null   float64\n",
            " 13  gpaoverall             6004 non-null   float64\n",
            " 14  gpaenglish             5798 non-null   float64\n",
            " 15  gpamath                5766 non-null   float64\n",
            " 16  gpascience             5684 non-null   float64\n",
            " 17  highestdegree          8953 non-null   object \n",
            " 18  govprovidejobs         1833 non-null   object \n",
            " 19  govpricecontrols       1859 non-null   object \n",
            " 20  govhealthcare          1874 non-null   object \n",
            " 21  govelderliving         1872 non-null   object \n",
            " 22  govindhelp             1815 non-null   object \n",
            " 23  govunemp               1811 non-null   object \n",
            " 24  govincomediff          1775 non-null   object \n",
            " 25  govcollegefinance      1875 non-null   object \n",
            " 26  govdecenthousing       1847 non-null   object \n",
            " 27  govprotectenvironment  1860 non-null   object \n",
            " 28  weeksworked00          8603 non-null   float64\n",
            " 29  weeksworked01          8564 non-null   float64\n",
            " 30  weeksworked02          8556 non-null   float64\n",
            " 31  weeksworked03          8490 non-null   float64\n",
            " 32  weeksworked04          8458 non-null   float64\n",
            " 33  weeksworked05          8403 non-null   float64\n",
            " 34  weeksworked06          8340 non-null   float64\n",
            " 35  weeksworked07          8272 non-null   float64\n",
            " 36  weeksworked08          8186 non-null   float64\n",
            " 37  weeksworked09          8146 non-null   float64\n",
            " 38  weeksworked10          8054 non-null   float64\n",
            " 39  weeksworked11          7968 non-null   float64\n",
            " 40  weeksworked12          7747 non-null   float64\n",
            " 41  weeksworked13          7680 non-null   float64\n",
            " 42  weeksworked14          7612 non-null   float64\n",
            " 43  weeksworked15          7389 non-null   float64\n",
            " 44  weeksworked16          7068 non-null   float64\n",
            " 45  weeksworked17          6670 non-null   float64\n",
            " 46  colenrfeb97            1250 non-null   object \n",
            " 47  colenroct97            8501 non-null   object \n",
            " 48  colenrfeb98            8501 non-null   object \n",
            " 49  colenroct98            8888 non-null   object \n",
            " 50  colenrfeb99            8865 non-null   object \n",
            " 51  colenroct99            8851 non-null   object \n",
            " 52  colenrfeb00            8820 non-null   object \n",
            " 53  colenroct00            8805 non-null   object \n",
            " 54  colenrfeb01            8786 non-null   object \n",
            " 55  colenroct01            8758 non-null   object \n",
            " 56  colenrfeb02            8732 non-null   object \n",
            " 57  colenroct02            8698 non-null   object \n",
            " 58  colenrfeb03            8658 non-null   object \n",
            " 59  colenroct03            8622 non-null   object \n",
            " 60  colenrfeb04            8578 non-null   object \n",
            " 61  colenroct04            8546 non-null   object \n",
            " 62  colenrfeb05            8508 non-null   object \n",
            " 63  colenroct05            8471 non-null   object \n",
            " 64  colenrfeb06            8426 non-null   object \n",
            " 65  colenroct06            8407 non-null   object \n",
            " 66  colenrfeb07            8352 non-null   object \n",
            " 67  colenroct07            8331 non-null   object \n",
            " 68  colenrfeb08            8289 non-null   object \n",
            " 69  colenroct08            8280 non-null   object \n",
            " 70  colenrfeb09            8236 non-null   object \n",
            " 71  colenroct09            8193 non-null   object \n",
            " 72  colenrfeb10            8116 non-null   object \n",
            " 73  colenroct10            8091 non-null   object \n",
            " 74  colenrfeb11            8037 non-null   object \n",
            " 75  colenroct11            7972 non-null   object \n",
            " 76  colenrfeb12            7794 non-null   object \n",
            " 77  colenroct12            7754 non-null   object \n",
            " 78  colenrfeb13            7754 non-null   object \n",
            " 79  colenroct13            7754 non-null   object \n",
            " 80  colenrfeb14            7624 non-null   object \n",
            " 81  colenroct14            7469 non-null   object \n",
            " 82  colenrfeb15            7469 non-null   object \n",
            " 83  colenroct15            7469 non-null   object \n",
            " 84  colenrfeb16            7036 non-null   object \n",
            " 85  colenroct16            6733 non-null   object \n",
            " 86  colenrfeb17            6733 non-null   object \n",
            " 87  colenroct17            6734 non-null   object \n",
            "dtypes: float64(29), int64(2), object(57)\n",
            "memory usage: 6.1+ MB\n",
            "None\n"
          ]
        }
      ]
    },
    {
      "cell_type": "markdown",
      "metadata": {
        "id": "-k8IB6y2D9fM"
      },
      "source": [
        "**STEP 6:** แปลง data types ของ columns ที่เป็น object ให้เป็น category เพื่อทำข้อมูลให้เหมาะสม\n",
        "\n",
        "data typs --> category เหมาะสำหรับข้อมูลที่มีซ้ำ ๆ กัน ที่ไม่ค่อยต่างกันมาก ช่วยในการเรื่องการประหยัด Memory\n",
        "\n",
        "ใช้คำสั่ง .loc[ ] ทำการ Filter เข้าถึงข้อมูล -->  คำสั่ง pandas หมวด Filter จะมีทั้ง .loc [  ], .iloc [  ], .query [  ]\n",
        "\n",
        "ใช้คำสั่ง .select_dtypes ทำการเลือก data types\n",
        "\n",
        "ใช้คำสั่ง .apply(lamba function) เพื่อแปลงข้อมูล\n",
        "\n",
        "ใช้คำสั่ง .astype ทำการแปลง data types"
      ]
    },
    {
      "cell_type": "code",
      "metadata": {
        "colab": {
          "base_uri": "https://localhost:8080/"
        },
        "id": "nMKrkyG08GE0",
        "outputId": "06b2def9-4b47-4df6-c6a4-56f05f261494"
      },
      "source": [
        "nls97.loc[:, nls97.dtypes == 'object'] = \\\n",
        "  nls97.select_dtypes(['object']). \\\n",
        "  apply(lambda x: x.astype('category'))  \n",
        "print(nls97.info())                         \n",
        "#เครื่องหมาย \\ คือ เพื่อเชื่อมประโยคให้ต่อกันในอีกบรรทัดนึง\n",
        "#Syntax --> .loc['row_name' , 'column_name'] สนใจชื่อ\n",
        "#Syntax --> .iloc['row_index_number' , 'column_index_number'] สนใจตำแหน่ง index ของ row และ column\n",
        "#loc[: Filter ชื่อทุกตัว, ที่มีเงื่อนไขเป็น 'object'] และทำการเลือก loc ย่อมาจาก location based\n",
        "#ทำการแปลง colums ที่เป็น 'object' --> 'category'\n",
        "#ผลปรากฎว่า 'category' ช่วยลด memory (2.7 MB) ได้มากกว่า 'object' (6.1+ MB)"
      ],
      "execution_count": 2,
      "outputs": [
        {
          "output_type": "stream",
          "name": "stdout",
          "text": [
            "<class 'pandas.core.frame.DataFrame'>\n",
            "Int64Index: 8984 entries, 100061 to 999963\n",
            "Data columns (total 88 columns):\n",
            " #   Column                 Non-Null Count  Dtype   \n",
            "---  ------                 --------------  -----   \n",
            " 0   gender                 8984 non-null   category\n",
            " 1   birthmonth             8984 non-null   int64   \n",
            " 2   birthyear              8984 non-null   int64   \n",
            " 3   highestgradecompleted  6663 non-null   float64 \n",
            " 4   maritalstatus          6672 non-null   category\n",
            " 5   childathome            4791 non-null   float64 \n",
            " 6   childnotathome         4791 non-null   float64 \n",
            " 7   wageincome             5091 non-null   float64 \n",
            " 8   weeklyhrscomputer      6710 non-null   category\n",
            " 9   weeklyhrstv            6711 non-null   category\n",
            " 10  nightlyhrssleep        6706 non-null   float64 \n",
            " 11  satverbal              1406 non-null   float64 \n",
            " 12  satmath                1407 non-null   float64 \n",
            " 13  gpaoverall             6004 non-null   float64 \n",
            " 14  gpaenglish             5798 non-null   float64 \n",
            " 15  gpamath                5766 non-null   float64 \n",
            " 16  gpascience             5684 non-null   float64 \n",
            " 17  highestdegree          8953 non-null   category\n",
            " 18  govprovidejobs         1833 non-null   category\n",
            " 19  govpricecontrols       1859 non-null   category\n",
            " 20  govhealthcare          1874 non-null   category\n",
            " 21  govelderliving         1872 non-null   category\n",
            " 22  govindhelp             1815 non-null   category\n",
            " 23  govunemp               1811 non-null   category\n",
            " 24  govincomediff          1775 non-null   category\n",
            " 25  govcollegefinance      1875 non-null   category\n",
            " 26  govdecenthousing       1847 non-null   category\n",
            " 27  govprotectenvironment  1860 non-null   category\n",
            " 28  weeksworked00          8603 non-null   float64 \n",
            " 29  weeksworked01          8564 non-null   float64 \n",
            " 30  weeksworked02          8556 non-null   float64 \n",
            " 31  weeksworked03          8490 non-null   float64 \n",
            " 32  weeksworked04          8458 non-null   float64 \n",
            " 33  weeksworked05          8403 non-null   float64 \n",
            " 34  weeksworked06          8340 non-null   float64 \n",
            " 35  weeksworked07          8272 non-null   float64 \n",
            " 36  weeksworked08          8186 non-null   float64 \n",
            " 37  weeksworked09          8146 non-null   float64 \n",
            " 38  weeksworked10          8054 non-null   float64 \n",
            " 39  weeksworked11          7968 non-null   float64 \n",
            " 40  weeksworked12          7747 non-null   float64 \n",
            " 41  weeksworked13          7680 non-null   float64 \n",
            " 42  weeksworked14          7612 non-null   float64 \n",
            " 43  weeksworked15          7389 non-null   float64 \n",
            " 44  weeksworked16          7068 non-null   float64 \n",
            " 45  weeksworked17          6670 non-null   float64 \n",
            " 46  colenrfeb97            1250 non-null   category\n",
            " 47  colenroct97            8501 non-null   category\n",
            " 48  colenrfeb98            8501 non-null   category\n",
            " 49  colenroct98            8888 non-null   category\n",
            " 50  colenrfeb99            8865 non-null   category\n",
            " 51  colenroct99            8851 non-null   category\n",
            " 52  colenrfeb00            8820 non-null   category\n",
            " 53  colenroct00            8805 non-null   category\n",
            " 54  colenrfeb01            8786 non-null   category\n",
            " 55  colenroct01            8758 non-null   category\n",
            " 56  colenrfeb02            8732 non-null   category\n",
            " 57  colenroct02            8698 non-null   category\n",
            " 58  colenrfeb03            8658 non-null   category\n",
            " 59  colenroct03            8622 non-null   category\n",
            " 60  colenrfeb04            8578 non-null   category\n",
            " 61  colenroct04            8546 non-null   category\n",
            " 62  colenrfeb05            8508 non-null   category\n",
            " 63  colenroct05            8471 non-null   category\n",
            " 64  colenrfeb06            8426 non-null   category\n",
            " 65  colenroct06            8407 non-null   category\n",
            " 66  colenrfeb07            8352 non-null   category\n",
            " 67  colenroct07            8331 non-null   category\n",
            " 68  colenrfeb08            8289 non-null   category\n",
            " 69  colenroct08            8280 non-null   category\n",
            " 70  colenrfeb09            8236 non-null   category\n",
            " 71  colenroct09            8193 non-null   category\n",
            " 72  colenrfeb10            8116 non-null   category\n",
            " 73  colenroct10            8091 non-null   category\n",
            " 74  colenrfeb11            8037 non-null   category\n",
            " 75  colenroct11            7972 non-null   category\n",
            " 76  colenrfeb12            7794 non-null   category\n",
            " 77  colenroct12            7754 non-null   category\n",
            " 78  colenrfeb13            7754 non-null   category\n",
            " 79  colenroct13            7754 non-null   category\n",
            " 80  colenrfeb14            7624 non-null   category\n",
            " 81  colenroct14            7469 non-null   category\n",
            " 82  colenrfeb15            7469 non-null   category\n",
            " 83  colenroct15            7469 non-null   category\n",
            " 84  colenrfeb16            7036 non-null   category\n",
            " 85  colenroct16            6733 non-null   category\n",
            " 86  colenrfeb17            6733 non-null   category\n",
            " 87  colenroct17            6734 non-null   category\n",
            "dtypes: category(57), float64(29), int64(2)\n",
            "memory usage: 2.7 MB\n",
            "None\n"
          ]
        }
      ]
    },
    {
      "cell_type": "markdown",
      "metadata": {
        "id": "TfB6BKmo01PU"
      },
      "source": [
        "**STEP 7:** แสดงชื่อ columns ที่มีชนิดข้อมูล category และตรวจสอบจำนวน missing values\n",
        "\n",
        "ใช้คำสั่ง select_dtypes(include=[ \"category\" ]) เลือกเฉพาะ data types ชนิด category\n",
        "\n",
        "ใช้คำสั่ง .isnull().sum()  หาผลรวมของ missing values\n",
        "\n",
        "--> สังเกตเห็นว่า \n",
        "\n",
        "gender = 0 แสดงว่าไม่มี missing values ถือว่าเป็น complete values\n",
        "\n",
        "highestdegree = 31 คือค่า missing values ที่พบก็ถือว่ายังน้อยกว่า columns อื่น ๆ\n",
        "\n",
        "maritalstatus = 2312 คือค่า missing values ถือว่ามากแล้ว"
      ]
    },
    {
      "cell_type": "code",
      "metadata": {
        "colab": {
          "base_uri": "https://localhost:8080/"
        },
        "id": "Fva0bgu11aSs",
        "outputId": "aba6f6b7-010c-483c-84f1-8df352ee9687"
      },
      "source": [
        "catcols = nls97.select_dtypes(include=[\"category\"]).columns\n",
        "print(catcols)\n",
        "print(nls97[catcols].isnull().sum())"
      ],
      "execution_count": 8,
      "outputs": [
        {
          "output_type": "stream",
          "name": "stdout",
          "text": [
            "Index(['gender', 'maritalstatus', 'weeklyhrscomputer', 'weeklyhrstv',\n",
            "       'highestdegree', 'govprovidejobs', 'govpricecontrols', 'govhealthcare',\n",
            "       'govelderliving', 'govindhelp', 'govunemp', 'govincomediff',\n",
            "       'govcollegefinance', 'govdecenthousing', 'govprotectenvironment',\n",
            "       'colenrfeb97', 'colenroct97', 'colenrfeb98', 'colenroct98',\n",
            "       'colenrfeb99', 'colenroct99', 'colenrfeb00', 'colenroct00',\n",
            "       'colenrfeb01', 'colenroct01', 'colenrfeb02', 'colenroct02',\n",
            "       'colenrfeb03', 'colenroct03', 'colenrfeb04', 'colenroct04',\n",
            "       'colenrfeb05', 'colenroct05', 'colenrfeb06', 'colenroct06',\n",
            "       'colenrfeb07', 'colenroct07', 'colenrfeb08', 'colenroct08',\n",
            "       'colenrfeb09', 'colenroct09', 'colenrfeb10', 'colenroct10',\n",
            "       'colenrfeb11', 'colenroct11', 'colenrfeb12', 'colenroct12',\n",
            "       'colenrfeb13', 'colenroct13', 'colenrfeb14', 'colenroct14',\n",
            "       'colenrfeb15', 'colenroct15', 'colenrfeb16', 'colenroct16',\n",
            "       'colenrfeb17', 'colenroct17'],\n",
            "      dtype='object')\n",
            "gender                      0\n",
            "maritalstatus            2312\n",
            "weeklyhrscomputer        2274\n",
            "weeklyhrstv              2273\n",
            "highestdegree              31\n",
            "govprovidejobs           7151\n",
            "govpricecontrols         7125\n",
            "govhealthcare            7110\n",
            "govelderliving           7112\n",
            "govindhelp               7169\n",
            "govunemp                 7173\n",
            "govincomediff            7209\n",
            "govcollegefinance        7109\n",
            "govdecenthousing         7137\n",
            "govprotectenvironment    7124\n",
            "colenrfeb97              7734\n",
            "colenroct97               483\n",
            "colenrfeb98               483\n",
            "colenroct98                96\n",
            "colenrfeb99               119\n",
            "colenroct99               133\n",
            "colenrfeb00               164\n",
            "colenroct00               179\n",
            "colenrfeb01               198\n",
            "colenroct01               226\n",
            "colenrfeb02               252\n",
            "colenroct02               286\n",
            "colenrfeb03               326\n",
            "colenroct03               362\n",
            "colenrfeb04               406\n",
            "colenroct04               438\n",
            "colenrfeb05               476\n",
            "colenroct05               513\n",
            "colenrfeb06               558\n",
            "colenroct06               577\n",
            "colenrfeb07               632\n",
            "colenroct07               653\n",
            "colenrfeb08               695\n",
            "colenroct08               704\n",
            "colenrfeb09               748\n",
            "colenroct09               791\n",
            "colenrfeb10               868\n",
            "colenroct10               893\n",
            "colenrfeb11               947\n",
            "colenroct11              1012\n",
            "colenrfeb12              1190\n",
            "colenroct12              1230\n",
            "colenrfeb13              1230\n",
            "colenroct13              1230\n",
            "colenrfeb14              1360\n",
            "colenroct14              1515\n",
            "colenrfeb15              1515\n",
            "colenroct15              1515\n",
            "colenrfeb16              1948\n",
            "colenroct16              2251\n",
            "colenrfeb17              2251\n",
            "colenroct17              2250\n",
            "dtype: int64\n"
          ]
        }
      ]
    },
    {
      "cell_type": "markdown",
      "metadata": {
        "id": "OuaPeJUh1nHU"
      },
      "source": [
        "**STEP 8:** ทำการแสดง frequencies ของสถานะสมรส maritalstatus\n",
        "\n",
        "ใช้คำสั่ง .value_counts() ทำการนับจำนวน values"
      ]
    },
    {
      "cell_type": "code",
      "metadata": {
        "colab": {
          "base_uri": "https://localhost:8080/"
        },
        "id": "AsfbMFrU2OTk",
        "outputId": "b5eac952-5017-49f7-be72-f55b4ba44c21"
      },
      "source": [
        "print(nls97.maritalstatus.value_counts())"
      ],
      "execution_count": 9,
      "outputs": [
        {
          "output_type": "stream",
          "name": "stdout",
          "text": [
            "Married          3066\n",
            "Never-married    2766\n",
            "Divorced          663\n",
            "Separated         154\n",
            "Widowed            23\n",
            "Name: maritalstatus, dtype: int64\n"
          ]
        }
      ]
    },
    {
      "cell_type": "markdown",
      "metadata": {
        "id": "oUomBz403LEc"
      },
      "source": [
        "**STEP 9:** ทำการปิดการเรียงตามจำนวน frequency ซึ่งจะเรียงเป็นตัวอักษรแทน\n",
        "\n",
        "Turn off sorting by frequency\n",
        "\n",
        "ใช้คำสั่ง (sort=False)"
      ]
    },
    {
      "cell_type": "code",
      "metadata": {
        "colab": {
          "base_uri": "https://localhost:8080/"
        },
        "id": "yC87mium3ggU",
        "outputId": "b01e6b72-24cb-4b08-f40d-c68e95062c3a"
      },
      "source": [
        "print(nls97.maritalstatus.value_counts(sort=False)) #เปลี่ยนเป็น True จะเรียงตามจำนวนความถี่"
      ],
      "execution_count": 12,
      "outputs": [
        {
          "output_type": "stream",
          "name": "stdout",
          "text": [
            "Divorced          663\n",
            "Married          3066\n",
            "Never-married    2766\n",
            "Separated         154\n",
            "Widowed            23\n",
            "Name: maritalstatus, dtype: int64\n"
          ]
        }
      ]
    },
    {
      "cell_type": "markdown",
      "metadata": {
        "id": "47mtcf444M7P"
      },
      "source": [
        "**STEP 10:** แสดงเป็น % การนับ freauency\n",
        "\n",
        "Show percentages instead of counts\n",
        "\n",
        "ใช้คำสั่ง (normalize=True)"
      ]
    },
    {
      "cell_type": "code",
      "metadata": {
        "colab": {
          "base_uri": "https://localhost:8080/"
        },
        "id": "eT-QpUXd4-L9",
        "outputId": "97a03bc0-ab47-4a98-a169-94a1e10bc112"
      },
      "source": [
        "print(nls97.maritalstatus.value_counts(sort=False, normalize=True))"
      ],
      "execution_count": 13,
      "outputs": [
        {
          "output_type": "stream",
          "name": "stdout",
          "text": [
            "Divorced         0.099371\n",
            "Married          0.459532\n",
            "Never-married    0.414568\n",
            "Separated        0.023082\n",
            "Widowed          0.003447\n",
            "Name: maritalstatus, dtype: float64\n"
          ]
        }
      ]
    },
    {
      "cell_type": "markdown",
      "metadata": {
        "id": "BNpSc6Lb6RFk"
      },
      "source": [
        "**STEP 11:** แสดง % frequency ของคอลัมน์ government ทั้งหมด \n",
        "\n",
        "Filter the DataFrame for just the government responsibility columns, then use\n",
        "apply to run value_counts on all columns in that DataFrame\n",
        "\n",
        "ใช้คำสั่ง .filter(like=\"text\") เพื่อกรองคำที่อยู่ใน columns ที่ต้องการ\n",
        "\n",
        "ใช้คำสั่ง .apply ทำการปรับค่ารูปแบบข้อมูลตามที่ใส่ไว้"
      ]
    },
    {
      "cell_type": "code",
      "metadata": {
        "colab": {
          "base_uri": "https://localhost:8080/"
        },
        "id": "J-CpGxFd6ghV",
        "outputId": "e8c4d1ef-ce5b-4829-ab4b-44de9de0feaa"
      },
      "source": [
        "print(nls97.filter(like=\"gov\").apply(pd.value_counts,normalize=True)) "
      ],
      "execution_count": 14,
      "outputs": [
        {
          "output_type": "stream",
          "name": "stdout",
          "text": [
            "                   govprovidejobs  ...  govprotectenvironment\n",
            "1. Definitely            0.247681  ...               0.668817\n",
            "2. Probably              0.336607  ...               0.286559\n",
            "3. Probably not          0.252046  ...               0.029570\n",
            "4. Definitely not        0.163666  ...               0.015054\n",
            "\n",
            "[4 rows x 10 columns]\n"
          ]
        }
      ]
    },
    {
      "cell_type": "markdown",
      "metadata": {
        "id": "pwqktDRl4ihb"
      },
      "source": [
        "**STEP 12:** ค้นหา % frequency ของคอลัมน์ government ทั้งหมดที่แต่งงานแล้ว สถานะ Married"
      ]
    },
    {
      "cell_type": "code",
      "metadata": {
        "colab": {
          "base_uri": "https://localhost:8080/"
        },
        "id": "4NAnX2WP8PZq",
        "outputId": "f6675bd7-45e3-496d-d31b-820b6ea69271"
      },
      "source": [
        "print(nls97[nls97.maritalstatus==\"Married\"].\\\n",
        "  filter(like=\"gov\").\\\n",
        "  apply(pd.value_counts, normalize=True))"
      ],
      "execution_count": 29,
      "outputs": [
        {
          "output_type": "stream",
          "name": "stdout",
          "text": [
            "                   govprovidejobs  ...  govprotectenvironment\n",
            "1. Definitely            0.173315  ...               0.644505\n",
            "2. Probably              0.328748  ...               0.313433\n",
            "3. Probably not          0.314993  ...               0.028494\n",
            "4. Definitely not        0.182944  ...               0.013569\n",
            "\n",
            "[4 rows x 10 columns]\n"
          ]
        }
      ]
    },
    {
      "cell_type": "markdown",
      "metadata": {
        "id": "Yd0ZT3hB82v4"
      },
      "source": [
        "**STEP 13:** ค้นหา frequency และ % สำหรับ category columns ทั้งหมดใน DataFrame\n",
        "\n",
        "ใช้คำสั่ง open('/path/...','w') เพื่อสร้างไฟล์ว่างเปล่าชื่อ frequencies.txt รอโปรแกรมสร้างประมาณ 1 นาที"
      ]
    },
    {
      "cell_type": "code",
      "metadata": {
        "id": "HH-YLbW19n73"
      },
      "source": [
        "freqout = open('/content/frequencies.txt', 'w') #รอโปรแกรมสร้างให้"
      ],
      "execution_count": 50,
      "outputs": []
    },
    {
      "cell_type": "markdown",
      "metadata": {
        "id": "GaE_K1FT-3wH"
      },
      "source": [
        "**STEP 14:** เขียนโปรแกรมแสดงค่า frequency ต่าง ๆ ของที่เป็น category columns ทั้งหมด\n"
      ]
    },
    {
      "cell_type": "code",
      "metadata": {
        "id": "21qwva-5_OrF"
      },
      "source": [
        "for col in nls97.select_dtypes(include=[\"category\"]):\n",
        "    print(col, \"----------------------\", \"frequencies\",\n",
        "    nls97[col].value_counts(sort=False),\"percentages\",\n",
        "    nls97[col].value_counts(normalize=True,sort=False),\n",
        "    sep=\"\\n\\n\", end=\"\\n\\n\\n\", file=freqout)\n",
        "freqout.close() #Run เพียงครั้งเดียว"
      ],
      "execution_count": 51,
      "outputs": []
    }
  ]
}