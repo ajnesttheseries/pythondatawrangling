{
  "nbformat": 4,
  "nbformat_minor": 0,
  "metadata": {
    "colab": {
      "name": "Aj.NesT - Python Data Wrangling #5",
      "provenance": [],
      "collapsed_sections": []
    },
    "kernelspec": {
      "name": "python3",
      "display_name": "Python 3"
    },
    "language_info": {
      "name": "python"
    }
  },
  "cells": [
    {
      "cell_type": "markdown",
      "metadata": {
        "id": "OtrCo05tRE73"
      },
      "source": [
        "#Data Wrangling with Pandas\n",
        "\n",
        "[Aj. NesT the Series](http://bit.ly/ajnesttheseriesSubscribe)\n",
        "\n",
        "Referenence: [Pyhton Data Cleaning Cookbook 2020](https://github.com/PacktPublishing/Python-Data-Cleaning-Cookbook)\n",
        "\n",
        "##Practice 1: เช็คคุณภาพข้อมูลและทำความสะอาดข้อมูล\n",
        "\n",
        "Measuring Data Quality and Data Cleaning of Your Data "
      ]
    },
    {
      "cell_type": "markdown",
      "metadata": {
        "id": "WYvmolVuVVMN"
      },
      "source": [
        "##Workshop 5: การสร้าง Summary Statistics สำหรับ Continuous Variables\n",
        "--> Generating summary statistics for continuous\n",
        "variables\n",
        "\n",
        "###Input Datasets\n",
        "\n",
        "* **[covidtotals.csv](https://drive.google.com/file/d/1xwJwA-HUKO39KDjuDeJiz4kou7plkTZK/view?usp=sharing)** - COVID-19 case data 1 June 2020. "
      ]
    },
    {
      "cell_type": "markdown",
      "metadata": {
        "id": "mySii_FKZZz-"
      },
      "source": [
        "####Question 5: เราจะสำรวจวิธีการเลือกและจัดระเบียบให้กับคอลัมน์\n",
        "\n",
        "**STEP 1:** นำเข้า Datasets โดยทำการ Upload covidtotals.csv ขึ้น Google Colab (ไฟล์นี้จะถูกลบเมื่อเราหลุดจาก Session หรือปิด Browser) หรือ Python IDE เช่น PyCharm, VSCode, Juputer Notebook, etc.\n",
        "\n",
        "**STEP 2:** นำเข้า pandas, numpy และ matplotlib libraries\n",
        "\n",
        "**STEP 3:** ทำการอ่านไฟล์ .csv ด้วย pandas เก็บเป็น Dataframe และตั้งคอลัมน์ 'lastdate' เป็น datetime data type\n",
        "\n",
        "ใช้คำสั่ง .read_csv() และ parse_dates=[ 'lastdate' ]\n",
        "\n",
        "**STEP 4:** ตั้งค่าและแสดง index และ size ของ nls97 data\n",
        "\n",
        "ใช้คำสั่ง set_index()\n",
        "\n",
        "**STEP 5:** แสดงจำนวน data types และ non-null value\n",
        "\n",
        "ใช้คำสั่ง info()\n",
        "\n",
        "**STEP 6:** แสดงจำนวน rows และ columns\n",
        "\n",
        "ใช้คำสั่ง .shape"
      ]
    },
    {
      "cell_type": "code",
      "metadata": {
        "id": "4YIssfaTQMPI",
        "colab": {
          "base_uri": "https://localhost:8080/"
        },
        "outputId": "56bfe9d5-13f2-41ea-9a61-e3b1237da9be"
      },
      "source": [
        "import pandas as pd\n",
        "import numpy as np\n",
        "import matplotlib.pyplot as plt #เพิ่ม matplotlib เข้ามาใช้สร้าง data visualization\n",
        "covidtotals = pd.read_csv(\"/content/covidtotals.csv\", parse_dates=['lastdate'])\n",
        "covidtotals.set_index(\"iso_code\", inplace=True)\n",
        "print(covidtotals)\n",
        "print(covidtotals.info())\n",
        "print(covidtotals.shape)\n",
        "#คำสั่ง parse_dates จะทำการแปลง Column 'lastdate' ให้เป็น Datetime Type วันเดือนปี เพื่อให้สามารถนำไปเปรียบเทียบช่วงเวลาได้"
      ],
      "execution_count": null,
      "outputs": [
        {
          "output_type": "stream",
          "name": "stdout",
          "text": [
            "           lastdate        location  ...  gdp_per_capita  hosp_beds\n",
            "iso_code                             ...                           \n",
            "AFG      2020-06-01     Afghanistan  ...        1803.987       0.50\n",
            "ALB      2020-06-01         Albania  ...       11803.431       2.89\n",
            "DZA      2020-06-01         Algeria  ...       13913.839       1.90\n",
            "AND      2020-06-01         Andorra  ...             NaN        NaN\n",
            "AGO      2020-06-01          Angola  ...        5819.495        NaN\n",
            "...             ...             ...  ...             ...        ...\n",
            "VNM      2020-06-01         Vietnam  ...        6171.884       2.60\n",
            "ESH      2020-06-01  Western Sahara  ...             NaN        NaN\n",
            "YEM      2020-06-01           Yemen  ...        1479.147       0.70\n",
            "ZMB      2020-06-01          Zambia  ...        3689.251       2.00\n",
            "ZWE      2020-06-01        Zimbabwe  ...        1899.775       1.70\n",
            "\n",
            "[210 rows x 11 columns]\n",
            "<class 'pandas.core.frame.DataFrame'>\n",
            "Index: 210 entries, AFG to ZWE\n",
            "Data columns (total 11 columns):\n",
            " #   Column           Non-Null Count  Dtype         \n",
            "---  ------           --------------  -----         \n",
            " 0   lastdate         210 non-null    datetime64[ns]\n",
            " 1   location         210 non-null    object        \n",
            " 2   total_cases      210 non-null    int64         \n",
            " 3   total_deaths     210 non-null    int64         \n",
            " 4   total_cases_pm   209 non-null    float64       \n",
            " 5   total_deaths_pm  209 non-null    float64       \n",
            " 6   population       210 non-null    float64       \n",
            " 7   pop_density      198 non-null    float64       \n",
            " 8   median_age       186 non-null    float64       \n",
            " 9   gdp_per_capita   182 non-null    float64       \n",
            " 10  hosp_beds        164 non-null    float64       \n",
            "dtypes: datetime64[ns](1), float64(7), int64(2), object(1)\n",
            "memory usage: 19.7+ KB\n",
            "None\n",
            "(210, 11)\n"
          ]
        }
      ]
    },
    {
      "cell_type": "markdown",
      "metadata": {
        "id": "-k8IB6y2D9fM"
      },
      "source": [
        "**STEP 7:** ทบทวนคำสั่ง ทดลองทำการสุ่มข้อมูล ปรับแต่ง และแสดง data types\n",
        "\n",
        "look at a few rows of the covid cases data\n",
        "\n",
        "ใช้คำสั่ง .sample(), .T, .dtypes"
      ]
    },
    {
      "cell_type": "code",
      "metadata": {
        "colab": {
          "base_uri": "https://localhost:8080/"
        },
        "id": "nMKrkyG08GE0",
        "outputId": "f8656ce7-1c1f-4b22-8eb1-96eccbc2eab1"
      },
      "source": [
        "print(covidtotals.sample(2, random_state=1))\n",
        "print(covidtotals.sample(2, random_state=1).T)\n",
        "print(covidtotals.dtypes)"
      ],
      "execution_count": null,
      "outputs": [
        {
          "output_type": "stream",
          "name": "stdout",
          "text": [
            "           lastdate  location  ...  gdp_per_capita  hosp_beds\n",
            "iso_code                       ...                           \n",
            "COG      2020-06-01     Congo  ...        4881.406        NaN\n",
            "THA      2020-06-01  Thailand  ...       16277.671        2.1\n",
            "\n",
            "[2 rows x 11 columns]\n",
            "iso_code                         COG                  THA\n",
            "lastdate         2020-06-01 00:00:00  2020-06-01 00:00:00\n",
            "location                       Congo             Thailand\n",
            "total_cases                      611                 3081\n",
            "total_deaths                      20                   57\n",
            "total_cases_pm               110.727                44.14\n",
            "total_deaths_pm                3.624                0.817\n",
            "population               5.51809e+06             6.98e+07\n",
            "pop_density                   15.405              135.132\n",
            "median_age                        19                 40.1\n",
            "gdp_per_capita               4881.41              16277.7\n",
            "hosp_beds                        NaN                  2.1\n",
            "lastdate           datetime64[ns]\n",
            "location                   object\n",
            "total_cases                 int64\n",
            "total_deaths                int64\n",
            "total_cases_pm            float64\n",
            "total_deaths_pm           float64\n",
            "population                float64\n",
            "pop_density               float64\n",
            "median_age                float64\n",
            "gdp_per_capita            float64\n",
            "hosp_beds                 float64\n",
            "dtype: object\n"
          ]
        }
      ]
    },
    {
      "cell_type": "markdown",
      "metadata": {
        "id": "TfB6BKmo01PU"
      },
      "source": [
        "**STEP 8:** แสดงข้อมูล Descriptive Statistics และข้อมูลสะสม Cumulative Values\n",
        "\n",
        "Get descriptive statistics on the cumulative values\n",
        "\n",
        "ใช้คำสั่ง .describe()"
      ]
    },
    {
      "cell_type": "code",
      "metadata": {
        "colab": {
          "base_uri": "https://localhost:8080/"
        },
        "id": "Fva0bgu11aSs",
        "outputId": "bc1bbca5-bc8b-41f7-ef82-29890604ca34"
      },
      "source": [
        "print(covidtotals.describe())"
      ],
      "execution_count": null,
      "outputs": [
        {
          "output_type": "stream",
          "name": "stdout",
          "text": [
            "        total_cases   total_deaths  ...  gdp_per_capita   hosp_beds\n",
            "count  2.100000e+02     210.000000  ...      182.000000  164.000000\n",
            "mean   2.921614e+04    1770.714286  ...    19539.154588    3.012671\n",
            "std    1.363978e+05    8705.565857  ...    19862.354091    2.464917\n",
            "min    0.000000e+00       0.000000  ...      661.240000    0.100000\n",
            "25%    1.757500e+02       4.000000  ...     4485.329000    1.300000\n",
            "50%    1.242500e+03      25.500000  ...    13183.081500    2.358500\n",
            "75%    1.011700e+04     241.250000  ...    28556.527250    3.895750\n",
            "max    1.790191e+06  104383.000000  ...   116935.600000   13.800000\n",
            "\n",
            "[8 rows x 9 columns]\n"
          ]
        }
      ]
    },
    {
      "cell_type": "markdown",
      "metadata": {
        "id": "OuaPeJUh1nHU"
      },
      "source": [
        "**STEP 9:** แสดงค่าการกระจายตัวของข้อมูล\n",
        "\n",
        "ใช้คำสั่ง np.arrange( ) --> numpy.arange(start, stop, step, dtype) ระยะห่างของข้อมูล\n"
      ]
    },
    {
      "cell_type": "code",
      "metadata": {
        "colab": {
          "base_uri": "https://localhost:8080/"
        },
        "id": "AsfbMFrU2OTk",
        "outputId": "13369c10-d4cf-46ca-f151-caad56766b09"
      },
      "source": [
        "totvars = ['location','total_cases','total_deaths','total_cases_pm','total_deaths_pm']\n",
        "print(covidtotals[totvars].quantile(np.arange(0.0, 1.1, 0.1)))"
      ],
      "execution_count": null,
      "outputs": [
        {
          "output_type": "stream",
          "name": "stdout",
          "text": [
            "     total_cases  total_deaths  total_cases_pm  total_deaths_pm\n",
            "0.0          0.0           0.0          0.8940           0.0000\n",
            "0.1         22.9           0.0         18.4870           0.0000\n",
            "0.2        105.2           2.0         56.7386           0.4008\n",
            "0.3        302.0           6.7        118.2282           1.7348\n",
            "0.4        762.0          12.0        214.9182           3.9734\n",
            "0.5       1242.5          25.5        281.9970           6.2140\n",
            "0.6       2514.6          54.6        546.0534          12.5644\n",
            "0.7       6959.8         137.2       1074.0324          26.0638\n",
            "0.8      16847.2         323.2       2208.7374          50.2896\n",
            "0.9      46513.1        1616.9       3771.9956         139.5290\n",
            "1.0    1790191.0      104383.0      19771.3480        1237.5510\n"
          ]
        }
      ]
    },
    {
      "cell_type": "markdown",
      "metadata": {
        "id": "oUomBz403LEc"
      },
      "source": [
        "**STEP 10:** แสดงการกระจายตัวของข้อมูล\n",
        "\n",
        "View the distribution of total cases\n",
        "\n",
        "ใช้คำสั่งของ matplotlib .hist สร้างภาพข้อมูล histogram\n",
        "\n",
        "สังเกตอะไรได้ในชุดข้อมูลนี้ ข้อมูล 01/06/2020\n",
        "\n",
        "จำนวนประเทศส่วนใหญ่มี covid cases < 200,000 กราฟกระจายสูงขึ้นไปทางขวา \n",
        "\n",
        "และประเทศส่วนน้อยที่มี covid cases > 200,000 กราฟจะกระจายตัวไปทางซ้าย"
      ]
    },
    {
      "cell_type": "code",
      "metadata": {
        "colab": {
          "base_uri": "https://localhost:8080/",
          "height": 295
        },
        "id": "yC87mium3ggU",
        "outputId": "5eec6bfb-edd2-4680-8574-9aa4f5848a5a"
      },
      "source": [
        "plt.hist(covidtotals['total_cases']/1000, bins=12)\n",
        "plt.title(\"Total Covid Cases (in thousands)\")\n",
        "plt.xlabel('Cases')\n",
        "plt.ylabel(\"Number of Countries\")\n",
        "plt.show()"
      ],
      "execution_count": null,
      "outputs": [
        {
          "output_type": "display_data",
          "data": {
            "image/png": "[encoded data removed]",
            "text/plain": [
              "<Figure size 432x288 with 1 Axes>"
            ]
          },
          "metadata": {
            "needs_background": "light"
          }
        }
      ]
    }
  ]
}