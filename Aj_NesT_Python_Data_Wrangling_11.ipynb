{
  "nbformat": 4,
  "nbformat_minor": 0,
  "metadata": {
    "colab": {
      "name": "Aj.NesT - Python Data Wrangling #11",
      "provenance": [],
      "collapsed_sections": []
    },
    "kernelspec": {
      "name": "python3",
      "display_name": "Python 3"
    },
    "language_info": {
      "name": "python"
    }
  },
  "cells": [
    {
      "cell_type": "markdown",
      "metadata": {
        "id": "OtrCo05tRE73"
      },
      "source": [
        "#Data Wrangling with Pandas\n",
        "\n",
        "[Aj. NesT the Series](http://bit.ly/ajnesttheseriesSubscribe)\n",
        "\n",
        "Referenence: [Pyhton Data Cleaning Cookbook 2020](https://github.com/PacktPublishing/Python-Data-Cleaning-Cookbook)\n",
        "\n",
        "##Practice 3: สร้างฟังก์ชันและคลาสที่กำหนดโดยผู้ใช้เพื่อทำความสะอาดข้อมูลแบบอัตโนมัติ\n",
        "\n",
        "--> User-Defined Functions and Classes to Automate Data Cleaning\n",
        "\n",
        "[Python Pandas Cheat Sheets](https://www.enthought.com/wp-content/uploads/Enthought-Python-Pandas-Cheat-Sheets-1-8-v1.0.2.pdf)"
      ]
    },
    {
      "cell_type": "markdown",
      "metadata": {
        "id": "WYvmolVuVVMN"
      },
      "source": [
        "##Workshop 11: สร้างฟังก์ชันสำหรับตรวจดูคุณภาพข้อมูล\n",
        "--> Functions for getting a first look at our data\n",
        "\n",
        "###Input Datasets\n",
        "\n",
        "* **[nls97f.csv](https://drive.google.com/file/d/1t9YHxkeCr4CUQqy8XDDu_RKM9uMKr0BP/view?usp=sharing)** - The survey started with a cohort\n",
        "of individuals in 1997 who were born between 1980 and 1985, with annual\n",
        "follow-ups each year through 2017. the National Longitudinal Survey (NLS) 1997-2017. "
      ]
    },
    {
      "cell_type": "markdown",
      "metadata": {
        "id": "mySii_FKZZz-"
      },
      "source": [
        "####Question 11: สร้างฟังก์ชัน getfirstlook และ displaydict เพื่อตรวจดูข้อมูลต้องเขียนอย่างไรบ้าง?\n",
        "\n",
        "**STEP 1:** นำเข้า Datasets โดยทำการ Upload ไฟล์ nls97f.csv ขึ้น Google Colab (ไฟล์นี้จะถูกลบเมื่อเราหลุดจาก Session หรือปิด Browser) หรือ Python IDE เช่น PyCharm, VSCode, Juputer Notebook, etc.\n",
        "\n",
        "**STEP 2:** ทำการนำเข้า pandas library\n",
        "\n",
        "**STEP 3:** ทำการอ่านไฟล์ .csv ด้วย pandas เก็บเป็น Dataframe\n",
        "\n",
        "ใช้คำสั่ง .read_csv()\n",
        "\n",
        "**STEP 4:** ตั้งค่าและแสดง index และ size ของ nls97f data\n",
        "\n",
        "ใช้คำสั่ง set_index()"
      ]
    },
    {
      "cell_type": "code",
      "metadata": {
        "id": "nMKrkyG08GE0",
        "colab": {
          "base_uri": "https://localhost:8080/"
        },
        "outputId": "488eae64-ff8c-4e53-af05-b1155bb873d0"
      },
      "source": [
        "import pandas as pd\n",
        "nls97 = pd.read_csv(\"/content/nls97f.csv\")\n",
        "print(nls97)\n",
        "nls97.set_index('personid', inplace=True)\n",
        "print(nls97)"
      ],
      "execution_count": null,
      "outputs": [
        {
          "output_type": "stream",
          "name": "stdout",
          "text": [
            "      personid  gender  birthmonth  ...      colenrfeb17      colenroct17 originalid\n",
            "0       100061  Female           5  ...  1. Not enrolled  1. Not enrolled       8245\n",
            "1       100139    Male           9  ...  1. Not enrolled  1. Not enrolled       3962\n",
            "2       100284    Male          11  ...  1. Not enrolled  1. Not enrolled       3571\n",
            "3       100292    Male           4  ...              NaN              NaN       2979\n",
            "4       100583    Male           1  ...  1. Not enrolled  1. Not enrolled       8511\n",
            "...        ...     ...         ...  ...              ...              ...        ...\n",
            "8979    999291  Female           4  ...  1. Not enrolled  1. Not enrolled       7217\n",
            "8980    999406    Male           7  ...  1. Not enrolled  1. Not enrolled          2\n",
            "8981    999543  Female           8  ...  1. Not enrolled  1. Not enrolled       5113\n",
            "8982    999698  Female           5  ...  1. Not enrolled  1. Not enrolled       7815\n",
            "8983    999963  Female           9  ...  1. Not enrolled  1. Not enrolled        166\n",
            "\n",
            "[8984 rows x 90 columns]\n",
            "          gender  birthmonth  ...      colenroct17  originalid\n",
            "personid                      ...                             \n",
            "100061    Female           5  ...  1. Not enrolled        8245\n",
            "100139      Male           9  ...  1. Not enrolled        3962\n",
            "100284      Male          11  ...  1. Not enrolled        3571\n",
            "100292      Male           4  ...              NaN        2979\n",
            "100583      Male           1  ...  1. Not enrolled        8511\n",
            "...          ...         ...  ...              ...         ...\n",
            "999291    Female           4  ...  1. Not enrolled        7217\n",
            "999406      Male           7  ...  1. Not enrolled           2\n",
            "999543    Female           8  ...  1. Not enrolled        5113\n",
            "999698    Female           5  ...  1. Not enrolled        7815\n",
            "999963    Female           9  ...  1. Not enrolled         166\n",
            "\n",
            "[8984 rows x 89 columns]\n"
          ]
        }
      ]
    },
    {
      "cell_type": "markdown",
      "metadata": {
        "id": "-k8IB6y2D9fM"
      },
      "source": [
        "**STEP 5:** สร้างฟังก์ชัน getfiestlook เพื่อดูค่าต่าง ๆ โดยเขียนโปรแกรมรวมเซ็นการเรียกใช้งานคำสั่ง\n",
        "\n",
        ".head(), .dtype(), .shape, .index\n",
        "\n",
        "ใช้คำสั่ง def ชื่อฟังก์ชัน(parameter): คำสั่งที่ต้องการให้ทำ\n",
        "\n",
        "**STEP 6:** สร้างฟังก์ชัน displaydict\n",
        "\n",
        "ใช้คำสั่ง def ชื่อฟังก์ชัน(parameter): คำสั่งที่ต้องการให้ทำ"
      ]
    },
    {
      "cell_type": "code",
      "metadata": {
        "id": "4YIssfaTQMPI"
      },
      "source": [
        "#create getfirstlook and displaydict functions\n",
        "def getfirstlook(df, nrows=5, uniqueids=None):  #df คือ ข้อมูล nls97 ที่ส่งเข้ามา, uniqueids=None จะไม่เข้าเงื่อนไข if\n",
        "    out = {}\n",
        "    out['head'] = df.head(nrows)\n",
        "    out['dtypes'] = df.dtypes\n",
        "    out['nrows'] = df.shape[0] #0 คือ row\n",
        "    out['ncols'] = df.shape[1] #1 คือ column\n",
        "    out['index'] = df.index\n",
        "    if (uniqueids is not None):\n",
        "        out['uniqueids'] = df[uniqueids].nunique()\n",
        "    return out\n",
        "\n",
        "def displaydict(dicttodisplay):\n",
        "    #แสดงผลข้อมูล string\n",
        "    print(*(': '.join(map(str, x)) \\\n",
        "        for x in dicttodisplay.items()), sep='\\n\\n')"
      ],
      "execution_count": null,
      "outputs": []
    },
    {
      "cell_type": "markdown",
      "metadata": {
        "id": "TfB6BKmo01PU"
      },
      "source": [
        "**STEP 7:** เรียกใช้งานฟังก์ชัน getfirstlook() และ displaydict()"
      ]
    },
    {
      "cell_type": "code",
      "metadata": {
        "id": "K3HZR78q1OXw",
        "colab": {
          "base_uri": "https://localhost:8080/"
        },
        "outputId": "fd16f1a5-8a4f-4ae5-dce3-7b78fced8bbb"
      },
      "source": [
        "#take a first look at the NLS data\n",
        "dfinfo = getfirstlook(nls97)\n",
        "displaydict(dfinfo)"
      ],
      "execution_count": null,
      "outputs": [
        {
          "output_type": "stream",
          "name": "stdout",
          "text": [
            "head:           gender  birthmonth  ...      colenroct17  originalid\n",
            "personid                      ...                             \n",
            "100061    Female           5  ...  1. Not enrolled        8245\n",
            "100139      Male           9  ...  1. Not enrolled        3962\n",
            "100284      Male          11  ...  1. Not enrolled        3571\n",
            "100292      Male           4  ...              NaN        2979\n",
            "100583      Male           1  ...  1. Not enrolled        8511\n",
            "\n",
            "[5 rows x 89 columns]\n",
            "\n",
            "dtypes: gender                    object\n",
            "birthmonth                 int64\n",
            "birthyear                  int64\n",
            "highestgradecompleted    float64\n",
            "maritalstatus             object\n",
            "                          ...   \n",
            "colenrfeb16               object\n",
            "colenroct16               object\n",
            "colenrfeb17               object\n",
            "colenroct17               object\n",
            "originalid                 int64\n",
            "Length: 89, dtype: object\n",
            "\n",
            "nrows: 8984\n",
            "\n",
            "ncols: 89\n",
            "\n",
            "index: Int64Index([100061, 100139, 100284, 100292, 100583, 100833, 100931, 101089,\n",
            "            101122, 101132,\n",
            "            ...\n",
            "            998997, 999031, 999053, 999087, 999103, 999291, 999406, 999543,\n",
            "            999698, 999963],\n",
            "           dtype='int64', name='personid', length=8984)\n"
          ]
        }
      ]
    },
    {
      "cell_type": "markdown",
      "metadata": {
        "id": "q90QguZeC9LZ"
      },
      "source": [
        "**STEP 8:** ส่งค่า valeus ไปยัง parameter nrows และ uniqueid"
      ]
    },
    {
      "cell_type": "code",
      "metadata": {
        "colab": {
          "base_uri": "https://localhost:8080/"
        },
        "id": "RsCB0TN_Oy_M",
        "outputId": "80158b4e-1084-42e8-db17-4b99d48c56da"
      },
      "source": [
        "#pass values to the nrows and uniqueid parameters\n",
        "dfinfo = getfirstlook(nls97,2,'originalid') #แสดงจำนวน uniqueids เข้าเงื่อนไข if นับจำนวน uniqueids\n",
        "displaydict(dfinfo)"
      ],
      "execution_count": null,
      "outputs": [
        {
          "output_type": "stream",
          "name": "stdout",
          "text": [
            "head:           gender  birthmonth  ...      colenroct17  originalid\n",
            "personid                      ...                             \n",
            "100061    Female           5  ...  1. Not enrolled        8245\n",
            "100139      Male           9  ...  1. Not enrolled        3962\n",
            "\n",
            "[2 rows x 89 columns]\n",
            "\n",
            "dtypes: gender                    object\n",
            "birthmonth                 int64\n",
            "birthyear                  int64\n",
            "highestgradecompleted    float64\n",
            "maritalstatus             object\n",
            "                          ...   \n",
            "colenrfeb16               object\n",
            "colenroct16               object\n",
            "colenrfeb17               object\n",
            "colenroct17               object\n",
            "originalid                 int64\n",
            "Length: 89, dtype: object\n",
            "\n",
            "nrows: 8984\n",
            "\n",
            "ncols: 89\n",
            "\n",
            "index: Int64Index([100061, 100139, 100284, 100292, 100583, 100833, 100931, 101089,\n",
            "            101122, 101132,\n",
            "            ...\n",
            "            998997, 999031, 999053, 999087, 999103, 999291, 999406, 999543,\n",
            "            999698, 999963],\n",
            "           dtype='int64', name='personid', length=8984)\n",
            "\n",
            "uniqueids: 8984\n"
          ]
        }
      ]
    },
    {
      "cell_type": "markdown",
      "metadata": {
        "id": "DWEfFFw9Zl78"
      },
      "source": [
        "**STEP 9:** แสดงข้อมูลแต่ละชุดคำสั่งที่ต้องการ"
      ]
    },
    {
      "cell_type": "code",
      "metadata": {
        "colab": {
          "base_uri": "https://localhost:8080/"
        },
        "id": "7A0633L6aQBS",
        "outputId": "f3cdbfac-3f74-4f0d-ea52-794daee7cb5e"
      },
      "source": [
        "#work with some of the dictionary keys and values\n",
        "print(dfinfo['nrows'])\n",
        "print(dfinfo['dtypes'])\n",
        "print(dfinfo['nrows'] == dfinfo['uniqueids']) #complete data คือ index เท่ากัน"
      ],
      "execution_count": null,
      "outputs": [
        {
          "output_type": "stream",
          "name": "stdout",
          "text": [
            "8984\n",
            "gender                    object\n",
            "birthmonth                 int64\n",
            "birthyear                  int64\n",
            "highestgradecompleted    float64\n",
            "maritalstatus             object\n",
            "                          ...   \n",
            "colenrfeb16               object\n",
            "colenroct16               object\n",
            "colenrfeb17               object\n",
            "colenroct17               object\n",
            "originalid                 int64\n",
            "Length: 89, dtype: object\n",
            "True\n"
          ]
        }
      ]
    }
  ]
}