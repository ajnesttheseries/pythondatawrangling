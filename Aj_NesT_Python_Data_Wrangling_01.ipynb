{
  "nbformat": 4,
  "nbformat_minor": 0,
  "metadata": {
    "colab": {
      "name": "Aj.NesT - Python Data Wrangling #1",
      "provenance": [],
      "collapsed_sections": []
    },
    "kernelspec": {
      "name": "python3",
      "display_name": "Python 3"
    },
    "language_info": {
      "name": "python"
    }
  },
  "cells": [
    {
      "cell_type": "markdown",
      "metadata": {
        "id": "OtrCo05tRE73"
      },
      "source": [
        "#Data Wrangling with Pandas\n",
        "\n",
        "[Aj. NesT the Series](http://bit.ly/ajnesttheseriesSubscribe)\n",
        "\n",
        "Reference: [Pyhton Data Cleaning Cookbook 2020](https://github.com/PacktPublishing/Python-Data-Cleaning-Cookbook)\n",
        "\n",
        "##Practice 1: เช็คคุณภาพข้อมูลและทำความสะอาดข้อมูล\n",
        "\n",
        "Measuring Data Quality and Data Cleaning of Your Data "
      ]
    },
    {
      "cell_type": "markdown",
      "metadata": {
        "id": "WYvmolVuVVMN"
      },
      "source": [
        "##Workshop 1: เริ่มดูข้อมูลของคุณก่อน\n",
        "--> Getting a first look at your data\n",
        "\n",
        "###Input Datasets\n",
        "\n",
        "* **[nls97.csv](https://drive.google.com/file/d/1-av28HdgEAYPc7ZSmvIh1JdR6Pb4HIfg/view?usp=sharing)** - the National Longitudinal Survey (NLS) 1997-2017.\n",
        "* **[covidtotals.csv](https://drive.google.com/file/d/1xwJwA-HUKO39KDjuDeJiz4kou7plkTZK/view?usp=sharing)** - COVID-19 case data 1 June 2020. "
      ]
    },
    {
      "cell_type": "markdown",
      "metadata": {
        "id": "mySii_FKZZz-"
      },
      "source": [
        "####Question 1: เราจะดูข้อมูลเบื้องต้นของ nls97.csv และ covidtotals.csv รวมทั้งจำนวน rows, columns และ data types ได้อย่างไร?\n",
        "\n",
        "**STEP 1:** นำเข้า Datasets โดยทำการ Upload ไฟล์ nls97.csv และไฟล์ covidtotals.csv ขึ้น Google Colab (ไฟล์นี้จะถูกลบเมื่อเราหลุดจาก Session หรือปิด Browser) หรือ Python IDE เช่น PyCharm, VSCode, Juputer Notebook, etc.\n",
        "\n",
        "**STEP 2:** นำเข้า pandas และ numpy libraries และทำการอ่านไฟล์ .csv ด้วย pandas เก็บเป็น Dataframe\n",
        "\n",
        "ใช้คำสั่ง .read_csv()"
      ]
    },
    {
      "cell_type": "code",
      "metadata": {
        "id": "4YIssfaTQMPI"
      },
      "source": [
        "import pandas as pd\n",
        "import numpy as np\n",
        "nls97 = pd.read_csv(\"/content/nls97.csv\")\n",
        "covidtotals = pd.read_csv(\"/content/covidtotals.csv\", parse_dates = ['lastdate']) \n",
        "#คำสั่ง parse_dates จะทำการแปลง Column 'lastdate' ให้เป็น Datetime Type วันเดือนปี เพื่อให้สามารถนำไปเปรียบเทียบช่วงเวลาได้"
      ],
      "execution_count": null,
      "outputs": []
    },
    {
      "cell_type": "code",
      "metadata": {
        "colab": {
          "base_uri": "https://localhost:8080/"
        },
        "id": "maf8I2RtfzxU",
        "outputId": "cd264a9a-c9d7-4314-ccb5-25a555787436"
      },
      "source": [
        "print(nls97)"
      ],
      "execution_count": null,
      "outputs": [
        {
          "output_type": "stream",
          "name": "stdout",
          "text": [
            "      personid  gender  ...      colenrfeb17      colenroct17\n",
            "0       100061  Female  ...  1. Not enrolled  1. Not enrolled\n",
            "1       100139    Male  ...  1. Not enrolled  1. Not enrolled\n",
            "2       100284    Male  ...  1. Not enrolled  1. Not enrolled\n",
            "3       100292    Male  ...              NaN              NaN\n",
            "4       100583    Male  ...  1. Not enrolled  1. Not enrolled\n",
            "...        ...     ...  ...              ...              ...\n",
            "8979    999291  Female  ...  1. Not enrolled  1. Not enrolled\n",
            "8980    999406    Male  ...  1. Not enrolled  1. Not enrolled\n",
            "8981    999543  Female  ...  1. Not enrolled  1. Not enrolled\n",
            "8982    999698  Female  ...  1. Not enrolled  1. Not enrolled\n",
            "8983    999963  Female  ...  1. Not enrolled  1. Not enrolled\n",
            "\n",
            "[8984 rows x 89 columns]\n"
          ]
        }
      ]
    },
    {
      "cell_type": "code",
      "metadata": {
        "colab": {
          "base_uri": "https://localhost:8080/"
        },
        "id": "HyAZkDiNf97F",
        "outputId": "6a4ab66f-5d3e-4050-d92c-71020abdd492"
      },
      "source": [
        "print(covidtotals)"
      ],
      "execution_count": null,
      "outputs": [
        {
          "output_type": "stream",
          "name": "stdout",
          "text": [
            "    iso_code   lastdate        location  ...  median_age  gdp_per_capita  hosp_beds\n",
            "0        AFG 2020-06-01     Afghanistan  ...        18.6        1803.987       0.50\n",
            "1        ALB 2020-06-01         Albania  ...        38.0       11803.431       2.89\n",
            "2        DZA 2020-06-01         Algeria  ...        29.1       13913.839       1.90\n",
            "3        AND 2020-06-01         Andorra  ...         NaN             NaN        NaN\n",
            "4        AGO 2020-06-01          Angola  ...        16.8        5819.495        NaN\n",
            "..       ...        ...             ...  ...         ...             ...        ...\n",
            "205      VNM 2020-06-01         Vietnam  ...        32.6        6171.884       2.60\n",
            "206      ESH 2020-06-01  Western Sahara  ...        28.4             NaN        NaN\n",
            "207      YEM 2020-06-01           Yemen  ...        20.3        1479.147       0.70\n",
            "208      ZMB 2020-06-01          Zambia  ...        17.7        3689.251       2.00\n",
            "209      ZWE 2020-06-01        Zimbabwe  ...        19.6        1899.775       1.70\n",
            "\n",
            "[210 rows x 12 columns]\n"
          ]
        }
      ]
    },
    {
      "cell_type": "markdown",
      "metadata": {
        "id": "TdwFYgnTt8AX"
      },
      "source": [
        "**เรามาเริ่มตรวจ Data Quality ของ Dataset ชุด nls97.csv**"
      ]
    },
    {
      "cell_type": "markdown",
      "metadata": {
        "id": "laWMomVegThA"
      },
      "source": [
        "**STEP 3:** ตั้งค่าและแสดง index และ size ของ nls97 data\n",
        "\n",
        "ใช้คำสั่ง set_index()"
      ]
    },
    {
      "cell_type": "code",
      "metadata": {
        "colab": {
          "base_uri": "https://localhost:8080/"
        },
        "id": "oNXAy180josM",
        "outputId": "47ff2d1b-6d25-4302-a4d4-e60be73deaa6"
      },
      "source": [
        "nls97.set_index(\"personid\", inplace=True) #กดได้แค่ครั้งเดียว ถ้ากดอีกครั้งต้องใช้คำสั่ง reset_index ก่อน\n",
        "print(nls97)\n",
        "#คำสั่ง set_index(\" \", inplace=True) ทำการ set ให้ column 'personid' เป็น index จะอยู่ใน column แรกแทนที่คอมสร้างให้\n",
        "#ถ้าต้องการกลับไปที่เดิมให้ใช้คำสั่ง reset_index แทน"
      ],
      "execution_count": null,
      "outputs": [
        {
          "output_type": "stream",
          "name": "stdout",
          "text": [
            "          gender  birthmonth  ...      colenrfeb17      colenroct17\n",
            "personid                      ...                                  \n",
            "100061    Female           5  ...  1. Not enrolled  1. Not enrolled\n",
            "100139      Male           9  ...  1. Not enrolled  1. Not enrolled\n",
            "100284      Male          11  ...  1. Not enrolled  1. Not enrolled\n",
            "100292      Male           4  ...              NaN              NaN\n",
            "100583      Male           1  ...  1. Not enrolled  1. Not enrolled\n",
            "...          ...         ...  ...              ...              ...\n",
            "999291    Female           4  ...  1. Not enrolled  1. Not enrolled\n",
            "999406      Male           7  ...  1. Not enrolled  1. Not enrolled\n",
            "999543    Female           8  ...  1. Not enrolled  1. Not enrolled\n",
            "999698    Female           5  ...  1. Not enrolled  1. Not enrolled\n",
            "999963    Female           9  ...  1. Not enrolled  1. Not enrolled\n",
            "\n",
            "[8984 rows x 88 columns]\n"
          ]
        }
      ]
    },
    {
      "cell_type": "code",
      "metadata": {
        "colab": {
          "base_uri": "https://localhost:8080/"
        },
        "id": "4iJz5OUSlD1P",
        "outputId": "462025c1-d525-42d0-ee0b-4264aaaa1230"
      },
      "source": [
        "print(nls97.index) #แสดงค่าของ Index "
      ],
      "execution_count": null,
      "outputs": [
        {
          "output_type": "stream",
          "name": "stdout",
          "text": [
            "Int64Index([100061, 100139, 100284, 100292, 100583, 100833, 100931, 101089,\n",
            "            101122, 101132,\n",
            "            ...\n",
            "            998997, 999031, 999053, 999087, 999103, 999291, 999406, 999543,\n",
            "            999698, 999963],\n",
            "           dtype='int64', name='personid', length=8984)\n"
          ]
        }
      ]
    },
    {
      "cell_type": "code",
      "metadata": {
        "colab": {
          "base_uri": "https://localhost:8080/"
        },
        "id": "nrP7xNJaldyM",
        "outputId": "e1b20073-67dd-4745-c5cd-8a9fae7830f5"
      },
      "source": [
        "print(nls97.shape) #เช็คจำนวน rows และ columns"
      ],
      "execution_count": null,
      "outputs": [
        {
          "output_type": "stream",
          "name": "stdout",
          "text": [
            "(8984, 88)\n"
          ]
        }
      ]
    },
    {
      "cell_type": "code",
      "metadata": {
        "colab": {
          "base_uri": "https://localhost:8080/"
        },
        "id": "Bg42as9jlzjs",
        "outputId": "32115323-bd7c-43ab-c55f-c0fb42fb8a3e"
      },
      "source": [
        "print(nls97.index.nunique()) #index.nunique แสดงจำนวนค่าที่ไม่ซ้ำกันใน index \n",
        "#ปรากฎว่าข้อมูล index คุณภาพดี เพราะไม่มีข้อมูลที่ซ้ำกัน"
      ],
      "execution_count": null,
      "outputs": [
        {
          "output_type": "stream",
          "name": "stdout",
          "text": [
            "8984\n"
          ]
        }
      ]
    },
    {
      "cell_type": "markdown",
      "metadata": {
        "id": "p0ZbxIoCnDDf"
      },
      "source": [
        "**STEP 4:** แสดงจำนวน data types และ non-null value\n",
        "\n",
        "ใช้คำสั่ง info()"
      ]
    },
    {
      "cell_type": "code",
      "metadata": {
        "colab": {
          "base_uri": "https://localhost:8080/"
        },
        "id": "SmmUqJ67nRMV",
        "outputId": "0fa4b1be-d1bc-4074-a767-2b1a9b5b983d"
      },
      "source": [
        "print(nls97.info())\n",
        "#คำสั่ง info() ทำการ list รายชื่อ colums ทั้งหมดและแสดงจำนวน complete values (และ missing values) และ data types \n",
        "# --> object คือคอลัมน์ที่เป็น text, string\n",
        "# --> int64 คือคอลัมน์ที่เป็น integer ตัวเลขจำนวนเต็ม\n",
        "# --> float64 คือคอลัมน์ที่เป็น float ตัวเลขที่มีทศนิยมได้\n",
        "#memory usage: 6.4+ MB ขนาดไฟล์ที่ใช้\n",
        "#จากข้อมูลจะเห็นว่า Dataframe มีคอลัมน์ที่สมบูรณ์แค่ 3 Columns คือ gender, birthmonth, birthyear เป็น complete values\n",
        "#เพราะมี 8984 non-null rows สมบูรณ์ครบ => ถ้าเป็น 6663 non-null แสดงว่ามี missing values = 8984-6663 = 2321  "
      ],
      "execution_count": null,
      "outputs": [
        {
          "output_type": "stream",
          "name": "stdout",
          "text": [
            "<class 'pandas.core.frame.DataFrame'>\n",
            "Int64Index: 8984 entries, 100061 to 999963\n",
            "Data columns (total 88 columns):\n",
            " #   Column                 Non-Null Count  Dtype  \n",
            "---  ------                 --------------  -----  \n",
            " 0   gender                 8984 non-null   object \n",
            " 1   birthmonth             8984 non-null   int64  \n",
            " 2   birthyear              8984 non-null   int64  \n",
            " 3   highestgradecompleted  6663 non-null   float64\n",
            " 4   maritalstatus          6672 non-null   object \n",
            " 5   childathome            4791 non-null   float64\n",
            " 6   childnotathome         4791 non-null   float64\n",
            " 7   wageincome             5091 non-null   float64\n",
            " 8   weeklyhrscomputer      6710 non-null   object \n",
            " 9   weeklyhrstv            6711 non-null   object \n",
            " 10  nightlyhrssleep        6706 non-null   float64\n",
            " 11  satverbal              1406 non-null   float64\n",
            " 12  satmath                1407 non-null   float64\n",
            " 13  gpaoverall             6004 non-null   float64\n",
            " 14  gpaenglish             5798 non-null   float64\n",
            " 15  gpamath                5766 non-null   float64\n",
            " 16  gpascience             5684 non-null   float64\n",
            " 17  highestdegree          8953 non-null   object \n",
            " 18  govprovidejobs         1833 non-null   object \n",
            " 19  govpricecontrols       1859 non-null   object \n",
            " 20  govhealthcare          1874 non-null   object \n",
            " 21  govelderliving         1872 non-null   object \n",
            " 22  govindhelp             1815 non-null   object \n",
            " 23  govunemp               1811 non-null   object \n",
            " 24  govincomediff          1775 non-null   object \n",
            " 25  govcollegefinance      1875 non-null   object \n",
            " 26  govdecenthousing       1847 non-null   object \n",
            " 27  govprotectenvironment  1860 non-null   object \n",
            " 28  weeksworked00          8603 non-null   float64\n",
            " 29  weeksworked01          8564 non-null   float64\n",
            " 30  weeksworked02          8556 non-null   float64\n",
            " 31  weeksworked03          8490 non-null   float64\n",
            " 32  weeksworked04          8458 non-null   float64\n",
            " 33  weeksworked05          8403 non-null   float64\n",
            " 34  weeksworked06          8340 non-null   float64\n",
            " 35  weeksworked07          8272 non-null   float64\n",
            " 36  weeksworked08          8186 non-null   float64\n",
            " 37  weeksworked09          8146 non-null   float64\n",
            " 38  weeksworked10          8054 non-null   float64\n",
            " 39  weeksworked11          7968 non-null   float64\n",
            " 40  weeksworked12          7747 non-null   float64\n",
            " 41  weeksworked13          7680 non-null   float64\n",
            " 42  weeksworked14          7612 non-null   float64\n",
            " 43  weeksworked15          7389 non-null   float64\n",
            " 44  weeksworked16          7068 non-null   float64\n",
            " 45  weeksworked17          6670 non-null   float64\n",
            " 46  colenrfeb97            1250 non-null   object \n",
            " 47  colenroct97            8501 non-null   object \n",
            " 48  colenrfeb98            8501 non-null   object \n",
            " 49  colenroct98            8888 non-null   object \n",
            " 50  colenrfeb99            8865 non-null   object \n",
            " 51  colenroct99            8851 non-null   object \n",
            " 52  colenrfeb00            8820 non-null   object \n",
            " 53  colenroct00            8805 non-null   object \n",
            " 54  colenrfeb01            8786 non-null   object \n",
            " 55  colenroct01            8758 non-null   object \n",
            " 56  colenrfeb02            8732 non-null   object \n",
            " 57  colenroct02            8698 non-null   object \n",
            " 58  colenrfeb03            8658 non-null   object \n",
            " 59  colenroct03            8622 non-null   object \n",
            " 60  colenrfeb04            8578 non-null   object \n",
            " 61  colenroct04            8546 non-null   object \n",
            " 62  colenrfeb05            8508 non-null   object \n",
            " 63  colenroct05            8471 non-null   object \n",
            " 64  colenrfeb06            8426 non-null   object \n",
            " 65  colenroct06            8407 non-null   object \n",
            " 66  colenrfeb07            8352 non-null   object \n",
            " 67  colenroct07            8331 non-null   object \n",
            " 68  colenrfeb08            8289 non-null   object \n",
            " 69  colenroct08            8280 non-null   object \n",
            " 70  colenrfeb09            8236 non-null   object \n",
            " 71  colenroct09            8193 non-null   object \n",
            " 72  colenrfeb10            8116 non-null   object \n",
            " 73  colenroct10            8091 non-null   object \n",
            " 74  colenrfeb11            8037 non-null   object \n",
            " 75  colenroct11            7972 non-null   object \n",
            " 76  colenrfeb12            7794 non-null   object \n",
            " 77  colenroct12            7754 non-null   object \n",
            " 78  colenrfeb13            7754 non-null   object \n",
            " 79  colenroct13            7754 non-null   object \n",
            " 80  colenrfeb14            7624 non-null   object \n",
            " 81  colenroct14            7469 non-null   object \n",
            " 82  colenrfeb15            7469 non-null   object \n",
            " 83  colenroct15            7469 non-null   object \n",
            " 84  colenrfeb16            7036 non-null   object \n",
            " 85  colenroct16            6733 non-null   object \n",
            " 86  colenrfeb17            6733 non-null   object \n",
            " 87  colenroct17            6734 non-null   object \n",
            "dtypes: float64(29), int64(2), object(57)\n",
            "memory usage: 6.4+ MB\n",
            "None\n"
          ]
        }
      ]
    },
    {
      "cell_type": "markdown",
      "metadata": {
        "id": "OhKPlFfprYre"
      },
      "source": [
        "**STEP 5:** แสดงข้อมูล rows หัวบน \n",
        "\n",
        "ใช้คำสั่ง .head() ถ้าต้องการแสดงหัวหางใช้คำสั่ง .tail()"
      ]
    },
    {
      "cell_type": "code",
      "metadata": {
        "colab": {
          "base_uri": "https://localhost:8080/"
        },
        "id": "9lisj4iErTgl",
        "outputId": "95ad9a7c-c028-4f8f-c523-3e18718e8dc9"
      },
      "source": [
        "print(nls97.head(3))"
      ],
      "execution_count": null,
      "outputs": [
        {
          "output_type": "stream",
          "name": "stdout",
          "text": [
            "          gender  birthmonth  ...      colenrfeb17      colenroct17\n",
            "personid                      ...                                  \n",
            "100061    Female           5  ...  1. Not enrolled  1. Not enrolled\n",
            "100139      Male           9  ...  1. Not enrolled  1. Not enrolled\n",
            "100284      Male          11  ...  1. Not enrolled  1. Not enrolled\n",
            "\n",
            "[3 rows x 88 columns]\n"
          ]
        }
      ]
    },
    {
      "cell_type": "markdown",
      "metadata": {
        "id": "M7uII0vhsDI_"
      },
      "source": [
        "**STEP 6:** ทำการปรับ rows-->columns และ columns-->rows \n",
        "\n",
        "ใช้คำสั่ง .T (Trsnspose) เพื่อแสดงให้เห็นข้อมูลมากขึ้น"
      ]
    },
    {
      "cell_type": "code",
      "metadata": {
        "colab": {
          "base_uri": "https://localhost:8080/"
        },
        "id": "FxQAnQPjtP6N",
        "outputId": "65d685b9-192e-4c6f-8aa4-75462ca7d15c"
      },
      "source": [
        "print(nls97.head(3).T)"
      ],
      "execution_count": null,
      "outputs": [
        {
          "output_type": "stream",
          "name": "stdout",
          "text": [
            "personid                        100061           100139           100284\n",
            "gender                          Female             Male             Male\n",
            "birthmonth                           5                9               11\n",
            "birthyear                         1980             1983             1984\n",
            "highestgradecompleted               13               12                7\n",
            "maritalstatus                  Married          Married    Never-married\n",
            "...                                ...              ...              ...\n",
            "colenroct15            1. Not enrolled  1. Not enrolled  1. Not enrolled\n",
            "colenrfeb16            1. Not enrolled  1. Not enrolled  1. Not enrolled\n",
            "colenroct16            1. Not enrolled  1. Not enrolled  1. Not enrolled\n",
            "colenrfeb17            1. Not enrolled  1. Not enrolled  1. Not enrolled\n",
            "colenroct17            1. Not enrolled  1. Not enrolled  1. Not enrolled\n",
            "\n",
            "[88 rows x 3 columns]\n"
          ]
        }
      ]
    },
    {
      "cell_type": "markdown",
      "metadata": {
        "id": "xGWQMOGEt0s8"
      },
      "source": [
        "**เรามาเริ่มตรวจ Data Quality ของ Dataset ชุด covidtotals.csv**"
      ]
    },
    {
      "cell_type": "markdown",
      "metadata": {
        "id": "0vRWvQf_vOOm"
      },
      "source": [
        "**STEP 7:** ตั้งค่าและแสดง index และ size ของ covidtotals.csv data\n",
        "\n",
        "ใช้คำสั่ง set_index()"
      ]
    },
    {
      "cell_type": "code",
      "metadata": {
        "colab": {
          "base_uri": "https://localhost:8080/"
        },
        "id": "vKixuynGvf7-",
        "outputId": "5d5fca32-b74b-4c5f-c7fa-4789e9210363"
      },
      "source": [
        "covidtotals.set_index(\"iso_code\", inplace=True) #กดได้แค่ครั้งเดียว ถ้ากดอีกครั้งต้องใช้คำสั่ง reset_index ก่อน\n",
        "print(covidtotals)\n",
        "#คำสั่ง set_index(\" \", inplace=True) ทำการ set ให้ column 'personid' เป็น index จะอยู่ใน column แรกแทนที่คอมสร้างให้\n",
        "#ถ้าต้องการกลับไปที่เดิมให้ใช้คำสั่ง reset_index แทน"
      ],
      "execution_count": null,
      "outputs": [
        {
          "output_type": "stream",
          "name": "stdout",
          "text": [
            "           lastdate        location  ...  gdp_per_capita  hosp_beds\n",
            "iso_code                             ...                           \n",
            "AFG      2020-06-01     Afghanistan  ...        1803.987       0.50\n",
            "ALB      2020-06-01         Albania  ...       11803.431       2.89\n",
            "DZA      2020-06-01         Algeria  ...       13913.839       1.90\n",
            "AND      2020-06-01         Andorra  ...             NaN        NaN\n",
            "AGO      2020-06-01          Angola  ...        5819.495        NaN\n",
            "...             ...             ...  ...             ...        ...\n",
            "VNM      2020-06-01         Vietnam  ...        6171.884       2.60\n",
            "ESH      2020-06-01  Western Sahara  ...             NaN        NaN\n",
            "YEM      2020-06-01           Yemen  ...        1479.147       0.70\n",
            "ZMB      2020-06-01          Zambia  ...        3689.251       2.00\n",
            "ZWE      2020-06-01        Zimbabwe  ...        1899.775       1.70\n",
            "\n",
            "[210 rows x 11 columns]\n"
          ]
        }
      ]
    },
    {
      "cell_type": "code",
      "metadata": {
        "colab": {
          "base_uri": "https://localhost:8080/"
        },
        "id": "pO9NKHiav6HN",
        "outputId": "082fec5c-b25b-4786-f8b4-d25f568f0a8a"
      },
      "source": [
        "print(covidtotals.index) #แสดงค่าของ Index "
      ],
      "execution_count": null,
      "outputs": [
        {
          "output_type": "stream",
          "name": "stdout",
          "text": [
            "Index(['AFG', 'ALB', 'DZA', 'AND', 'AGO', 'AIA', 'ATG', 'ARG', 'ARM', 'ABW',\n",
            "       ...\n",
            "       'VIR', 'URY', 'UZB', 'VAT', 'VEN', 'VNM', 'ESH', 'YEM', 'ZMB', 'ZWE'],\n",
            "      dtype='object', name='iso_code', length=210)\n"
          ]
        }
      ]
    },
    {
      "cell_type": "code",
      "metadata": {
        "colab": {
          "base_uri": "https://localhost:8080/"
        },
        "id": "jtunTIJav-vk",
        "outputId": "9af5ca36-bbbd-4339-8a92-0417df38affd"
      },
      "source": [
        "print(covidtotals.shape) #เช็คจำนวน rows และ columns"
      ],
      "execution_count": null,
      "outputs": [
        {
          "output_type": "stream",
          "name": "stdout",
          "text": [
            "(210, 11)\n"
          ]
        }
      ]
    },
    {
      "cell_type": "code",
      "metadata": {
        "colab": {
          "base_uri": "https://localhost:8080/"
        },
        "id": "DMR34WoxwH7M",
        "outputId": "10028d79-d5b5-4194-e2c1-21d0d1c30fe3"
      },
      "source": [
        "print(covidtotals.index.nunique()) #index.nunique แสดงจำนวนค่าที่ไม่ซ้ำกันใน index \n",
        "#ปรากฎว่าข้อมูล index คุณภาพดี เพราะไม่มีข้อมูลที่ซ้ำกัน"
      ],
      "execution_count": null,
      "outputs": [
        {
          "output_type": "stream",
          "name": "stdout",
          "text": [
            "210\n"
          ]
        }
      ]
    },
    {
      "cell_type": "markdown",
      "metadata": {
        "id": "105Pdx-fwVxE"
      },
      "source": [
        "**STEP 8:** แสดงจำนวน data types และ non-null value\n",
        "\n",
        "ใช้คำสั่ง info()"
      ]
    },
    {
      "cell_type": "code",
      "metadata": {
        "colab": {
          "base_uri": "https://localhost:8080/"
        },
        "id": "lmbbX1RkwY61",
        "outputId": "47d095bf-38c8-4106-95de-a6a4eafbfe68"
      },
      "source": [
        "print(covidtotals.info())\n",
        "#คำสั่ง info() ทำการ list รายชื่อ colums ทั้งหมดและแสดงจำนวน complete values (และ missing values) และ data types \n",
        "# --> datetime64 คือคอลัมน์ที่เป็น datetime ค่าวันเดือนปี\n",
        "# --> object คือคอลัมน์ที่เป็น text, string\n",
        "# --> int64 คือคอลัมน์ที่เป็น integer ตัวเลขจำนวนเต็ม\n",
        "# --> float64 คือคอลัมน์ที่เป็น float ตัวเลขที่มีทศนิยมได้\n",
        "#memory usage: 19.7+ KB ขนาดไฟล์ที่ใช้\n",
        "#จากข้อมูลจะเห็นว่า Dataframe มีคอลัมน์ที่สมบูรณ์แค่ 5 Columns เป็น complete values \n",
        "#เพราะมี 210 non-null rows สมบูรณ์ครบ => ถ้าเป็น 209 non-null แสดงว่ามี missing values = 210-209 = 1  "
      ],
      "execution_count": null,
      "outputs": [
        {
          "output_type": "stream",
          "name": "stdout",
          "text": [
            "<class 'pandas.core.frame.DataFrame'>\n",
            "Index: 210 entries, AFG to ZWE\n",
            "Data columns (total 11 columns):\n",
            " #   Column           Non-Null Count  Dtype         \n",
            "---  ------           --------------  -----         \n",
            " 0   lastdate         210 non-null    datetime64[ns]\n",
            " 1   location         210 non-null    object        \n",
            " 2   total_cases      210 non-null    int64         \n",
            " 3   total_deaths     210 non-null    int64         \n",
            " 4   total_cases_pm   209 non-null    float64       \n",
            " 5   total_deaths_pm  209 non-null    float64       \n",
            " 6   population       210 non-null    float64       \n",
            " 7   pop_density      198 non-null    float64       \n",
            " 8   median_age       186 non-null    float64       \n",
            " 9   gdp_per_capita   182 non-null    float64       \n",
            " 10  hosp_beds        164 non-null    float64       \n",
            "dtypes: datetime64[ns](1), float64(7), int64(2), object(1)\n",
            "memory usage: 19.7+ KB\n",
            "None\n"
          ]
        }
      ]
    },
    {
      "cell_type": "markdown",
      "metadata": {
        "id": "O4pXUZYwx6Be"
      },
      "source": [
        "**STEP 9:** แสดงการสุ่มจำนวนข้อมูล Sample กลุ่มตัวอย่างแบบ Random\n",
        "\n",
        "ใช้คำสั่ง .sample(n, random_state=k) \n",
        "\n",
        "n คือ จำนวนข้อมูล sample ที่ต้องการสุ่ม \n",
        "\n",
        "k คือ ค่า seed ที่กำหนดการ random กลุ่มข้อมูล จะเป็นเลขจำนวนเต็ม ถ้ากำหนดเลขเดิม ผลการ split ก็เหมือนเดิม"
      ]
    },
    {
      "cell_type": "code",
      "metadata": {
        "colab": {
          "base_uri": "https://localhost:8080/"
        },
        "id": "P8y9Mo4hyPyl",
        "outputId": "0f1abc6f-e07f-4947-d94a-bf0f149b630d"
      },
      "source": [
        "print(covidtotals.sample(3, random_state=1))"
      ],
      "execution_count": null,
      "outputs": [
        {
          "output_type": "stream",
          "name": "stdout",
          "text": [
            "           lastdate        location  ...  gdp_per_capita  hosp_beds\n",
            "iso_code                             ...                           \n",
            "COG      2020-06-01           Congo  ...        4881.406        NaN\n",
            "THA      2020-06-01        Thailand  ...       16277.671       2.10\n",
            "CZE      2020-06-01  Czech Republic  ...       32605.906       6.63\n",
            "\n",
            "[3 rows x 11 columns]\n"
          ]
        }
      ]
    },
    {
      "cell_type": "markdown",
      "metadata": {
        "id": "L7-Q15ZZzzCl"
      },
      "source": [
        "**STEP 10:** ทำการปรับ rows-->columns และ columns-->rows\n",
        "\n",
        "ใช้คำสั่ง .T (Trsnspose) เพื่อแสดงให้เห็นข้อมูลมากขึ้น"
      ]
    },
    {
      "cell_type": "code",
      "metadata": {
        "colab": {
          "base_uri": "https://localhost:8080/"
        },
        "id": "pliWwlvCz3Br",
        "outputId": "c62c2005-70b9-4490-e802-5f713f1d8496"
      },
      "source": [
        "print(covidtotals.sample(3, random_state=1).T)"
      ],
      "execution_count": null,
      "outputs": [
        {
          "output_type": "stream",
          "name": "stdout",
          "text": [
            "iso_code                         COG                  THA                  CZE\n",
            "lastdate         2020-06-01 00:00:00  2020-06-01 00:00:00  2020-06-01 00:00:00\n",
            "location                       Congo             Thailand       Czech Republic\n",
            "total_cases                      611                 3081                 9273\n",
            "total_deaths                      20                   57                  320\n",
            "total_cases_pm               110.727                44.14              865.909\n",
            "total_deaths_pm                3.624                0.817               29.881\n",
            "population               5.51809e+06             6.98e+07           1.0709e+07\n",
            "pop_density                   15.405              135.132              137.176\n",
            "median_age                        19                 40.1                 43.3\n",
            "gdp_per_capita               4881.41              16277.7              32605.9\n",
            "hosp_beds                        NaN                  2.1                 6.63\n"
          ]
        }
      ]
    }
  ]
}