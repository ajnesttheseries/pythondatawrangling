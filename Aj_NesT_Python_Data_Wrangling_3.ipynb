{
  "nbformat": 4,
  "nbformat_minor": 0,
  "metadata": {
    "colab": {
      "name": "Aj.NesT - Python Data Wrangling #3",
      "provenance": [],
      "collapsed_sections": []
    },
    "kernelspec": {
      "name": "python3",
      "display_name": "Python 3"
    },
    "language_info": {
      "name": "python"
    }
  },
  "cells": [
    {
      "cell_type": "markdown",
      "metadata": {
        "id": "OtrCo05tRE73"
      },
      "source": [
        "#Data Wrangling with Pandas\n",
        "\n",
        "[Aj. NesT the Series](http://bit.ly/ajnesttheseriesSubscribe)\n",
        "\n",
        "Referenence: [Pyhton Data Cleaning Cookbook 2020](https://github.com/PacktPublishing/Python-Data-Cleaning-Cookbook)\n",
        "\n",
        "##Practice 1: เช็คคุณภาพข้อมูลและทำความสะอาดข้อมูล\n",
        "\n",
        "Measuring Data Quality and Data Cleaning of Your Data "
      ]
    },
    {
      "cell_type": "markdown",
      "metadata": {
        "id": "WYvmolVuVVMN"
      },
      "source": [
        "##Workshop 3: การเลือกแถว\n",
        "--> Selecting Rows\n",
        "\n",
        "###Input Datasets\n",
        "\n",
        "* **[nls97.csv](https://drive.google.com/file/d/1-av28HdgEAYPc7ZSmvIh1JdR6Pb4HIfg/view?usp=sharing)** - the National Longitudinal Survey (NLS) 1997-2017."
      ]
    },
    {
      "cell_type": "markdown",
      "metadata": {
        "id": "mySii_FKZZz-"
      },
      "source": [
        "####Question 3: เราจะสำรวจวิธีการเลือกแถว Zoom In Zoom Out ข้อมูล\n",
        "\n",
        "**STEP 1:** นำเข้า Datasets โดยทำการ Upload ไฟล์ nls97.csv และไฟล์ covidtotals.csv ขึ้น Google Colab (ไฟล์นี้จะถูกลบเมื่อเราหลุดจาก Session หรือปิด Browser) หรือ Python IDE เช่น PyCharm, VSCode, Juputer Notebook, etc.\n",
        "\n",
        "**STEP 2:** ทำการอ่านไฟล์ .csv ด้วย pandas เก็บเป็น Dataframe\n",
        "\n",
        "ใช้คำสั่ง .read_csv()\n",
        "\n",
        "**STEP 3:** ตั้งค่าและแสดง index และ size ของ nls97 data\n",
        "\n",
        "ใช้คำสั่ง set_index()\n",
        "\n",
        "**STEP 4:** ตั้งค่าและแสดง index และ size ของ nls97 data\n",
        "\n",
        "ใช้คำสั่ง set_index()\n",
        "\n",
        "**STEP 5:** แสดงจำนวน data types และ non-null value\n",
        "\n",
        "ใช้คำสั่ง info()"
      ]
    },
    {
      "cell_type": "code",
      "metadata": {
        "id": "4YIssfaTQMPI",
        "colab": {
          "base_uri": "https://localhost:8080/"
        },
        "outputId": "e96d5e73-602a-4dba-c025-414f605d7446"
      },
      "source": [
        "import pandas as pd\n",
        "import numpy as np\n",
        "nls97 = pd.read_csv(\"/content/nls97.csv\")\n",
        "nls97.set_index(\"personid\", inplace=True)\n",
        "print(nls97)\n",
        "print(nls97.info())"
      ],
      "execution_count": null,
      "outputs": [
        {
          "output_type": "stream",
          "name": "stdout",
          "text": [
            "          gender  birthmonth  ...      colenrfeb17      colenroct17\n",
            "personid                      ...                                  \n",
            "100061    Female           5  ...  1. Not enrolled  1. Not enrolled\n",
            "100139      Male           9  ...  1. Not enrolled  1. Not enrolled\n",
            "100284      Male          11  ...  1. Not enrolled  1. Not enrolled\n",
            "100292      Male           4  ...              NaN              NaN\n",
            "100583      Male           1  ...  1. Not enrolled  1. Not enrolled\n",
            "...          ...         ...  ...              ...              ...\n",
            "999291    Female           4  ...  1. Not enrolled  1. Not enrolled\n",
            "999406      Male           7  ...  1. Not enrolled  1. Not enrolled\n",
            "999543    Female           8  ...  1. Not enrolled  1. Not enrolled\n",
            "999698    Female           5  ...  1. Not enrolled  1. Not enrolled\n",
            "999963    Female           9  ...  1. Not enrolled  1. Not enrolled\n",
            "\n",
            "[8984 rows x 88 columns]\n",
            "<class 'pandas.core.frame.DataFrame'>\n",
            "Int64Index: 8984 entries, 100061 to 999963\n",
            "Data columns (total 88 columns):\n",
            " #   Column                 Non-Null Count  Dtype  \n",
            "---  ------                 --------------  -----  \n",
            " 0   gender                 8984 non-null   object \n",
            " 1   birthmonth             8984 non-null   int64  \n",
            " 2   birthyear              8984 non-null   int64  \n",
            " 3   highestgradecompleted  6663 non-null   float64\n",
            " 4   maritalstatus          6672 non-null   object \n",
            " 5   childathome            4791 non-null   float64\n",
            " 6   childnotathome         4791 non-null   float64\n",
            " 7   wageincome             5091 non-null   float64\n",
            " 8   weeklyhrscomputer      6710 non-null   object \n",
            " 9   weeklyhrstv            6711 non-null   object \n",
            " 10  nightlyhrssleep        6706 non-null   float64\n",
            " 11  satverbal              1406 non-null   float64\n",
            " 12  satmath                1407 non-null   float64\n",
            " 13  gpaoverall             6004 non-null   float64\n",
            " 14  gpaenglish             5798 non-null   float64\n",
            " 15  gpamath                5766 non-null   float64\n",
            " 16  gpascience             5684 non-null   float64\n",
            " 17  highestdegree          8953 non-null   object \n",
            " 18  govprovidejobs         1833 non-null   object \n",
            " 19  govpricecontrols       1859 non-null   object \n",
            " 20  govhealthcare          1874 non-null   object \n",
            " 21  govelderliving         1872 non-null   object \n",
            " 22  govindhelp             1815 non-null   object \n",
            " 23  govunemp               1811 non-null   object \n",
            " 24  govincomediff          1775 non-null   object \n",
            " 25  govcollegefinance      1875 non-null   object \n",
            " 26  govdecenthousing       1847 non-null   object \n",
            " 27  govprotectenvironment  1860 non-null   object \n",
            " 28  weeksworked00          8603 non-null   float64\n",
            " 29  weeksworked01          8564 non-null   float64\n",
            " 30  weeksworked02          8556 non-null   float64\n",
            " 31  weeksworked03          8490 non-null   float64\n",
            " 32  weeksworked04          8458 non-null   float64\n",
            " 33  weeksworked05          8403 non-null   float64\n",
            " 34  weeksworked06          8340 non-null   float64\n",
            " 35  weeksworked07          8272 non-null   float64\n",
            " 36  weeksworked08          8186 non-null   float64\n",
            " 37  weeksworked09          8146 non-null   float64\n",
            " 38  weeksworked10          8054 non-null   float64\n",
            " 39  weeksworked11          7968 non-null   float64\n",
            " 40  weeksworked12          7747 non-null   float64\n",
            " 41  weeksworked13          7680 non-null   float64\n",
            " 42  weeksworked14          7612 non-null   float64\n",
            " 43  weeksworked15          7389 non-null   float64\n",
            " 44  weeksworked16          7068 non-null   float64\n",
            " 45  weeksworked17          6670 non-null   float64\n",
            " 46  colenrfeb97            1250 non-null   object \n",
            " 47  colenroct97            8501 non-null   object \n",
            " 48  colenrfeb98            8501 non-null   object \n",
            " 49  colenroct98            8888 non-null   object \n",
            " 50  colenrfeb99            8865 non-null   object \n",
            " 51  colenroct99            8851 non-null   object \n",
            " 52  colenrfeb00            8820 non-null   object \n",
            " 53  colenroct00            8805 non-null   object \n",
            " 54  colenrfeb01            8786 non-null   object \n",
            " 55  colenroct01            8758 non-null   object \n",
            " 56  colenrfeb02            8732 non-null   object \n",
            " 57  colenroct02            8698 non-null   object \n",
            " 58  colenrfeb03            8658 non-null   object \n",
            " 59  colenroct03            8622 non-null   object \n",
            " 60  colenrfeb04            8578 non-null   object \n",
            " 61  colenroct04            8546 non-null   object \n",
            " 62  colenrfeb05            8508 non-null   object \n",
            " 63  colenroct05            8471 non-null   object \n",
            " 64  colenrfeb06            8426 non-null   object \n",
            " 65  colenroct06            8407 non-null   object \n",
            " 66  colenrfeb07            8352 non-null   object \n",
            " 67  colenroct07            8331 non-null   object \n",
            " 68  colenrfeb08            8289 non-null   object \n",
            " 69  colenroct08            8280 non-null   object \n",
            " 70  colenrfeb09            8236 non-null   object \n",
            " 71  colenroct09            8193 non-null   object \n",
            " 72  colenrfeb10            8116 non-null   object \n",
            " 73  colenroct10            8091 non-null   object \n",
            " 74  colenrfeb11            8037 non-null   object \n",
            " 75  colenroct11            7972 non-null   object \n",
            " 76  colenrfeb12            7794 non-null   object \n",
            " 77  colenroct12            7754 non-null   object \n",
            " 78  colenrfeb13            7754 non-null   object \n",
            " 79  colenroct13            7754 non-null   object \n",
            " 80  colenrfeb14            7624 non-null   object \n",
            " 81  colenroct14            7469 non-null   object \n",
            " 82  colenrfeb15            7469 non-null   object \n",
            " 83  colenroct15            7469 non-null   object \n",
            " 84  colenrfeb16            7036 non-null   object \n",
            " 85  colenroct16            6733 non-null   object \n",
            " 86  colenrfeb17            6733 non-null   object \n",
            " 87  colenroct17            6734 non-null   object \n",
            "dtypes: float64(29), int64(2), object(57)\n",
            "memory usage: 6.1+ MB\n",
            "None\n"
          ]
        }
      ]
    },
    {
      "cell_type": "markdown",
      "metadata": {
        "id": "-k8IB6y2D9fM"
      },
      "source": [
        "**STEP 6:** ทำการเลือก row เริ่มที่แถว 1001 ไปถึงแถว 1004\n",
        "\n",
        "Use slicing to select a few rows\n",
        "\n",
        "[1000:1004] เนื่องจาก index เริ่มต้นที่ 0 => [เลขแถวเริ่มต้น-1: เลขแถวปลายทาง]"
      ]
    },
    {
      "cell_type": "code",
      "metadata": {
        "colab": {
          "base_uri": "https://localhost:8080/"
        },
        "id": "nMKrkyG08GE0",
        "outputId": "fe5bdae1-6490-484e-a596-dcd46f8fd284"
      },
      "source": [
        "print(nls97[1000:1004]) #ให้ทดลองเปิดไฟล์ .csv ในโปรแกรม Excel จะอยู่ที่บรรทัด 1002 - 1005"
      ],
      "execution_count": null,
      "outputs": [
        {
          "output_type": "stream",
          "name": "stdout",
          "text": [
            "          gender  birthmonth  ...      colenrfeb17      colenroct17\n",
            "personid                      ...                                  \n",
            "195884      Male          12  ...              NaN              NaN\n",
            "195891      Male           9  ...  1. Not enrolled  1. Not enrolled\n",
            "195970    Female           3  ...  1. Not enrolled  1. Not enrolled\n",
            "195996    Female           9  ...              NaN              NaN\n",
            "\n",
            "[4 rows x 88 columns]\n"
          ]
        }
      ]
    },
    {
      "cell_type": "markdown",
      "metadata": {
        "id": "TfB6BKmo01PU"
      },
      "source": [
        "**STEP 7:** ทำการ Transport กลับ rows เป็น columns กลับ columns เป็น rows\n",
        "\n",
        "ใช้คำสั่ง .T Transport เพื่อให้เห็นรายละเอียดของข้อมูลมากขึ้น"
      ]
    },
    {
      "cell_type": "code",
      "metadata": {
        "colab": {
          "base_uri": "https://localhost:8080/"
        },
        "id": "Fva0bgu11aSs",
        "outputId": "b2262810-7f3f-46b9-a6f4-87e3b7d64fe1"
      },
      "source": [
        "print(nls97[1000:1004].T)"
      ],
      "execution_count": null,
      "outputs": [
        {
          "output_type": "stream",
          "name": "stdout",
          "text": [
            "personid              195884           195891           195970  195996\n",
            "gender                  Male             Male           Female  Female\n",
            "birthmonth                12                9                3       9\n",
            "birthyear               1981             1980             1982    1980\n",
            "highestgradecompleted    NaN               12               17     NaN\n",
            "maritalstatus            NaN    Never-married    Never-married     NaN\n",
            "...                      ...              ...              ...     ...\n",
            "colenroct15              NaN  1. Not enrolled  1. Not enrolled     NaN\n",
            "colenrfeb16              NaN  1. Not enrolled  1. Not enrolled     NaN\n",
            "colenroct16              NaN  1. Not enrolled  1. Not enrolled     NaN\n",
            "colenrfeb17              NaN  1. Not enrolled  1. Not enrolled     NaN\n",
            "colenroct17              NaN  1. Not enrolled  1. Not enrolled     NaN\n",
            "\n",
            "[88 rows x 4 columns]\n"
          ]
        }
      ]
    },
    {
      "cell_type": "markdown",
      "metadata": {
        "id": "OuaPeJUh1nHU"
      },
      "source": [
        "**STEP 8:** ทำการเลือก rows แบบกระโดดข้ามแถวระหว่างทาง\n",
        "\n",
        "Use slicing to start at the 1001st row and go to the 1004th row, skipping every\n",
        "other row.\n",
        "\n",
        "ใช้คำสั่ง [เลขแถวเริ่มต้น-1 : เลขแถวปลายทาง : ช่วงแถวที่ข้าม]"
      ]
    },
    {
      "cell_type": "code",
      "metadata": {
        "colab": {
          "base_uri": "https://localhost:8080/"
        },
        "id": "AsfbMFrU2OTk",
        "outputId": "dcb625d6-0cdc-4bae-bc42-cf99ee8be0fb"
      },
      "source": [
        "print(nls97[1000:1004:2].T) #ข้ามไป step ละ 2 แถว เช่น 1 -> 3 "
      ],
      "execution_count": null,
      "outputs": [
        {
          "output_type": "stream",
          "name": "stdout",
          "text": [
            "personid              195884           195970\n",
            "gender                  Male           Female\n",
            "birthmonth                12                3\n",
            "birthyear               1981             1982\n",
            "highestgradecompleted    NaN               17\n",
            "maritalstatus            NaN    Never-married\n",
            "...                      ...              ...\n",
            "colenroct15              NaN  1. Not enrolled\n",
            "colenrfeb16              NaN  1. Not enrolled\n",
            "colenroct16              NaN  1. Not enrolled\n",
            "colenrfeb17              NaN  1. Not enrolled\n",
            "colenroct17              NaN  1. Not enrolled\n",
            "\n",
            "[88 rows x 2 columns]\n"
          ]
        }
      ]
    },
    {
      "cell_type": "markdown",
      "metadata": {
        "id": "oUomBz403LEc"
      },
      "source": [
        "**STEP 9:** ทำการเลือก 3 rows แรก ที่อยู่บนสุด\n",
        "\n",
        "Select the first three rows using head and [ ] operator slicing\n",
        "\n",
        "ใช้คำสั่ง [: n] n คือจำนวนแถวบนสุด ผลลัพธ์เหมือนกับคำสั่ง .head()"
      ]
    },
    {
      "cell_type": "code",
      "metadata": {
        "colab": {
          "base_uri": "https://localhost:8080/"
        },
        "id": "yC87mium3ggU",
        "outputId": "9b7a2b20-3253-43f8-e8fb-702fc0d0699d"
      },
      "source": [
        "#select first 3 rows using head() and Python slicing\n",
        "print(nls97.head(3).T)\n",
        "print(nls97[:3].T) #ใช้ [: ] ผลลัพธ์เหมือนกับคำสั่ง .head()"
      ],
      "execution_count": null,
      "outputs": [
        {
          "output_type": "stream",
          "name": "stdout",
          "text": [
            "personid                        100061           100139           100284\n",
            "gender                          Female             Male             Male\n",
            "birthmonth                           5                9               11\n",
            "birthyear                         1980             1983             1984\n",
            "highestgradecompleted               13               12                7\n",
            "maritalstatus                  Married          Married    Never-married\n",
            "...                                ...              ...              ...\n",
            "colenroct15            1. Not enrolled  1. Not enrolled  1. Not enrolled\n",
            "colenrfeb16            1. Not enrolled  1. Not enrolled  1. Not enrolled\n",
            "colenroct16            1. Not enrolled  1. Not enrolled  1. Not enrolled\n",
            "colenrfeb17            1. Not enrolled  1. Not enrolled  1. Not enrolled\n",
            "colenroct17            1. Not enrolled  1. Not enrolled  1. Not enrolled\n",
            "\n",
            "[88 rows x 3 columns]\n",
            "personid                        100061           100139           100284\n",
            "gender                          Female             Male             Male\n",
            "birthmonth                           5                9               11\n",
            "birthyear                         1980             1983             1984\n",
            "highestgradecompleted               13               12                7\n",
            "maritalstatus                  Married          Married    Never-married\n",
            "...                                ...              ...              ...\n",
            "colenroct15            1. Not enrolled  1. Not enrolled  1. Not enrolled\n",
            "colenrfeb16            1. Not enrolled  1. Not enrolled  1. Not enrolled\n",
            "colenroct16            1. Not enrolled  1. Not enrolled  1. Not enrolled\n",
            "colenrfeb17            1. Not enrolled  1. Not enrolled  1. Not enrolled\n",
            "colenroct17            1. Not enrolled  1. Not enrolled  1. Not enrolled\n",
            "\n",
            "[88 rows x 3 columns]\n"
          ]
        }
      ]
    },
    {
      "cell_type": "markdown",
      "metadata": {
        "id": "47mtcf444M7P"
      },
      "source": [
        "**STEP 10:** ทำการเลือก 3 rows ล่างสุด \n",
        "\n",
        "Select the last three rows using tail and [ ] operator slicing\n",
        "\n",
        "ใช้คำสั่ง [-n: ] n คือ จำนวนแถวล่างสุด ผลลัพธ์เหมือนกับคำสั่ง .tail() "
      ]
    },
    {
      "cell_type": "code",
      "metadata": {
        "colab": {
          "base_uri": "https://localhost:8080/"
        },
        "id": "eT-QpUXd4-L9",
        "outputId": "e7fda947-23f4-4911-fc9e-5b38256799df"
      },
      "source": [
        "#select last 3 rows using tail() and Python slicing\n",
        "print(nls97.tail(3).T)\n",
        "print(nls97[-3:].T) #ใช้ [-n: ] ผลลัพธ์เหมือนกับคำสั่ง .tail()"
      ],
      "execution_count": null,
      "outputs": [
        {
          "output_type": "stream",
          "name": "stdout",
          "text": [
            "personid                        999543           999698           999963\n",
            "gender                          Female           Female           Female\n",
            "birthmonth                           8                5                9\n",
            "birthyear                         1984             1983             1982\n",
            "highestgradecompleted               12               12               17\n",
            "maritalstatus                 Divorced    Never-married          Married\n",
            "...                                ...              ...              ...\n",
            "colenroct15            1. Not enrolled  1. Not enrolled  1. Not enrolled\n",
            "colenrfeb16            1. Not enrolled  1. Not enrolled  1. Not enrolled\n",
            "colenroct16            1. Not enrolled  1. Not enrolled  1. Not enrolled\n",
            "colenrfeb17            1. Not enrolled  1. Not enrolled  1. Not enrolled\n",
            "colenroct17            1. Not enrolled  1. Not enrolled  1. Not enrolled\n",
            "\n",
            "[88 rows x 3 columns]\n",
            "personid                        999543           999698           999963\n",
            "gender                          Female           Female           Female\n",
            "birthmonth                           8                5                9\n",
            "birthyear                         1984             1983             1982\n",
            "highestgradecompleted               12               12               17\n",
            "maritalstatus                 Divorced    Never-married          Married\n",
            "...                                ...              ...              ...\n",
            "colenroct15            1. Not enrolled  1. Not enrolled  1. Not enrolled\n",
            "colenrfeb16            1. Not enrolled  1. Not enrolled  1. Not enrolled\n",
            "colenroct16            1. Not enrolled  1. Not enrolled  1. Not enrolled\n",
            "colenrfeb17            1. Not enrolled  1. Not enrolled  1. Not enrolled\n",
            "colenroct17            1. Not enrolled  1. Not enrolled  1. Not enrolled\n",
            "\n",
            "[88 rows x 3 columns]\n"
          ]
        }
      ]
    },
    {
      "cell_type": "markdown",
      "metadata": {
        "id": "BNpSc6Lb6RFk"
      },
      "source": [
        "**STEP 11:** ทำการเลือกค่าข้อมูล values ของ rows ด้วยคำสั่ง .loc \n",
        "\n",
        "Select a few rows using the loc data accessor\n",
        "\n",
        "ใช้คำสั่ง .loc[ index_values ] ในที่นี้คือค่าที่อยู่ในแถวของ personid ซึ่งตั้งเป็น index]\n",
        "\n",
        "เช่น ต้องการค่าข้อมูลแถวของ personalid (เนื่องจากเป็น index) ที่ 195884, 195891, 195970"
      ]
    },
    {
      "cell_type": "code",
      "metadata": {
        "colab": {
          "base_uri": "https://localhost:8080/"
        },
        "id": "J-CpGxFd6ghV",
        "outputId": "ec744d92-a352-4beb-f001-2a1216a23688"
      },
      "source": [
        "print(nls97.loc[[195884,195891,195970]].T) # , เลือกแบบค่าที่ต้องการ"
      ],
      "execution_count": null,
      "outputs": [
        {
          "output_type": "stream",
          "name": "stdout",
          "text": [
            "personid              195884           195891           195970\n",
            "gender                  Male             Male           Female\n",
            "birthmonth                12                9                3\n",
            "birthyear               1981             1980             1982\n",
            "highestgradecompleted    NaN               12               17\n",
            "maritalstatus            NaN    Never-married    Never-married\n",
            "...                      ...              ...              ...\n",
            "colenroct15              NaN  1. Not enrolled  1. Not enrolled\n",
            "colenrfeb16              NaN  1. Not enrolled  1. Not enrolled\n",
            "colenroct16              NaN  1. Not enrolled  1. Not enrolled\n",
            "colenrfeb17              NaN  1. Not enrolled  1. Not enrolled\n",
            "colenroct17              NaN  1. Not enrolled  1. Not enrolled\n",
            "\n",
            "[88 rows x 3 columns]\n"
          ]
        }
      ]
    },
    {
      "cell_type": "code",
      "metadata": {
        "colab": {
          "base_uri": "https://localhost:8080/"
        },
        "id": "4NAnX2WP8PZq",
        "outputId": "2edc1000-88d8-4811-d62c-bfb18425753a"
      },
      "source": [
        "print(nls97.loc[195884:195970].T) # : เลือกแบบจากเริ่มต้นถึงปลายทาง"
      ],
      "execution_count": null,
      "outputs": [
        {
          "output_type": "stream",
          "name": "stdout",
          "text": [
            "personid              195884           195891           195970\n",
            "gender                  Male             Male           Female\n",
            "birthmonth                12                9                3\n",
            "birthyear               1981             1980             1982\n",
            "highestgradecompleted    NaN               12               17\n",
            "maritalstatus            NaN    Never-married    Never-married\n",
            "...                      ...              ...              ...\n",
            "colenroct15              NaN  1. Not enrolled  1. Not enrolled\n",
            "colenrfeb16              NaN  1. Not enrolled  1. Not enrolled\n",
            "colenroct16              NaN  1. Not enrolled  1. Not enrolled\n",
            "colenrfeb17              NaN  1. Not enrolled  1. Not enrolled\n",
            "colenroct17              NaN  1. Not enrolled  1. Not enrolled\n",
            "\n",
            "[88 rows x 3 columns]\n"
          ]
        }
      ]
    },
    {
      "cell_type": "markdown",
      "metadata": {
        "id": "Yd0ZT3hB82v4"
      },
      "source": [
        "**STEP 12:** ทำการเลือกแบบค่าตำแหน่ง index ของแถวเพื่อเข้าถึงค่าข้อมูล values ด้วยคำสั่ง .iloc \n",
        "\n",
        "Select a few rows from the beginning of the DataFrame with the iloc data accessor\n",
        "\n",
        "ใช้คำสั่ง .iloc[ index_numbers ] ในที่นี้คือค่าตำแหน่งแถวของ personid ซึ่งตั้งเป็น index]"
      ]
    },
    {
      "cell_type": "code",
      "metadata": {
        "colab": {
          "base_uri": "https://localhost:8080/"
        },
        "id": "HH-YLbW19n73",
        "outputId": "425469c9-89a1-431b-abb2-55a82b30121d"
      },
      "source": [
        "print(nls97.iloc[[0,1,2]].T) #เข้าถึงแถวด้านบน นับจากบนลงล่าง\n",
        "print(nls97.iloc[[-3,-2,-1]].T) #เข้าถึงแถวจากด้านล่าง -1 คืออยู่ล่างสุด นับจากล่างขึ้นบน"
      ],
      "execution_count": null,
      "outputs": [
        {
          "output_type": "stream",
          "name": "stdout",
          "text": [
            "personid                        100061           100139           100284\n",
            "gender                          Female             Male             Male\n",
            "birthmonth                           5                9               11\n",
            "birthyear                         1980             1983             1984\n",
            "highestgradecompleted               13               12                7\n",
            "maritalstatus                  Married          Married    Never-married\n",
            "...                                ...              ...              ...\n",
            "colenroct15            1. Not enrolled  1. Not enrolled  1. Not enrolled\n",
            "colenrfeb16            1. Not enrolled  1. Not enrolled  1. Not enrolled\n",
            "colenroct16            1. Not enrolled  1. Not enrolled  1. Not enrolled\n",
            "colenrfeb17            1. Not enrolled  1. Not enrolled  1. Not enrolled\n",
            "colenroct17            1. Not enrolled  1. Not enrolled  1. Not enrolled\n",
            "\n",
            "[88 rows x 3 columns]\n",
            "personid                        999543           999698           999963\n",
            "gender                          Female           Female           Female\n",
            "birthmonth                           8                5                9\n",
            "birthyear                         1984             1983             1982\n",
            "highestgradecompleted               12               12               17\n",
            "maritalstatus                 Divorced    Never-married          Married\n",
            "...                                ...              ...              ...\n",
            "colenroct15            1. Not enrolled  1. Not enrolled  1. Not enrolled\n",
            "colenrfeb16            1. Not enrolled  1. Not enrolled  1. Not enrolled\n",
            "colenroct16            1. Not enrolled  1. Not enrolled  1. Not enrolled\n",
            "colenrfeb17            1. Not enrolled  1. Not enrolled  1. Not enrolled\n",
            "colenroct17            1. Not enrolled  1. Not enrolled  1. Not enrolled\n",
            "\n",
            "[88 rows x 3 columns]\n"
          ]
        }
      ]
    },
    {
      "cell_type": "markdown",
      "metadata": {
        "id": "GaE_K1FT-3wH"
      },
      "source": [
        "**STEP 13:** ทำการเลือกหลาย rows ตามเงื่อนไขด้วย boolean indexing\n",
        "\n",
        "Select multiple rows conditionally\n",
        "\n",
        "**โจทย์** \n",
        "\n",
        "สร้าง DataFrame ของบุคคลที่นอนหลับ ใช้ข้อมูลของคอลัมน์ nightlyhrssleep \n",
        "\n",
        "โดยพิจาณาค่า Quantile ประมาณ 5% พบว่านอนหลับประมาณ 4 ชั่วโมง \n",
        "\n",
        "ของผู้ตอบแบบสำรวจทั้งหมด 6,706 คน\n",
        "\n",
        "ลองทดสอบว่าใครนอนหลับ 4 ชั่วโมงหรือน้อยกว่า\n",
        "\n",
        "ด้วย nls97 nightlyhrssleep<=4 \n",
        "\n",
        "ซึ่งสร้างชุดค่า True (<=4) และ False (!<=4) ของ  pandas ที่เรากำหนดให้กับ sleepcheckbool"
      ]
    },
    {
      "cell_type": "code",
      "metadata": {
        "colab": {
          "base_uri": "https://localhost:8080/"
        },
        "id": "21qwva-5_OrF",
        "outputId": "2424d3a0-6235-4f88-b814-384f80f2b06b"
      },
      "source": [
        "print(nls97.nightlyhrssleep.quantile(0.05))  #ทดสอบใช้สถิติ quantile 5% พบว่าได้ 4 ชั่วโมง \n",
        "print(nls97.nightlyhrssleep.count())         #นับจำนวนผู้คอบแบบสำรวจทั้งหมดในคอลัมน์นี้ พบว่าได้ 6706 คน\n",
        "sleepcheckbool = nls97.nightlyhrssleep<=4    #สร้างเงื่อนไข ว่าใครนอนหลับ 4 ชั่วโมงหรือน้อยกว่านั้น\n",
        "print(sleepcheckbool)                        #แสดงคนที่นอนหลับ 4 ชั่วโมงหรือน้อยกว่านั้น\n",
        "sleepcheckbool.to_csv(\"/content/sleepcheckbool\") #ถ้า True แสดงว่านอนหลับ <= 4 ชั่วโมง\n",
        "lowsleep = nls97.loc[sleepcheckbool] #ใช้ข้อมูล nls97 แล้ว Filter ข้อมูล sleepcheckbool(<=4)เก็บใน lowsleep\n",
        "print(lowsleep.shape)                #ข้อมูลมี 364 rows 88 columns\n",
        "lowsleep.to_csv(\"/content/lowsleep\") #แสดงข้อมูล lowsleep ที่รวมข้อมูล nls97 โดย Filer sleepcheckbool "
      ],
      "execution_count": null,
      "outputs": [
        {
          "output_type": "stream",
          "name": "stdout",
          "text": [
            "4.0\n",
            "6706\n",
            "personid\n",
            "100061    False\n",
            "100139    False\n",
            "100284    False\n",
            "100292    False\n",
            "100583    False\n",
            "          ...  \n",
            "999291    False\n",
            "999406    False\n",
            "999543    False\n",
            "999698    False\n",
            "999963    False\n",
            "Name: nightlyhrssleep, Length: 8984, dtype: bool\n",
            "(364, 88)\n"
          ]
        }
      ]
    },
    {
      "cell_type": "markdown",
      "metadata": {
        "id": "gD1q8Ty2IVfM"
      },
      "source": [
        "**STEP 14:** ทำการเลือก rows ตามหลายเงื่อนไข\n",
        "\n",
        "Select rows based on multiple conditions\n",
        "\n",
        "ใช้คำสั่ง .describe() หาค่าสถิติเบื้องต้นของทุก colums ใน DataFrame\n",
        "\n",
        "**โจทย์**\n",
        "\n",
        "ผู้ที่นอนน้อยจะมีจำนวนบุตรที่บ้านอยู่กี่คน\n",
        "\n",
        "ใช้ Python อธิบายเพื่อให้เข้าใจถึงการแจกแจงจำนวนบุตรของผู้ที่นอน <= 4 ชั่วโมง\n",
        "\n",
        "สร้าง DataFrame ใหม่กับคนที่มี nightlyhrsleep <= 4 ชั่วโมง และมีจำนวนลูกที่บ้าน >= 3 คนขึ้นไป\n"
      ]
    },
    {
      "cell_type": "code",
      "metadata": {
        "colab": {
          "base_uri": "https://localhost:8080/"
        },
        "id": "wWN-PIv6KXDk",
        "outputId": "9acfd89e-f4c1-4acd-babd-759e6d757d48"
      },
      "source": [
        "print(lowsleep.childathome.describe())  #ในที่นี้เราจะดูของคอลัมน์ childathome ที่อยู่ภายในชุดข้อมูลของ lowsleep\n",
        "lowsleep3pluschildren = nls97.loc[(nls97.nightlyhrssleep<=4) & (nls97.childathome>=3)] #สร้างเงื่อนไขขึ้น\n",
        "print(lowsleep3pluschildren.shape) #แสดงจำนวน rows และ colums\n",
        "print(lowsleep3pluschildren)       #แสดงข้อมูล\n",
        "lowsleep3pluschildren.to_csv(\"/content/lowsleep3pluschildren\") #Export เป็นไฟล์เพิ่มนามสกุล .csv เปิด excel"
      ],
      "execution_count": null,
      "outputs": [
        {
          "output_type": "stream",
          "name": "stdout",
          "text": [
            "count    293.000000\n",
            "mean       1.788396\n",
            "std        1.400685\n",
            "min        0.000000\n",
            "25%        1.000000\n",
            "50%        2.000000\n",
            "75%        3.000000\n",
            "max        9.000000\n",
            "Name: childathome, dtype: float64\n",
            "(82, 88)\n",
            "          gender  birthmonth  ...        colenrfeb17        colenroct17\n",
            "personid                      ...                                      \n",
            "119754    Female           6  ...    1. Not enrolled    1. Not enrolled\n",
            "141531    Female          11  ...    1. Not enrolled    1. Not enrolled\n",
            "152706      Male           7  ...    1. Not enrolled    1. Not enrolled\n",
            "156823    Female          12  ...    1. Not enrolled    1. Not enrolled\n",
            "158355    Female           7  ...    1. Not enrolled    1. Not enrolled\n",
            "...          ...         ...  ...                ...                ...\n",
            "905774      Male           6  ...    1. Not enrolled    1. Not enrolled\n",
            "907315    Female           1  ...    1. Not enrolled    1. Not enrolled\n",
            "955166      Male          12  ...    1. Not enrolled    1. Not enrolled\n",
            "956100    Female          10  ...  3. 4-year college  3. 4-year college\n",
            "991756      Male          11  ...    1. Not enrolled    1. Not enrolled\n",
            "\n",
            "[82 rows x 88 columns]\n"
          ]
        }
      ]
    },
    {
      "cell_type": "markdown",
      "metadata": {
        "id": "sCx2EOFmLcHk"
      },
      "source": [
        "**STEP 15:** เลือก rows และ columns ตามหลายเงื่อนไข\n",
        "\n",
        "Select rows based on multiple conditions and also select columns"
      ]
    },
    {
      "cell_type": "code",
      "metadata": {
        "colab": {
          "base_uri": "https://localhost:8080/"
        },
        "id": "XSDZuA6-Lc36",
        "outputId": "0e74236c-9573-4386-c179-5aea723caed1"
      },
      "source": [
        "updatelowsleep3pluschildren = nls97.loc[(nls97.nightlyhrssleep<=4) & (nls97.childathome>=3),\n",
        "                                  ['nightlyhrssleep','childathome']]   #เลือกเฉพาะ Columns ที่ต้องการ\n",
        "print(updatelowsleep3pluschildren)  #แสดงข้อมูล\n",
        "updatelowsleep3pluschildren.to_csv(\"/content/updatelowsleep3pluschildren\") #Export เป็นไฟล์.csv"
      ],
      "execution_count": null,
      "outputs": [
        {
          "output_type": "stream",
          "name": "stdout",
          "text": [
            "          nightlyhrssleep  childathome\n",
            "personid                              \n",
            "119754                4.0          4.0\n",
            "141531                4.0          5.0\n",
            "152706                4.0          4.0\n",
            "156823                1.0          3.0\n",
            "158355                4.0          4.0\n",
            "...                   ...          ...\n",
            "905774                4.0          3.0\n",
            "907315                4.0          3.0\n",
            "955166                3.0          3.0\n",
            "956100                4.0          6.0\n",
            "991756                4.0          3.0\n",
            "\n",
            "[82 rows x 2 columns]\n"
          ]
        }
      ]
    }
  ]
}