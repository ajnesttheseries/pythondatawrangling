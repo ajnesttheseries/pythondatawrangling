{
  "nbformat": 4,
  "nbformat_minor": 0,
  "metadata": {
    "colab": {
      "name": "Aj.NesT - Python Data Wrangling #9",
      "provenance": [],
      "collapsed_sections": []
    },
    "kernelspec": {
      "name": "python3",
      "display_name": "Python 3"
    },
    "language_info": {
      "name": "python"
    }
  },
  "cells": [
    {
      "cell_type": "markdown",
      "metadata": {
        "id": "OtrCo05tRE73"
      },
      "source": [
        "#Data Wrangling with Pandas\n",
        "\n",
        "[Aj. NesT the Series](http://bit.ly/ajnesttheseriesSubscribe)\n",
        "\n",
        "Referenence: [Pyhton Data Cleaning Cookbook 2020](https://github.com/PacktPublishing/Python-Data-Cleaning-Cookbook)\n",
        "\n",
        "##Practice 2: การจัดการค่าที่หายไป การลบข้อมูลแถวที่ซ้ำกัน และการจัดระเบียบข้อมูลตามกลุ่ม\n",
        "\n",
        "--> Managing Missing Values, Removing Duplicated Rows, and Organizing using Groupby  \n",
        "\n",
        "[Python Pandas Cheat Sheets](https://www.enthought.com/wp-content/uploads/Enthought-Python-Pandas-Cheat-Sheets-1-8-v1.0.2.pdf)"
      ]
    },
    {
      "cell_type": "markdown",
      "metadata": {
        "id": "WYvmolVuVVMN"
      },
      "source": [
        "##Workshop 9: ใช้ Aggregation Functions ร่วมกับ groupby จัดระเบียบข้อมูลตามกลุ่ม\n",
        "--> Using more complicated aggregation functions\n",
        "with groupby\n",
        "\n",
        "###Input Datasets\n",
        "\n",
        "* **[nls97b.csv](https://drive.google.com/file/d/1MlPic-AGMK5sUhVmGjhkhf0lO-lOBRvm/view?usp=sharing)** - the National Longitudinal Survey (NLS) 1997-2018."
      ]
    },
    {
      "cell_type": "markdown",
      "metadata": {
        "id": "mySii_FKZZz-"
      },
      "source": [
        "####Question 9: เราสามารถรวมกลุ่มของข้อมูลเพิ่มเติมเพิ่มคำนวณค่าที่ต้องการได้ด้วยวิธีการใด?\n",
        "\n",
        "**STEP 1:** นำเข้า Datasets โดยทำการ Upload ไฟล์ nls97b.csv ขึ้น Google Colab (ไฟล์นี้จะถูกลบเมื่อเราหลุดจาก Session หรือปิด Browser) หรือ Python IDE เช่น PyCharm, VSCode, Juputer Notebook, etc.\n",
        "\n",
        "**STEP 2:** นำเข้า pandas library มาใช้งาน\n",
        "\n",
        "**STEP 3:** ทำการอ่านไฟล์ .csv ด้วย pandas เก็บเป็น Dataframe\n",
        "\n",
        "ใช้คำสั่ง .read_csv()\n",
        "\n",
        "**STEP 4:** ตั้งค่าและแสดง index และ size ของ nls97b data\n",
        "\n",
        "ใช้คำสั่ง set_index()"
      ]
    },
    {
      "cell_type": "code",
      "metadata": {
        "id": "4YIssfaTQMPI",
        "colab": {
          "base_uri": "https://localhost:8080/"
        },
        "outputId": "ae646ca6-974c-4a55-ffa5-79b8d43a22d9"
      },
      "source": [
        "#import pandas, load the nls97 feather file\n",
        "import pandas as pd\n",
        "nls97b = pd.read_csv(\"/content/nls97b.csv\")\n",
        "print(nls97b)\n",
        "nls97b.set_index(\"personid\", inplace=True)\n",
        "print(nls97b)"
      ],
      "execution_count": 19,
      "outputs": [
        {
          "output_type": "stream",
          "name": "stdout",
          "text": [
            "      personid  gender  ...      colenrfeb17      colenroct17\n",
            "0       100061  Female  ...  1. Not enrolled  1. Not enrolled\n",
            "1       100139    Male  ...  1. Not enrolled  1. Not enrolled\n",
            "2       100284    Male  ...  1. Not enrolled  1. Not enrolled\n",
            "3       100292    Male  ...              NaN              NaN\n",
            "4       100583    Male  ...  1. Not enrolled  1. Not enrolled\n",
            "...        ...     ...  ...              ...              ...\n",
            "8979    999291  Female  ...  1. Not enrolled  1. Not enrolled\n",
            "8980    999406    Male  ...  1. Not enrolled  1. Not enrolled\n",
            "8981    999543  Female  ...  1. Not enrolled  1. Not enrolled\n",
            "8982    999698  Female  ...  1. Not enrolled  1. Not enrolled\n",
            "8983    999963  Female  ...  1. Not enrolled  1. Not enrolled\n",
            "\n",
            "[8984 rows x 89 columns]\n",
            "          gender  birthmonth  ...      colenrfeb17      colenroct17\n",
            "personid                      ...                                  \n",
            "100061    Female           5  ...  1. Not enrolled  1. Not enrolled\n",
            "100139      Male           9  ...  1. Not enrolled  1. Not enrolled\n",
            "100284      Male          11  ...  1. Not enrolled  1. Not enrolled\n",
            "100292      Male           4  ...              NaN              NaN\n",
            "100583      Male           1  ...  1. Not enrolled  1. Not enrolled\n",
            "...          ...         ...  ...              ...              ...\n",
            "999291    Female           4  ...  1. Not enrolled  1. Not enrolled\n",
            "999406      Male           7  ...  1. Not enrolled  1. Not enrolled\n",
            "999543    Female           8  ...  1. Not enrolled  1. Not enrolled\n",
            "999698    Female           5  ...  1. Not enrolled  1. Not enrolled\n",
            "999963    Female           9  ...  1. Not enrolled  1. Not enrolled\n",
            "\n",
            "[8984 rows x 88 columns]\n"
          ]
        }
      ]
    },
    {
      "cell_type": "markdown",
      "metadata": {
        "id": "-k8IB6y2D9fM"
      },
      "source": [
        "**STEP 5:** แสดงจำนวน data types และ non-null value\n",
        "\n",
        "ใช้คำสั่ง info()\n",
        "\n",
        "ใช้คำสั่ง .iloc[ index_row, index_column ]"
      ]
    },
    {
      "cell_type": "code",
      "metadata": {
        "colab": {
          "base_uri": "https://localhost:8080/"
        },
        "id": "nMKrkyG08GE0",
        "outputId": "514322b1-a4ec-4738-9134-7ff2f23cb6d9"
      },
      "source": [
        "#review the structure of the nls97 data\n",
        "print(nls97b.info())   #all columns\n",
        "print()\n",
        "print(nls97b.iloc[:,0:7].info())   #.iloc[index_row, index_column]"
      ],
      "execution_count": 20,
      "outputs": [
        {
          "output_type": "stream",
          "name": "stdout",
          "text": [
            "<class 'pandas.core.frame.DataFrame'>\n",
            "Int64Index: 8984 entries, 100061 to 999963\n",
            "Data columns (total 88 columns):\n",
            " #   Column                 Non-Null Count  Dtype  \n",
            "---  ------                 --------------  -----  \n",
            " 0   gender                 8984 non-null   object \n",
            " 1   birthmonth             8984 non-null   int64  \n",
            " 2   birthyear              8984 non-null   int64  \n",
            " 3   highestgradecompleted  6663 non-null   float64\n",
            " 4   maritalstatus          6672 non-null   object \n",
            " 5   childathome            4791 non-null   float64\n",
            " 6   childnotathome         4791 non-null   float64\n",
            " 7   wageincome             5091 non-null   float64\n",
            " 8   weeklyhrscomputer      6710 non-null   object \n",
            " 9   weeklyhrstv            6711 non-null   object \n",
            " 10  nightlyhrssleep        6706 non-null   float64\n",
            " 11  satverbal              1406 non-null   float64\n",
            " 12  satmath                1407 non-null   float64\n",
            " 13  gpaoverall             6004 non-null   float64\n",
            " 14  gpaenglish             5798 non-null   float64\n",
            " 15  gpamath                5766 non-null   float64\n",
            " 16  gpascience             5684 non-null   float64\n",
            " 17  highestdegree          8953 non-null   object \n",
            " 18  govprovidejobs         1833 non-null   object \n",
            " 19  govpricecontrols       1859 non-null   object \n",
            " 20  govhealthcare          1874 non-null   object \n",
            " 21  govelderliving         1872 non-null   object \n",
            " 22  govindhelp             1815 non-null   object \n",
            " 23  govunemp               1811 non-null   object \n",
            " 24  govincomediff          1775 non-null   object \n",
            " 25  govcollegefinance      1875 non-null   object \n",
            " 26  govdecenthousing       1847 non-null   object \n",
            " 27  govprotectenvironment  1860 non-null   object \n",
            " 28  weeksworked00          8603 non-null   float64\n",
            " 29  weeksworked01          8564 non-null   float64\n",
            " 30  weeksworked02          8556 non-null   float64\n",
            " 31  weeksworked03          8490 non-null   float64\n",
            " 32  weeksworked04          8458 non-null   float64\n",
            " 33  weeksworked05          8403 non-null   float64\n",
            " 34  weeksworked06          8340 non-null   float64\n",
            " 35  weeksworked07          8272 non-null   float64\n",
            " 36  weeksworked08          8186 non-null   float64\n",
            " 37  weeksworked09          8146 non-null   float64\n",
            " 38  weeksworked10          8054 non-null   float64\n",
            " 39  weeksworked11          7968 non-null   float64\n",
            " 40  weeksworked12          7747 non-null   float64\n",
            " 41  weeksworked13          7680 non-null   float64\n",
            " 42  weeksworked14          7612 non-null   float64\n",
            " 43  weeksworked15          7389 non-null   float64\n",
            " 44  weeksworked16          7068 non-null   float64\n",
            " 45  weeksworked17          6670 non-null   float64\n",
            " 46  colenrfeb97            1250 non-null   object \n",
            " 47  colenroct97            8501 non-null   object \n",
            " 48  colenrfeb98            8501 non-null   object \n",
            " 49  colenroct98            8888 non-null   object \n",
            " 50  colenrfeb99            8865 non-null   object \n",
            " 51  colenroct99            8851 non-null   object \n",
            " 52  colenrfeb00            8820 non-null   object \n",
            " 53  colenroct00            8805 non-null   object \n",
            " 54  colenrfeb01            8786 non-null   object \n",
            " 55  colenroct01            8758 non-null   object \n",
            " 56  colenrfeb02            8732 non-null   object \n",
            " 57  colenroct02            8698 non-null   object \n",
            " 58  colenrfeb03            8658 non-null   object \n",
            " 59  colenroct03            8622 non-null   object \n",
            " 60  colenrfeb04            8578 non-null   object \n",
            " 61  colenroct04            8546 non-null   object \n",
            " 62  colenrfeb05            8508 non-null   object \n",
            " 63  colenroct05            8471 non-null   object \n",
            " 64  colenrfeb06            8426 non-null   object \n",
            " 65  colenroct06            8407 non-null   object \n",
            " 66  colenrfeb07            8352 non-null   object \n",
            " 67  colenroct07            8331 non-null   object \n",
            " 68  colenrfeb08            8289 non-null   object \n",
            " 69  colenroct08            8280 non-null   object \n",
            " 70  colenrfeb09            8236 non-null   object \n",
            " 71  colenroct09            8193 non-null   object \n",
            " 72  colenrfeb10            8116 non-null   object \n",
            " 73  colenroct10            8091 non-null   object \n",
            " 74  colenrfeb11            8037 non-null   object \n",
            " 75  colenroct11            7972 non-null   object \n",
            " 76  colenrfeb12            7794 non-null   object \n",
            " 77  colenroct12            7754 non-null   object \n",
            " 78  colenrfeb13            7754 non-null   object \n",
            " 79  colenroct13            7754 non-null   object \n",
            " 80  colenrfeb14            7624 non-null   object \n",
            " 81  colenroct14            7469 non-null   object \n",
            " 82  colenrfeb15            7469 non-null   object \n",
            " 83  colenroct15            7469 non-null   object \n",
            " 84  colenrfeb16            7036 non-null   object \n",
            " 85  colenroct16            6733 non-null   object \n",
            " 86  colenrfeb17            6733 non-null   object \n",
            " 87  colenroct17            6734 non-null   object \n",
            "dtypes: float64(29), int64(2), object(57)\n",
            "memory usage: 6.1+ MB\n",
            "None\n",
            "\n",
            "<class 'pandas.core.frame.DataFrame'>\n",
            "Int64Index: 8984 entries, 100061 to 999963\n",
            "Data columns (total 7 columns):\n",
            " #   Column                 Non-Null Count  Dtype  \n",
            "---  ------                 --------------  -----  \n",
            " 0   gender                 8984 non-null   object \n",
            " 1   birthmonth             8984 non-null   int64  \n",
            " 2   birthyear              8984 non-null   int64  \n",
            " 3   highestgradecompleted  6663 non-null   float64\n",
            " 4   maritalstatus          6672 non-null   object \n",
            " 5   childathome            4791 non-null   float64\n",
            " 6   childnotathome         4791 non-null   float64\n",
            "dtypes: float64(3), int64(2), object(2)\n",
            "memory usage: 561.5+ KB\n",
            "None\n"
          ]
        }
      ]
    },
    {
      "cell_type": "markdown",
      "metadata": {
        "id": "TfB6BKmo01PU"
      },
      "source": [
        "**STEP 6:** แสดงค่าข้อมูลของ columns เพิ่มเติม\n",
        "\n",
        "ใช้คำสั่ง for เขียนโปรแกรมวนซ้ำ"
      ]
    },
    {
      "cell_type": "code",
      "metadata": {
        "colab": {
          "base_uri": "https://localhost:8080/"
        },
        "id": "Fva0bgu11aSs",
        "outputId": "30c7c474-049a-448e-b54c-68dd9154adcf"
      },
      "source": [
        "#look again at some of the data\n",
        "catvars = ['gender','maritalstatus','highestdegree']\n",
        "for col in catvars:\n",
        "  print(col, nls97b[col].value_counts().sort_index(), sep=\"\\n\\n\", end=\"\\n\\n\\n\") #sep ทำหลัง , end ทำจบ"
      ],
      "execution_count": 21,
      "outputs": [
        {
          "output_type": "stream",
          "name": "stdout",
          "text": [
            "gender\n",
            "\n",
            "Female    4385\n",
            "Male      4599\n",
            "Name: gender, dtype: int64\n",
            "\n",
            "\n",
            "maritalstatus\n",
            "\n",
            "Divorced          663\n",
            "Married          3066\n",
            "Never-married    2766\n",
            "Separated         154\n",
            "Widowed            23\n",
            "Name: maritalstatus, dtype: int64\n",
            "\n",
            "\n",
            "highestdegree\n",
            "\n",
            "0. None             953\n",
            "1. GED             1146\n",
            "2. High School     3667\n",
            "3. Associates       737\n",
            "4. Bachelors       1673\n",
            "5. Masters          603\n",
            "6. PhD               54\n",
            "7. Professional     120\n",
            "Name: highestdegree, dtype: int64\n",
            "\n",
            "\n"
          ]
        }
      ]
    },
    {
      "cell_type": "markdown",
      "metadata": {
        "id": "OuaPeJUh1nHU"
      },
      "source": [
        "**STEP 7:** แสดงค่าทางสถิติเชิงพรรณนา Descriptive Statistics\n",
        "\n",
        "ใช้คำสั่ง .describe()  แสดงค่าสถิติต่าง ๆ ได้แก่ count mean std min 25% 50% 75% และ max"
      ]
    },
    {
      "cell_type": "code",
      "metadata": {
        "colab": {
          "base_uri": "https://localhost:8080/"
        },
        "id": "K3HZR78q1OXw",
        "outputId": "dd803dde-d1f8-4ab1-876e-aa160d4fa1d4"
      },
      "source": [
        "# review some descriptive statistics\n",
        "contvars = ['satmath','satverbal','weeksworked06','gpaoverall',\n",
        "  'childathome']\n",
        "\n",
        "print(nls97b[contvars].describe())"
      ],
      "execution_count": 22,
      "outputs": [
        {
          "output_type": "stream",
          "name": "stdout",
          "text": [
            "           satmath    satverbal  weeksworked06   gpaoverall  childathome\n",
            "count  1407.000000  1406.000000    8340.000000  6004.000000  4791.000000\n",
            "mean    500.590618   499.724040      38.429976     2.818408     1.859320\n",
            "std     114.953309   112.166256      18.921281     0.616357     1.259053\n",
            "min       7.000000    14.000000       0.000000     0.100000     0.000000\n",
            "25%     430.000000   430.000000      27.000000     2.430000     1.000000\n",
            "50%     500.000000   500.000000      51.000000     2.860000     2.000000\n",
            "75%     580.000000   570.000000      52.000000     3.260000     3.000000\n",
            "max     800.000000   800.000000      52.000000     4.170000     9.000000\n"
          ]
        }
      ]
    },
    {
      "cell_type": "markdown",
      "metadata": {
        "id": "q90QguZeC9LZ"
      },
      "source": [
        "**STEP 8:** หาค่า Mean ของคะแนน Math แบ่งตามกลุ่ม gender\n",
        "\n",
        "ใช้คำสั่ง .groupby( 'column ที่ต้องการจัดกลุ่ม' )[ 'column  ที่ต้องการคำนวณ' ].\n",
        "\n",
        "ใช้คำสั่ง .mean หาค่าเฉลี่ย"
      ]
    },
    {
      "cell_type": "code",
      "metadata": {
        "colab": {
          "base_uri": "https://localhost:8080/"
        },
        "id": "RsCB0TN_Oy_M",
        "outputId": "b453d270-fbe9-4207-b2cb-4973ab8539e2"
      },
      "source": [
        "#look at sat math scores by gender\n",
        "print(nls97b.groupby('gender')['satmath'].mean())  #ลองเปลี่ยนเป็น sum, std, min, max"
      ],
      "execution_count": 24,
      "outputs": [
        {
          "output_type": "stream",
          "name": "stdout",
          "text": [
            "gender\n",
            "Female    486.647757\n",
            "Male      516.875193\n",
            "Name: satmath, dtype: float64\n"
          ]
        }
      ]
    },
    {
      "cell_type": "markdown",
      "metadata": {
        "id": "DWEfFFw9Zl78"
      },
      "source": [
        "**STEP 9:** ใส่ข้อมูลกลุ่ม column เพิ่มเติม เพื่อแบ่งเป็น group ย่อย"
      ]
    },
    {
      "cell_type": "code",
      "metadata": {
        "colab": {
          "base_uri": "https://localhost:8080/"
        },
        "id": "7A0633L6aQBS",
        "outputId": "dcd92afd-d526-4e7c-98f8-f19abb97df3d"
      },
      "source": [
        "#look at sat math scores by gender and highest degree earned\n",
        "print(nls97b.groupby(['gender','highestdegree'])['satmath'].mean())"
      ],
      "execution_count": 26,
      "outputs": [
        {
          "output_type": "stream",
          "name": "stdout",
          "text": [
            "gender  highestdegree  \n",
            "Female  0. None            332.600000\n",
            "        1. GED             405.000000\n",
            "        2. High School     430.769231\n",
            "        3. Associates      458.032787\n",
            "        4. Bachelors       501.945513\n",
            "        5. Masters         508.271523\n",
            "        6. PhD             575.454545\n",
            "        7. Professional    599.411765\n",
            "Male    0. None            540.000000\n",
            "        1. GED             320.000000\n",
            "        2. High School     467.740586\n",
            "        3. Associates      481.111111\n",
            "        4. Bachelors       542.163793\n",
            "        5. Masters         574.444444\n",
            "        6. PhD             621.428571\n",
            "        7. Professional    587.727273\n",
            "Name: satmath, dtype: float64\n"
          ]
        }
      ]
    },
    {
      "cell_type": "markdown",
      "metadata": {
        "id": "ehQZsvjHuV5I"
      },
      "source": [
        "**STEP 10:** ใส่ข้อมูลค่า columns ที่ต้องการค่า math เพิ่มเติม\n"
      ]
    },
    {
      "cell_type": "code",
      "metadata": {
        "colab": {
          "base_uri": "https://localhost:8080/"
        },
        "id": "aRWZXIRfuady",
        "outputId": "2a069a81-8053-4ee3-d393-bc694374faa8"
      },
      "source": [
        "#look at sat math and verbal scores by gender and highest degree earned\n",
        "print(nls97b.groupby(['gender','highestdegree'])[['satmath','satverbal']].mean())"
      ],
      "execution_count": 27,
      "outputs": [
        {
          "output_type": "stream",
          "name": "stdout",
          "text": [
            "                           satmath   satverbal\n",
            "gender highestdegree                          \n",
            "Female 0. None          332.600000  408.800000\n",
            "       1. GED           405.000000  390.000000\n",
            "       2. High School   430.769231  444.314917\n",
            "       3. Associates    458.032787  466.229508\n",
            "       4. Bachelors     501.945513  506.294872\n",
            "       5. Masters       508.271523  533.927152\n",
            "       6. PhD           575.454545  558.181818\n",
            "       7. Professional  599.411765  587.058824\n",
            "Male   0. None          540.000000  483.333333\n",
            "       1. GED           320.000000  360.000000\n",
            "       2. High School   467.740586  457.196653\n",
            "       3. Associates    481.111111  462.444444\n",
            "       4. Bachelors     542.163793  527.844828\n",
            "       5. Masters       574.444444  545.222222\n",
            "       6. PhD           621.428571  622.857143\n",
            "       7. Professional  587.727273  591.818182\n"
          ]
        }
      ]
    },
    {
      "cell_type": "markdown",
      "metadata": {
        "id": "uPNrCyKkO_D_"
      },
      "source": [
        "**STEP 11:** เพิ่มให้มีการคำนวณค่าทางคณิตศาสตร์ต่าง ๆ \n",
        "\n",
        "ใช้คำสั่ง .agg( [ 'count', 'mean', 'sum', 'max', 'min', 'std' ] ) แสดงผลการคำนวณต่าง ๆ\n"
      ]
    },
    {
      "cell_type": "code",
      "metadata": {
        "colab": {
          "base_uri": "https://localhost:8080/"
        },
        "id": "xfDC_KGSPCEH",
        "outputId": "96d1fc94-49b4-4ea1-8959-2d8a44930fbf"
      },
      "source": [
        "#add max and standard deviations\n",
        "print(nls97b.groupby(['gender','highestdegree'])['gpaoverall'].agg(['count','mean','max','std']))"
      ],
      "execution_count": 28,
      "outputs": [
        {
          "output_type": "stream",
          "name": "stdout",
          "text": [
            "                        count      mean   max       std\n",
            "gender highestdegree                                   \n",
            "Female 0. None            148  2.456419  4.00  0.669446\n",
            "       1. GED             227  2.310132  3.91  0.658090\n",
            "       2. High School    1212  2.774860  4.17  0.530336\n",
            "       3. Associates      290  2.943483  4.00  0.495803\n",
            "       4. Bachelors       734  3.238529  4.07  0.466571\n",
            "       5. Masters         312  3.296186  4.08  0.432133\n",
            "       6. PhD              22  3.460000  4.00  0.451885\n",
            "       7. Professional     53  3.537736  4.11  0.413548\n",
            "Male   0. None            193  2.218342  4.00  0.643481\n",
            "       1. GED             345  2.242145  4.00  0.631721\n",
            "       2. High School    1436  2.632806  4.00  0.497803\n",
            "       3. Associates      236  2.727542  3.83  0.488499\n",
            "       4. Bachelors       560  3.110446  4.10  0.486659\n",
            "       5. Masters         170  3.304529  4.04  0.447173\n",
            "       6. PhD              20  3.389000  3.99  0.551895\n",
            "       7. Professional     38  3.442105  4.00  0.339301\n"
          ]
        }
      ]
    },
    {
      "cell_type": "markdown",
      "metadata": {
        "id": "aYu0JTlYPIHo"
      },
      "source": [
        "**STEP 12:** รวมค่าของ colunms ที่ต้องการคำนวณ\n",
        "\n",
        "ใช้คำสั่ง .groupby(['column_name']).agg()"
      ]
    },
    {
      "cell_type": "code",
      "metadata": {
        "colab": {
          "base_uri": "https://localhost:8080/"
        },
        "id": "zfjm3yRvPL9h",
        "outputId": "1e84cbea-ac7e-40a0-ce6e-f53fa7e83a6a"
      },
      "source": [
        "#use a dictionary for more complicated aggregations\n",
        "aggdict = {'weeksworked06':['count', 'mean', 'max','std'], 'childathome':['count', 'mean', 'max', 'std']}\n",
        "print(nls97b.groupby(['highestdegree']).agg(aggdict))\n",
        "print(nls97b.groupby(['maritalstatus']).agg(aggdict))"
      ],
      "execution_count": 29,
      "outputs": [
        {
          "output_type": "stream",
          "name": "stdout",
          "text": [
            "                weeksworked06                   ... childathome               \n",
            "                        count       mean   max  ...        mean  max       std\n",
            "highestdegree                                   ...                           \n",
            "0. None                   703  29.664296  52.0  ...    1.840547  8.0  1.643333\n",
            "1. GED                   1104  33.193841  52.0  ...    1.701299  9.0  1.457078\n",
            "2. High School           3368  39.362233  52.0  ...    1.863845  7.0  1.263427\n",
            "3. Associates             722  40.704986  52.0  ...    1.967290  6.0  1.126165\n",
            "4. Bachelors             1642  42.231425  52.0  ...    1.896010  8.0  1.029267\n",
            "5. Masters                601  42.198003  52.0  ...    1.918919  5.0  0.862210\n",
            "6. PhD                     53  38.169811  52.0  ...    2.062500  6.0  1.105339\n",
            "7. Professional           117  27.102564  52.0  ...    1.807018  4.0  0.833208\n",
            "\n",
            "[8 rows x 8 columns]\n",
            "              weeksworked06                   ... childathome               \n",
            "                      count       mean   max  ...        mean  max       std\n",
            "maritalstatus                                 ...                           \n",
            "Divorced                660  37.546970  52.0  ...    1.496183  5.0  1.214155\n",
            "Married                3033  40.321464  52.0  ...    2.132267  8.0  1.135297\n",
            "Never-married          2734  37.219093  52.0  ...    1.561252  9.0  1.340663\n",
            "Separated               153  33.816993  52.0  ...    1.540146  8.0  1.409081\n",
            "Widowed                  23  37.130435  52.0  ...    1.777778  5.0  1.437136\n",
            "\n",
            "[5 rows x 8 columns]\n"
          ]
        }
      ]
    }
  ]
}