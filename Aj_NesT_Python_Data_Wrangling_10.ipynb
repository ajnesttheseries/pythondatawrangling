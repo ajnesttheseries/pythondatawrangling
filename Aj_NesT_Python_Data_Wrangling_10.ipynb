{
  "nbformat": 4,
  "nbformat_minor": 0,
  "metadata": {
    "colab": {
      "name": "Aj.NesT - Python Data Wrangling #10",
      "provenance": [],
      "collapsed_sections": []
    },
    "kernelspec": {
      "name": "python3",
      "display_name": "Python 3"
    },
    "language_info": {
      "name": "python"
    }
  },
  "cells": [
    {
      "cell_type": "markdown",
      "metadata": {
        "id": "OtrCo05tRE73"
      },
      "source": [
        "#Data Wrangling with Pandas\n",
        "\n",
        "[Aj. NesT the Series](http://bit.ly/ajnesttheseriesSubscribe)\n",
        "\n",
        "Referenence: [Pyhton Data Cleaning Cookbook 2020](https://github.com/PacktPublishing/Python-Data-Cleaning-Cookbook)\n",
        "\n",
        "##Practice 2: การจัดการค่าที่หายไป การลบข้อมูลแถวที่ซ้ำกัน และการจัดระเบียบข้อมูลตามกลุ่ม\n",
        "\n",
        "--> Managing Missing Values, Removing Duplicated Rows, and Organizing using Groupby  \n",
        "\n",
        "[Python Pandas Cheat Sheets](https://www.enthought.com/wp-content/uploads/Enthought-Python-Pandas-Cheat-Sheets-1-8-v1.0.2.pdf)"
      ]
    },
    {
      "cell_type": "markdown",
      "metadata": {
        "id": "WYvmolVuVVMN"
      },
      "source": [
        "##Workshop 10: ใช้ฟังก์ชันที่ผู้ใช้กำหนดเองและนำไปใช้กับ groupby เพื่อจัดระเบียบข้อมูลตามกลุ่ม\n",
        "--> Using user-defined functions and apply with\n",
        "groupby\n",
        "\n",
        "###Input Datasets\n",
        "\n",
        "* **[nls97b.csv](https://drive.google.com/file/d/1MlPic-AGMK5sUhVmGjhkhf0lO-lOBRvm/view?usp=sharing)** - the National Longitudinal Survey (NLS) 1997-2018."
      ]
    },
    {
      "cell_type": "markdown",
      "metadata": {
        "id": "mySii_FKZZz-"
      },
      "source": [
        "####Question 10: เราสามารถสร้างฟังก์ชันขึ้นมาใช้งานเองได้อย่างไร?\n",
        "\n",
        "**STEP 1:** นำเข้า Datasets โดยทำการ Upload ไฟล์ nls97b.csv ขึ้น Google Colab (ไฟล์นี้จะถูกลบเมื่อเราหลุดจาก Session หรือปิด Browser) หรือ Python IDE เช่น PyCharm, VSCode, Juputer Notebook, etc.\n",
        "\n",
        "**STEP 2:** นำเข้า pandas และ numpy libraries มาใช้งาน\n",
        "\n",
        "**STEP 3:** ทำการอ่านไฟล์ .csv ด้วย pandas เก็บเป็น Dataframe\n",
        "\n",
        "ใช้คำสั่ง .read_csv()\n",
        "\n",
        "**STEP 4:** ตั้งค่าและแสดง index และ size ของ nls97b data\n",
        "\n",
        "ใช้คำสั่ง set_index()"
      ]
    },
    {
      "cell_type": "code",
      "metadata": {
        "id": "4YIssfaTQMPI",
        "colab": {
          "base_uri": "https://localhost:8080/"
        },
        "outputId": "aaa34677-86b0-4b88-c7ad-a62ef5728dae"
      },
      "source": [
        "# import pandas and numpy, and load the nls data\n",
        "import pandas as pd\n",
        "import numpy as np\n",
        "nls97b = pd.read_csv(\"/content/nls97b.csv\")\n",
        "print(nls97b)\n",
        "nls97b.set_index(\"personid\", inplace=True)\n",
        "print(nls97b)"
      ],
      "execution_count": 6,
      "outputs": [
        {
          "output_type": "stream",
          "name": "stdout",
          "text": [
            "      personid  gender  ...      colenrfeb17      colenroct17\n",
            "0       100061  Female  ...  1. Not enrolled  1. Not enrolled\n",
            "1       100139    Male  ...  1. Not enrolled  1. Not enrolled\n",
            "2       100284    Male  ...  1. Not enrolled  1. Not enrolled\n",
            "3       100292    Male  ...              NaN              NaN\n",
            "4       100583    Male  ...  1. Not enrolled  1. Not enrolled\n",
            "...        ...     ...  ...              ...              ...\n",
            "8979    999291  Female  ...  1. Not enrolled  1. Not enrolled\n",
            "8980    999406    Male  ...  1. Not enrolled  1. Not enrolled\n",
            "8981    999543  Female  ...  1. Not enrolled  1. Not enrolled\n",
            "8982    999698  Female  ...  1. Not enrolled  1. Not enrolled\n",
            "8983    999963  Female  ...  1. Not enrolled  1. Not enrolled\n",
            "\n",
            "[8984 rows x 89 columns]\n",
            "          gender  birthmonth  ...      colenrfeb17      colenroct17\n",
            "personid                      ...                                  \n",
            "100061    Female           5  ...  1. Not enrolled  1. Not enrolled\n",
            "100139      Male           9  ...  1. Not enrolled  1. Not enrolled\n",
            "100284      Male          11  ...  1. Not enrolled  1. Not enrolled\n",
            "100292      Male           4  ...              NaN              NaN\n",
            "100583      Male           1  ...  1. Not enrolled  1. Not enrolled\n",
            "...          ...         ...  ...              ...              ...\n",
            "999291    Female           4  ...  1. Not enrolled  1. Not enrolled\n",
            "999406      Male           7  ...  1. Not enrolled  1. Not enrolled\n",
            "999543    Female           8  ...  1. Not enrolled  1. Not enrolled\n",
            "999698    Female           5  ...  1. Not enrolled  1. Not enrolled\n",
            "999963    Female           9  ...  1. Not enrolled  1. Not enrolled\n",
            "\n",
            "[8984 rows x 88 columns]\n"
          ]
        }
      ]
    },
    {
      "cell_type": "markdown",
      "metadata": {
        "id": "-k8IB6y2D9fM"
      },
      "source": [
        "**STEP 5:** สร้างฟังก์ชันสำหรับคำนวณพิสัยระหว่างควอไทล์  quantile 75% - 25%\n",
        "\n",
        "create a function for calculating interquartile range\n",
        "\n",
        "ใช้คำสั่ง def ชื่อฟังก์ชัน(paremeter): คำสั่งที่ต้องการให้ทำ"
      ]
    },
    {
      "cell_type": "code",
      "metadata": {
        "id": "nMKrkyG08GE0"
      },
      "source": [
        "#create a function for calculating interquartile range\n",
        "def iqr(x):\n",
        "  return x.quantile(0.75) - x.quantile(0.25)"
      ],
      "execution_count": 8,
      "outputs": []
    },
    {
      "cell_type": "markdown",
      "metadata": {
        "id": "TfB6BKmo01PU"
      },
      "source": [
        "**STEP 6:** เรียกใช้ฟังก์ชัน iqr ที่สร้างขึ้น\n",
        "\n",
        "call iqr function"
      ]
    },
    {
      "cell_type": "code",
      "metadata": {
        "colab": {
          "base_uri": "https://localhost:8080/"
        },
        "id": "Fva0bgu11aSs",
        "outputId": "c7657efb-c996-4dd2-a770-175f805730b6"
      },
      "source": [
        "#run the interquartile range function\n",
        "aggdict = {'weeksworked06':['count', 'mean', iqr], 'childathome':['count', 'mean', iqr]}\n",
        "print(nls97b.groupby(['highestdegree']).agg(aggdict))  #.agg() สำหรับเล่นกับค่าคำนวณ"
      ],
      "execution_count": 9,
      "outputs": [
        {
          "output_type": "stream",
          "name": "stdout",
          "text": [
            "                weeksworked06                  childathome               \n",
            "                        count       mean   iqr       count      mean  iqr\n",
            "highestdegree                                                            \n",
            "0. None                   703  29.664296  47.0         439  1.840547  3.0\n",
            "1. GED                   1104  33.193841  39.0         693  1.701299  3.0\n",
            "2. High School           3368  39.362233  21.0        1961  1.863845  2.0\n",
            "3. Associates             722  40.704986  18.0         428  1.967290  2.0\n",
            "4. Bachelors             1642  42.231425  14.0         827  1.896010  1.0\n",
            "5. Masters                601  42.198003  13.0         333  1.918919  1.0\n",
            "6. PhD                     53  38.169811  23.0          32  2.062500  2.0\n",
            "7. Professional           117  27.102564  45.0          57  1.807018  1.0\n"
          ]
        }
      ]
    },
    {
      "cell_type": "markdown",
      "metadata": {
        "id": "OuaPeJUh1nHU"
      },
      "source": [
        "**STEP 7:** สร้างฟังก์ชันคำนวณ Summary Statistics แปลงไปเป็น Series\n",
        "\n",
        "Define a function to return selected summary statistics as a series\n",
        "\n",
        "ใช้คำสั่ง def ชื่อฟังก์ชัน(parameter): คำสั่งที่ต้องการทำ"
      ]
    },
    {
      "cell_type": "code",
      "metadata": {
        "id": "K3HZR78q1OXw"
      },
      "source": [
        "#define a function to return the summary statistics as a series\n",
        "def gettots(x):\n",
        "  out = {}\n",
        "  out['qr1'] = x.quantile(0.25)\n",
        "  out['med'] = x.median()\n",
        "  out['qr3'] = x.quantile(0.75)\n",
        "  out['count'] = x.count()\n",
        "  return pd.Series(out)"
      ],
      "execution_count": 10,
      "outputs": []
    },
    {
      "cell_type": "markdown",
      "metadata": {
        "id": "q90QguZeC9LZ"
      },
      "source": [
        "**STEP 8:** เรียกใช้งานฟังก์ชัน gettots()\n",
        "\n",
        "Use apply to run the function \n",
        "\n",
        "This will create a series with a multi-index based on highestdegree values and\n",
        "the desired summary statistics:\n"
      ]
    },
    {
      "cell_type": "code",
      "metadata": {
        "colab": {
          "base_uri": "https://localhost:8080/"
        },
        "id": "RsCB0TN_Oy_M",
        "outputId": "1e3ba9d4-1b32-47f5-9c80-483aebaebcc5"
      },
      "source": [
        "#use apply to run the function\n",
        "print(nls97b.groupby(['highestdegree'])['weeksworked06'].apply(gettots))  \n",
        "#groupby([group_column])['value_column']\n",
        "#ได้ type เป็น Series\n",
        "print(type(nls97b.groupby(['highestdegree'])['weeksworked06'].apply(gettots)))"
      ],
      "execution_count": 32,
      "outputs": [
        {
          "output_type": "stream",
          "name": "stdout",
          "text": [
            "highestdegree         \n",
            "0. None          qr1         5.0\n",
            "                 med        34.0\n",
            "                 qr3        52.0\n",
            "                 count     703.0\n",
            "1. GED           qr1        13.0\n",
            "                 med        42.0\n",
            "                 qr3        52.0\n",
            "                 count    1104.0\n",
            "2. High School   qr1        31.0\n",
            "                 med        52.0\n",
            "                 qr3        52.0\n",
            "                 count    3368.0\n",
            "3. Associates    qr1        34.0\n",
            "                 med        52.0\n",
            "                 qr3        52.0\n",
            "                 count     722.0\n",
            "4. Bachelors     qr1        38.0\n",
            "                 med        52.0\n",
            "                 qr3        52.0\n",
            "                 count    1642.0\n",
            "5. Masters       qr1        39.0\n",
            "                 med        52.0\n",
            "                 qr3        52.0\n",
            "                 count     601.0\n",
            "6. PhD           qr1        29.0\n",
            "                 med        50.0\n",
            "                 qr3        52.0\n",
            "                 count      53.0\n",
            "7. Professional  qr1         4.0\n",
            "                 med        29.0\n",
            "                 qr3        49.0\n",
            "                 count     117.0\n",
            "Name: weeksworked06, dtype: float64\n",
            "<class 'pandas.core.series.Series'>\n"
          ]
        }
      ]
    },
    {
      "cell_type": "markdown",
      "metadata": {
        "id": "DWEfFFw9Zl78"
      },
      "source": [
        "**STEP 9:** ทำการ reset_index เพื่อใช้ index ค่าเริ่มต้นแทนที่ groupby DataFrame ที่เพิ่งสร้างขึ้นมา\n",
        "\n",
        "ใช้คำสั่ง reset_index()"
      ]
    },
    {
      "cell_type": "code",
      "metadata": {
        "colab": {
          "base_uri": "https://localhost:8080/"
        },
        "id": "7A0633L6aQBS",
        "outputId": "e11b6faf-5bf1-4900-c378-56c8eedcfbbe"
      },
      "source": [
        "#chain reset_index to set the default index\n",
        "print(nls97b.groupby(['highestdegree'])['weeksworked06'].apply(gettots).reset_index()) #ย้อน index กลับไป\n",
        "print(type(nls97b.groupby(['highestdegree'])['weeksworked06'].apply(gettots)))"
      ],
      "execution_count": 26,
      "outputs": [
        {
          "output_type": "stream",
          "name": "stdout",
          "text": [
            "      highestdegree level_1  weeksworked06\n",
            "0           0. None     qr1            5.0\n",
            "1           0. None     med           34.0\n",
            "2           0. None     qr3           52.0\n",
            "3           0. None   count          703.0\n",
            "4            1. GED     qr1           13.0\n",
            "5            1. GED     med           42.0\n",
            "6            1. GED     qr3           52.0\n",
            "7            1. GED   count         1104.0\n",
            "8    2. High School     qr1           31.0\n",
            "9    2. High School     med           52.0\n",
            "10   2. High School     qr3           52.0\n",
            "11   2. High School   count         3368.0\n",
            "12    3. Associates     qr1           34.0\n",
            "13    3. Associates     med           52.0\n",
            "14    3. Associates     qr3           52.0\n",
            "15    3. Associates   count          722.0\n",
            "16     4. Bachelors     qr1           38.0\n",
            "17     4. Bachelors     med           52.0\n",
            "18     4. Bachelors     qr3           52.0\n",
            "19     4. Bachelors   count         1642.0\n",
            "20       5. Masters     qr1           39.0\n",
            "21       5. Masters     med           52.0\n",
            "22       5. Masters     qr3           52.0\n",
            "23       5. Masters   count          601.0\n",
            "24           6. PhD     qr1           29.0\n",
            "25           6. PhD     med           50.0\n",
            "26           6. PhD     qr3           52.0\n",
            "27           6. PhD   count           53.0\n",
            "28  7. Professional     qr1            4.0\n",
            "29  7. Professional     med           29.0\n",
            "30  7. Professional     qr3           49.0\n",
            "31  7. Professional   count          117.0\n",
            "<class 'pandas.core.series.Series'>\n"
          ]
        }
      ]
    },
    {
      "cell_type": "markdown",
      "metadata": {
        "id": "ehQZsvjHuV5I"
      },
      "source": [
        "**STEP 10:** สร้าง column ย่อยใหม่\n",
        "\n",
        "ใช้คำสั่ง .unstack() สำหรับแตกออกมาเป็น column ย่อยใหม่ แปลงแนวตั้งเป็นแนวนอนของ qr1, med, qr3, count \n",
        "\n",
        "ทำให้ index ถูกสร้าง\n"
      ]
    },
    {
      "cell_type": "code",
      "metadata": {
        "colab": {
          "base_uri": "https://localhost:8080/"
        },
        "id": "aRWZXIRfuady",
        "outputId": "17ea4071-7453-4b8b-81ce-b8ebcfaa39dd"
      },
      "source": [
        "#allow the index to be created\n",
        "nlssums = nls97b.groupby(['highestdegree'])['weeksworked06'].apply(gettots).unstack()\n",
        "print(nlssums)\n",
        "print()\n",
        "print(nlssums.info())"
      ],
      "execution_count": 47,
      "outputs": [
        {
          "output_type": "stream",
          "name": "stdout",
          "text": [
            "                  qr1   med   qr3   count\n",
            "highestdegree                            \n",
            "0. None           5.0  34.0  52.0   703.0\n",
            "1. GED           13.0  42.0  52.0  1104.0\n",
            "2. High School   31.0  52.0  52.0  3368.0\n",
            "3. Associates    34.0  52.0  52.0   722.0\n",
            "4. Bachelors     38.0  52.0  52.0  1642.0\n",
            "5. Masters       39.0  52.0  52.0   601.0\n",
            "6. PhD           29.0  50.0  52.0    53.0\n",
            "7. Professional   4.0  29.0  49.0   117.0\n",
            "\n",
            "<class 'pandas.core.frame.DataFrame'>\n",
            "Index: 8 entries, 0. None to 7. Professional\n",
            "Data columns (total 4 columns):\n",
            " #   Column  Non-Null Count  Dtype  \n",
            "---  ------  --------------  -----  \n",
            " 0   qr1     8 non-null      float64\n",
            " 1   med     8 non-null      float64\n",
            " 2   qr3     8 non-null      float64\n",
            " 3   count   8 non-null      float64\n",
            "dtypes: float64(4)\n",
            "memory usage: 320.0+ bytes\n",
            "None\n"
          ]
        }
      ]
    },
    {
      "cell_type": "markdown",
      "metadata": {
        "id": "UxPRnl7CSu__"
      },
      "source": [
        "**STEP 11:** รัน groupby โดยไม่สร้าง index เทียบกับที่สร้าง index\n",
        "\n"
      ]
    },
    {
      "cell_type": "code",
      "metadata": {
        "colab": {
          "base_uri": "https://localhost:8080/"
        },
        "id": "gEPcMBgOSvlV",
        "outputId": "1f8ffd77-2be2-47b2-963e-70b7f4f03be3"
      },
      "source": [
        "#run the groupby without creating an index and create a data frame\n",
        "print(nls97b.groupby(['highestdegree'], as_index=False)['weeksworked06'].apply(gettots))\n",
        "print()\n",
        "#run allow the index to be created\n",
        "print(nls97b.groupby(['highestdegree'])['weeksworked06'].apply(gettots).unstack())"
      ],
      "execution_count": 50,
      "outputs": [
        {
          "output_type": "stream",
          "name": "stdout",
          "text": [
            "     highestdegree   qr1   med   qr3   count\n",
            "0          0. None   5.0  34.0  52.0   703.0\n",
            "1           1. GED  13.0  42.0  52.0  1104.0\n",
            "2   2. High School  31.0  52.0  52.0  3368.0\n",
            "3    3. Associates  34.0  52.0  52.0   722.0\n",
            "4     4. Bachelors  38.0  52.0  52.0  1642.0\n",
            "5       5. Masters  39.0  52.0  52.0   601.0\n",
            "6           6. PhD  29.0  50.0  52.0    53.0\n",
            "7  7. Professional   4.0  29.0  49.0   117.0\n",
            "\n",
            "                  qr1   med   qr3   count\n",
            "highestdegree                            \n",
            "0. None           5.0  34.0  52.0   703.0\n",
            "1. GED           13.0  42.0  52.0  1104.0\n",
            "2. High School   31.0  52.0  52.0  3368.0\n",
            "3. Associates    34.0  52.0  52.0   722.0\n",
            "4. Bachelors     38.0  52.0  52.0  1642.0\n",
            "5. Masters       39.0  52.0  52.0   601.0\n",
            "6. PhD           29.0  50.0  52.0    53.0\n",
            "7. Professional   4.0  29.0  49.0   117.0\n"
          ]
        }
      ]
    }
  ]
}