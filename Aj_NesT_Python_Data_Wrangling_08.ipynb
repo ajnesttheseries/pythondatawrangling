{
  "nbformat": 4,
  "nbformat_minor": 0,
  "metadata": {
    "colab": {
      "name": "Aj.NesT - Python Data Wrangling #8",
      "provenance": [],
      "collapsed_sections": []
    },
    "kernelspec": {
      "name": "python3",
      "display_name": "Python 3"
    },
    "language_info": {
      "name": "python"
    }
  },
  "cells": [
    {
      "cell_type": "markdown",
      "metadata": {
        "id": "OtrCo05tRE73"
      },
      "source": [
        "#Data Wrangling with Pandas\n",
        "\n",
        "[Aj. NesT the Series](http://bit.ly/ajnesttheseriesSubscribe)\n",
        "\n",
        "Referenence: [Pyhton Data Cleaning Cookbook 2020](https://github.com/PacktPublishing/Python-Data-Cleaning-Cookbook)\n",
        "\n",
        "##Practice 2: การจัดการค่าที่หายไป การลบข้อมูลแถวที่ซ้ำกัน และการจัดระเบียบข้อมูลตามกลุ่ม\n",
        "\n",
        "--> Managing Missing Values, Removing Duplicated Rows, and Organizing using Groupby  \n",
        "\n",
        "[Python Pandas Cheat Sheets](https://www.enthought.com/wp-content/uploads/Enthought-Python-Pandas-Cheat-Sheets-1-8-v1.0.2.pdf)"
      ]
    },
    {
      "cell_type": "markdown",
      "metadata": {
        "id": "WYvmolVuVVMN"
      },
      "source": [
        "##Workshop 8: ใช้ groupby จัดระเบียบข้อมูลตามกลุ่ม\n",
        "--> Using groupby to organize data by groups\n",
        "\n",
        "###Input Datasets\n",
        "\n",
        "* **[coviddaily720.csv](https://drive.google.com/file/d/1U2c1ouE3oa1rUTtpPkpoLSqwDYWxvn8F/view?usp=sharing)** - COVID-19 daily data 31 Dec 2019 - 12 July 2020. "
      ]
    },
    {
      "cell_type": "markdown",
      "metadata": {
        "id": "mySii_FKZZz-"
      },
      "source": [
        "####Question 8: เราจะเลือกจัดระเบียบข้อมูลเฉพาะกลุ่มที่เราสนใจได้อย่างไร?\n",
        "\n",
        "**STEP 1:** นำเข้า Datasets โดยทำการ Upload ไฟล์ coviddaily720.csv ขึ้น Google Colab (ไฟล์นี้จะถูกลบเมื่อเราหลุดจาก Session หรือปิด Browser) หรือ Python IDE เช่น PyCharm, VSCode, Juputer Notebook, etc.\n",
        "\n",
        "**STEP 2:** นำเข้า pandas และ numpy libraries มาใช้งาน\n",
        "\n",
        "**STEP 3:** ทำการอ่านไฟล์ .csv ด้วย pandas เก็บเป็น Dataframe\n",
        "\n",
        "ใช้คำสั่ง .read_csv() pasrse_dates=[ \"colunm_name\" ] เป็น data type ชนิด datetime"
      ]
    },
    {
      "cell_type": "code",
      "metadata": {
        "id": "4YIssfaTQMPI",
        "colab": {
          "base_uri": "https://localhost:8080/"
        },
        "outputId": "015a30f8-a399-47d7-ec9b-24f18e7c64ef"
      },
      "source": [
        "#import pandas and numpy, and load the covid data\n",
        "import pandas as pd\n",
        "import numpy as np\n",
        "coviddaily = pd.read_csv(\"/content/coviddaily720.csv\", parse_dates=[\"casedate\"])\n",
        "print(coviddaily)\n",
        "print()\n",
        "print(coviddaily.info())"
      ],
      "execution_count": 2,
      "outputs": [
        {
          "output_type": "stream",
          "name": "stdout",
          "text": [
            "      iso_code   casedate  ... hosp_beds           region\n",
            "0          AFG 2019-12-31  ...       0.5       South Asia\n",
            "1          AFG 2020-01-01  ...       0.5       South Asia\n",
            "2          AFG 2020-01-02  ...       0.5       South Asia\n",
            "3          AFG 2020-01-03  ...       0.5       South Asia\n",
            "4          AFG 2020-01-04  ...       0.5       South Asia\n",
            "...        ...        ...  ...       ...              ...\n",
            "29208      ZWE 2020-07-08  ...       1.7  Southern Africa\n",
            "29209      ZWE 2020-07-09  ...       1.7  Southern Africa\n",
            "29210      ZWE 2020-07-10  ...       1.7  Southern Africa\n",
            "29211      ZWE 2020-07-11  ...       1.7  Southern Africa\n",
            "29212      ZWE 2020-07-12  ...       1.7  Southern Africa\n",
            "\n",
            "[29213 rows x 12 columns]\n",
            "\n",
            "<class 'pandas.core.frame.DataFrame'>\n",
            "RangeIndex: 29213 entries, 0 to 29212\n",
            "Data columns (total 12 columns):\n",
            " #   Column          Non-Null Count  Dtype         \n",
            "---  ------          --------------  -----         \n",
            " 0   iso_code        29213 non-null  object        \n",
            " 1   casedate        29213 non-null  datetime64[ns]\n",
            " 2   location        29213 non-null  object        \n",
            " 3   continent       29213 non-null  object        \n",
            " 4   new_cases       29213 non-null  float64       \n",
            " 5   new_deaths      29213 non-null  float64       \n",
            " 6   population      29213 non-null  float64       \n",
            " 7   pop_density     27959 non-null  float64       \n",
            " 8   median_age      26343 non-null  float64       \n",
            " 9   gdp_per_capita  26029 non-null  float64       \n",
            " 10  hosp_beds       24015 non-null  float64       \n",
            " 11  region          29213 non-null  object        \n",
            "dtypes: datetime64[ns](1), float64(7), object(4)\n",
            "memory usage: 2.7+ MB\n",
            "None\n"
          ]
        }
      ]
    },
    {
      "cell_type": "markdown",
      "metadata": {
        "id": "-k8IB6y2D9fM"
      },
      "source": [
        "**STEP 4:** สร้าง DataFrame แบบจัดตามกลุ่ม\n",
        "\n",
        "ใช้คำสั่ง .groupby([ 'column_name' ]) จัดข้อมูลตามกลุ่ม "
      ]
    },
    {
      "cell_type": "code",
      "metadata": {
        "colab": {
          "base_uri": "https://localhost:8080/"
        },
        "id": "nMKrkyG08GE0",
        "outputId": "82c9c5fd-eb08-4460-912e-7aebe918047d"
      },
      "source": [
        "#create a pandas groupby data frame\n",
        "countrytots = coviddaily.groupby(['location']) #จัดระเบียบตามกลุ่มข้อมูล ซ้ำกันจะรวมกัน\n",
        "print(type(countrytots)) #ชนิด DataFrame แบบ GroupBy "
      ],
      "execution_count": 3,
      "outputs": [
        {
          "output_type": "stream",
          "name": "stdout",
          "text": [
            "<class 'pandas.core.groupby.generic.DataFrameGroupBy'>\n"
          ]
        }
      ]
    },
    {
      "cell_type": "markdown",
      "metadata": {
        "id": "TfB6BKmo01PU"
      },
      "source": [
        "**STEP 5:** สร้าง DataFrame ของข้อมูล first rows และ last rows ของแต่ละประเทศ\n",
        "\n",
        "ใช้คำสั่ง .first().iloc[row_index, column_index] แถวบนลงล่าง [ตำแหน่งเลข index เริ่มต้น : สิ้นสุด+1]\n",
        "\n",
        "ใช้คำสั่ง .last().iloc[row_index, column_index] แถวล่างขึ้นบน [ตำแหน่งเลข index เริ่มต้น : สิ้นสุด+1]"
      ]
    },
    {
      "cell_type": "code",
      "metadata": {
        "colab": {
          "base_uri": "https://localhost:8080/"
        },
        "id": "Fva0bgu11aSs",
        "outputId": "a71925a2-a2b9-4ae9-d0be-9d32c1e31e4c"
      },
      "source": [
        "#create data frames for the first and last rows for each country\n",
        "print(countrytots.first().iloc[0:5, 0:5])  #แถวบนลงล่าง \n",
        "print(countrytots.last().iloc[0:5, 0:5])   #แถวล่างขึ้นบน\n",
        "print(type(countrytots.first()))\n",
        "print(type(countrytots.last()))"
      ],
      "execution_count": 4,
      "outputs": [
        {
          "output_type": "stream",
          "name": "stdout",
          "text": [
            "            iso_code   casedate continent  new_cases  new_deaths\n",
            "location                                                        \n",
            "Afghanistan      AFG 2019-12-31      Asia        0.0         0.0\n",
            "Albania          ALB 2020-03-09    Europe        2.0         0.0\n",
            "Algeria          DZA 2019-12-31    Africa        0.0         0.0\n",
            "Andorra          AND 2020-03-03    Europe        1.0         0.0\n",
            "Angola           AGO 2020-03-22    Africa        2.0         0.0\n",
            "            iso_code   casedate continent  new_cases  new_deaths\n",
            "location                                                        \n",
            "Afghanistan      AFG 2020-07-12      Asia       85.0        16.0\n",
            "Albania          ALB 2020-07-12    Europe       93.0         4.0\n",
            "Algeria          DZA 2020-07-12    Africa      904.0        16.0\n",
            "Andorra          AND 2020-07-12    Europe        0.0         0.0\n",
            "Angola           AGO 2020-07-12    Africa       25.0         2.0\n",
            "<class 'pandas.core.frame.DataFrame'>\n",
            "<class 'pandas.core.frame.DataFrame'>\n"
          ]
        }
      ]
    },
    {
      "cell_type": "markdown",
      "metadata": {
        "id": "OuaPeJUh1nHU"
      },
      "source": [
        "**STEP 6:** เลือกแถวข้อมูลทั้งหมดของประเทศที่ต้องการ\n",
        "\n",
        "get all of the rows for a country\n",
        "\n",
        "ใช้คำสั่ง get_group( 'value' ).iloc[ row_index, column_index]"
      ]
    },
    {
      "cell_type": "code",
      "metadata": {
        "colab": {
          "base_uri": "https://localhost:8080/"
        },
        "id": "K3HZR78q1OXw",
        "outputId": "2fcf6459-9f06-426e-da2d-129c05f7669a"
      },
      "source": [
        "#get all of the rows for a country\n",
        "print(countrytots.get_group('Zimbabwe').iloc[0:5, 0:5])  #เลือกค่าที่อยู่ในกลุ่มที่ทำการ groupby\n",
        "print(countrytots.get_group('China').iloc[0:6,0:5])  \n",
        "print(countrytots.get_group('Thailand').iloc[73:79,0:5]) "
      ],
      "execution_count": 5,
      "outputs": [
        {
          "output_type": "stream",
          "name": "stdout",
          "text": [
            "      iso_code   casedate continent  new_cases  new_deaths\n",
            "29099      ZWE 2020-03-21    Africa        1.0         0.0\n",
            "29100      ZWE 2020-03-22    Africa        1.0         0.0\n",
            "29101      ZWE 2020-03-23    Africa        0.0         0.0\n",
            "29102      ZWE 2020-03-24    Africa        0.0         1.0\n",
            "29103      ZWE 2020-03-25    Africa        0.0         0.0\n",
            "     iso_code   casedate continent  new_cases  new_deaths\n",
            "5678      CHN 2019-12-31      Asia       27.0         0.0\n",
            "5679      CHN 2020-01-01      Asia        0.0         0.0\n",
            "5680      CHN 2020-01-02      Asia        0.0         0.0\n",
            "5681      CHN 2020-01-03      Asia       17.0         0.0\n",
            "5682      CHN 2020-01-04      Asia        0.0         0.0\n",
            "5683      CHN 2020-01-05      Asia       15.0         0.0\n",
            "      iso_code   casedate continent  new_cases  new_deaths\n",
            "26395      THA 2020-03-20      Asia       35.0         0.0\n",
            "26396      THA 2020-03-21      Asia      154.0         0.0\n",
            "26397      THA 2020-03-22      Asia      233.0         0.0\n",
            "26398      THA 2020-03-23      Asia      122.0         0.0\n",
            "26399      THA 2020-03-24      Asia      106.0         3.0\n",
            "26400      THA 2020-03-25      Asia      107.0         0.0\n"
          ]
        }
      ]
    },
    {
      "cell_type": "markdown",
      "metadata": {
        "id": "q90QguZeC9LZ"
      },
      "source": [
        "**STEP 7:** สร้างคำสั่งวนซ้ำพร้อมกันหลายประเทศ\n",
        "\n",
        "get all of the rows for a country\n",
        "\n",
        "ใช้คำสั่ง for เขียนโปรแกรมวนซ้ำ"
      ]
    },
    {
      "cell_type": "code",
      "metadata": {
        "colab": {
          "base_uri": "https://localhost:8080/"
        },
        "id": "RsCB0TN_Oy_M",
        "outputId": "4b26af78-a46d-49b8-e8e4-16a95d2eb9f0"
      },
      "source": [
        "#loop through the groups \n",
        "for name, group in countrytots:\n",
        "  if (name in ['China','Thailand','United States']): #เวลาแสดงผลจะเรียงตามตัวอักษร\n",
        "    print(group.iloc[0:30, 0:5])"
      ],
      "execution_count": 7,
      "outputs": [
        {
          "output_type": "stream",
          "name": "stdout",
          "text": [
            "     iso_code   casedate location continent  new_cases\n",
            "5678      CHN 2019-12-31    China      Asia       27.0\n",
            "5679      CHN 2020-01-01    China      Asia        0.0\n",
            "5680      CHN 2020-01-02    China      Asia        0.0\n",
            "5681      CHN 2020-01-03    China      Asia       17.0\n",
            "5682      CHN 2020-01-04    China      Asia        0.0\n",
            "5683      CHN 2020-01-05    China      Asia       15.0\n",
            "5684      CHN 2020-01-06    China      Asia        0.0\n",
            "5685      CHN 2020-01-07    China      Asia        0.0\n",
            "5686      CHN 2020-01-08    China      Asia        0.0\n",
            "5687      CHN 2020-01-09    China      Asia        0.0\n",
            "5688      CHN 2020-01-10    China      Asia        0.0\n",
            "5689      CHN 2020-01-11    China      Asia        0.0\n",
            "5690      CHN 2020-01-12    China      Asia        0.0\n",
            "5691      CHN 2020-01-13    China      Asia        0.0\n",
            "5692      CHN 2020-01-14    China      Asia        0.0\n",
            "5693      CHN 2020-01-15    China      Asia        0.0\n",
            "5694      CHN 2020-01-16    China      Asia        0.0\n",
            "5695      CHN 2020-01-17    China      Asia        4.0\n",
            "5696      CHN 2020-01-18    China      Asia       17.0\n",
            "5697      CHN 2020-01-19    China      Asia      136.0\n",
            "5698      CHN 2020-01-20    China      Asia       19.0\n",
            "5699      CHN 2020-01-21    China      Asia      151.0\n",
            "5700      CHN 2020-01-22    China      Asia      140.0\n",
            "5701      CHN 2020-01-23    China      Asia       97.0\n",
            "5702      CHN 2020-01-24    China      Asia      259.0\n",
            "5703      CHN 2020-01-25    China      Asia      441.0\n",
            "5704      CHN 2020-01-26    China      Asia      665.0\n",
            "5705      CHN 2020-01-27    China      Asia      787.0\n",
            "5706      CHN 2020-01-28    China      Asia     1753.0\n",
            "5707      CHN 2020-01-29    China      Asia     1466.0\n",
            "      iso_code   casedate  location continent  new_cases\n",
            "26322      THA 2019-12-31  Thailand      Asia        0.0\n",
            "26323      THA 2020-01-01  Thailand      Asia        0.0\n",
            "26324      THA 2020-01-02  Thailand      Asia        0.0\n",
            "26325      THA 2020-01-03  Thailand      Asia        0.0\n",
            "26326      THA 2020-01-04  Thailand      Asia        0.0\n",
            "26327      THA 2020-01-05  Thailand      Asia        0.0\n",
            "26328      THA 2020-01-06  Thailand      Asia        0.0\n",
            "26329      THA 2020-01-07  Thailand      Asia        0.0\n",
            "26330      THA 2020-01-08  Thailand      Asia        0.0\n",
            "26331      THA 2020-01-09  Thailand      Asia        0.0\n",
            "26332      THA 2020-01-10  Thailand      Asia        0.0\n",
            "26333      THA 2020-01-11  Thailand      Asia        0.0\n",
            "26334      THA 2020-01-12  Thailand      Asia        0.0\n",
            "26335      THA 2020-01-13  Thailand      Asia        1.0\n",
            "26336      THA 2020-01-14  Thailand      Asia        0.0\n",
            "26337      THA 2020-01-15  Thailand      Asia        0.0\n",
            "26338      THA 2020-01-16  Thailand      Asia        0.0\n",
            "26339      THA 2020-01-17  Thailand      Asia        1.0\n",
            "26340      THA 2020-01-18  Thailand      Asia        0.0\n",
            "26341      THA 2020-01-19  Thailand      Asia        0.0\n",
            "26342      THA 2020-01-20  Thailand      Asia        0.0\n",
            "26343      THA 2020-01-21  Thailand      Asia        0.0\n",
            "26344      THA 2020-01-22  Thailand      Asia        2.0\n",
            "26345      THA 2020-01-23  Thailand      Asia        0.0\n",
            "26346      THA 2020-01-24  Thailand      Asia        0.0\n",
            "26347      THA 2020-01-25  Thailand      Asia        1.0\n",
            "26348      THA 2020-01-26  Thailand      Asia        0.0\n",
            "26349      THA 2020-01-27  Thailand      Asia        3.0\n",
            "26350      THA 2020-01-28  Thailand      Asia        6.0\n",
            "26351      THA 2020-01-29  Thailand      Asia        0.0\n",
            "      iso_code   casedate       location      continent  new_cases\n",
            "27837      USA 2019-12-31  United States  North America        0.0\n",
            "27838      USA 2020-01-01  United States  North America        0.0\n",
            "27839      USA 2020-01-02  United States  North America        0.0\n",
            "27840      USA 2020-01-03  United States  North America        0.0\n",
            "27841      USA 2020-01-04  United States  North America        0.0\n",
            "27842      USA 2020-01-05  United States  North America        0.0\n",
            "27843      USA 2020-01-06  United States  North America        0.0\n",
            "27844      USA 2020-01-07  United States  North America        0.0\n",
            "27845      USA 2020-01-08  United States  North America        0.0\n",
            "27846      USA 2020-01-09  United States  North America        0.0\n",
            "27847      USA 2020-01-10  United States  North America        0.0\n",
            "27848      USA 2020-01-11  United States  North America        0.0\n",
            "27849      USA 2020-01-12  United States  North America        0.0\n",
            "27850      USA 2020-01-13  United States  North America        0.0\n",
            "27851      USA 2020-01-14  United States  North America        0.0\n",
            "27852      USA 2020-01-15  United States  North America        0.0\n",
            "27853      USA 2020-01-16  United States  North America        0.0\n",
            "27854      USA 2020-01-17  United States  North America        0.0\n",
            "27855      USA 2020-01-18  United States  North America        0.0\n",
            "27856      USA 2020-01-19  United States  North America        0.0\n",
            "27857      USA 2020-01-20  United States  North America        0.0\n",
            "27858      USA 2020-01-21  United States  North America        1.0\n",
            "27859      USA 2020-01-22  United States  North America        0.0\n",
            "27860      USA 2020-01-23  United States  North America        0.0\n",
            "27861      USA 2020-01-24  United States  North America        0.0\n",
            "27862      USA 2020-01-25  United States  North America        1.0\n",
            "27863      USA 2020-01-26  United States  North America        0.0\n",
            "27864      USA 2020-01-27  United States  North America        3.0\n",
            "27865      USA 2020-01-28  United States  North America        0.0\n",
            "27866      USA 2020-01-29  United States  North America        0.0\n"
          ]
        }
      ]
    },
    {
      "cell_type": "markdown",
      "metadata": {
        "id": "DWEfFFw9Zl78"
      },
      "source": [
        "**STEP 8:** แสดงค่าผลรวมจำนวนแถวที่เก็บข้อมูลของแต่ละประเทศ\n",
        "\n",
        "sum values for each group\n",
        "\n",
        "ใช้คำสั่ง .size() แสดงจำนวนแถวทั้งหมด"
      ]
    },
    {
      "cell_type": "code",
      "metadata": {
        "colab": {
          "base_uri": "https://localhost:8080/"
        },
        "id": "7A0633L6aQBS",
        "outputId": "9f846262-43b7-4226-b6d0-c13302aee4c9"
      },
      "source": [
        "#show the number of rows for each country\n",
        "print(countrytots.size())"
      ],
      "execution_count": 9,
      "outputs": [
        {
          "output_type": "stream",
          "name": "stdout",
          "text": [
            "location\n",
            "Afghanistan       185\n",
            "Albania           126\n",
            "Algeria           190\n",
            "Andorra           121\n",
            "Angola            113\n",
            "                 ... \n",
            "Vietnam           191\n",
            "Western Sahara     78\n",
            "Yemen              94\n",
            "Zambia            116\n",
            "Zimbabwe          114\n",
            "Length: 209, dtype: int64\n"
          ]
        }
      ]
    },
    {
      "cell_type": "markdown",
      "metadata": {
        "id": "ehQZsvjHuV5I"
      },
      "source": [
        "**STEP 9:** แสดงค่าสถิติของแต่ละประเทศ\n",
        "\n",
        "ใช้คำสั่ง .describe() หาค่า summary statistics\n",
        "\n",
        "ใช้คำสั่ง .sum() หาผลรวม\n"
      ]
    },
    {
      "cell_type": "code",
      "metadata": {
        "colab": {
          "base_uri": "https://localhost:8080/"
        },
        "id": "aRWZXIRfuady",
        "outputId": "e96a7405-b112-4a78-fa58-62300b495a3a"
      },
      "source": [
        "#show summary statistics by country\n",
        "print(countrytots.new_cases.describe().head())\n",
        "print()\n",
        "print(countrytots.new_cases.sum().head())"
      ],
      "execution_count": 11,
      "outputs": [
        {
          "output_type": "stream",
          "name": "stdout",
          "text": [
            "             count        mean         std  min  25%   50%     75%     max\n",
            "location                                                                  \n",
            "Afghanistan  185.0  186.221622  257.305202  0.0  0.0  37.0  302.00  1063.0\n",
            "Albania      126.0   26.753968   24.651389  0.0  9.0  17.0   35.50    93.0\n",
            "Algeria      190.0   98.484211  123.980103  0.0  0.0  88.0  149.75   904.0\n",
            "Andorra      121.0    7.066116   12.716614  0.0  0.0   1.0    9.00    79.0\n",
            "Angola       113.0    4.274336    8.509709  0.0  0.0   1.0    5.00    62.0\n",
            "\n",
            "location\n",
            "Afghanistan    34451.0\n",
            "Albania         3371.0\n",
            "Algeria        18712.0\n",
            "Andorra          855.0\n",
            "Angola           483.0\n",
            "Name: new_cases, dtype: float64\n"
          ]
        }
      ]
    }
  ]
}